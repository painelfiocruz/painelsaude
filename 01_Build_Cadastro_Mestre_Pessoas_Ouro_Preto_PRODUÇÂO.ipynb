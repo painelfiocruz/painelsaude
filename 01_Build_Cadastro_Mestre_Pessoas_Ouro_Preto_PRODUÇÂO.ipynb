{
  "nbformat": 4,
  "nbformat_minor": 0,
  "metadata": {
    "colab": {
      "provenance": [],
      "collapsed_sections": [
        "HsJIRI27LKUl",
        "MZYFr2US8cKL",
        "1eq7toar8lXD",
        "uJx9ipbdUYSo",
        "mc2SRy-KVx_G",
        "Q-Ux9-6bncbI",
        "hxKJyd1Un3GY",
        "A9YAp5D5ol3h",
        "eLUZYq_zzNwz",
        "EfvlXKgg2weH",
        "uPd9PuYt5u-k",
        "5QUrAFjw_q3g",
        "Hq8r1vOnC52a",
        "l4dsBu6cEMNG",
        "yH5liCRU_q3r",
        "QemTlUZw_q3x",
        "lyxZINfsPsMZ",
        "nk-Zi34oHIwG",
        "PiV_s49fNauJ",
        "TUUmMtihPcy2",
        "CXAWwvvCP0uj",
        "dQgrA2C3LPcq",
        "7tqUcJT2RHBG",
        "dow3PB6IBiKY"
      ]
    },
    "kernelspec": {
      "display_name": "Python 3",
      "name": "python3"
    }
  },
  "cells": [
    {
      "cell_type": "markdown",
      "metadata": {
        "id": "HsJIRI27LKUl"
      },
      "source": [
        "#**Desenvolvimento do Cadastro_Mestre_Pessoas**"
      ]
    },
    {
      "cell_type": "markdown",
      "metadata": {
        "id": "MZYFr2US8cKL"
      },
      "source": [
        "##Importando das bibliotecas"
      ]
    },
    {
      "cell_type": "code",
      "metadata": {
        "id": "Z0Lg4E_xllCq"
      },
      "source": [
        "import pandas as pd\n",
        "import numpy as np"
      ],
      "execution_count": null,
      "outputs": []
    },
    {
      "cell_type": "code",
      "metadata": {
        "id": "09LfWo77Yxg1"
      },
      "source": [
        "pd.set_option('display.max_rows', 500)\n",
        "pd.set_option('display.max_columns', 500)\n",
        "pd.set_option('display.width', 1000)"
      ],
      "execution_count": null,
      "outputs": []
    },
    {
      "cell_type": "markdown",
      "metadata": {
        "id": "1eq7toar8lXD"
      },
      "source": [
        "##Acesso às tabelas"
      ]
    },
    {
      "cell_type": "code",
      "metadata": {
        "id": "efaNmOIs2_xq",
        "colab": {
          "base_uri": "https://localhost:8080/"
        },
        "outputId": "63eba53f-2e41-4f6e-d391-8d7a6ffecf0c"
      },
      "source": [
        "from google.colab import drive\n",
        "drive.mount('/content/gdrive/',force_remount=True)\n",
        "!ls /content/gdrive/"
      ],
      "execution_count": null,
      "outputs": [
        {
          "output_type": "stream",
          "name": "stdout",
          "text": [
            "Mounted at /content/gdrive/\n",
            "MyDrive  Othercomputers  Shareddrives\n"
          ]
        }
      ]
    },
    {
      "cell_type": "markdown",
      "metadata": {
        "id": "uJx9ipbdUYSo"
      },
      "source": [
        "## Upload das tabelas - Ouro Preto"
      ]
    },
    {
      "cell_type": "code",
      "metadata": {
        "id": "AD4vgCcbwjKH"
      },
      "source": [
        "cidadao_pec = pd.read_csv('/content/gdrive/Shareddrives/eSUS_Colab/PAINEL_OURO_PRETO/INPUT/tb_fat_cidadao_pec.csv',sep=';',engine='python', decimal = ',',keep_default_na=False)\n",
        "cidadao_pec = cidadao_pec.drop_duplicates()"
      ],
      "execution_count": null,
      "outputs": []
    },
    {
      "cell_type": "code",
      "metadata": {
        "id": "7f72bRjHwjsR"
      },
      "source": [
        "cidadao_territorio = pd.read_csv('/content/gdrive/Shareddrives/eSUS_Colab/PAINEL_OURO_PRETO/INPUT/tb_fat_cidadao_territorio.csv',sep=';',engine='python', decimal = ',')\n",
        "cidadao_territorio = cidadao_territorio.drop_duplicates()"
      ],
      "execution_count": null,
      "outputs": []
    },
    {
      "cell_type": "code",
      "metadata": {
        "id": "ybkHlK_OyHBm"
      },
      "source": [
        "familia_territorio = pd.read_csv('/content/gdrive/Shareddrives/eSUS_Colab/PAINEL_OURO_PRETO/INPUT/tb_fat_familia_territorio.csv',sep=';',engine='python', decimal = ',')\n",
        "familia_territorio = familia_territorio.drop_duplicates()"
      ],
      "execution_count": null,
      "outputs": []
    },
    {
      "cell_type": "code",
      "metadata": {
        "id": "BuDh_BMFQ4jZ"
      },
      "source": [
        "cad_domiciliar = pd.read_csv('/content/gdrive/Shareddrives/eSUS_Colab/PAINEL_OURO_PRETO/INPUT/tb_fat_cad_domiciliar.csv',sep=';',engine='python', decimal = ',')\n",
        "cad_domiciliar = cad_domiciliar.drop_duplicates()"
      ],
      "execution_count": null,
      "outputs": []
    },
    {
      "cell_type": "code",
      "metadata": {
        "id": "aLyeSRSfQ4K9"
      },
      "source": [
        "cad_individual = pd.read_csv('/content/gdrive/Shareddrives/eSUS_Colab/PAINEL_OURO_PRETO/INPUT/tb_fat_cad_individual.csv',sep=';',engine='python', decimal = ',')\n",
        "cad_individual = cad_individual.drop_duplicates()"
      ],
      "execution_count": null,
      "outputs": []
    },
    {
      "cell_type": "markdown",
      "metadata": {
        "id": "mc2SRy-KVx_G"
      },
      "source": [
        "## Contagem de linhas e colunas"
      ]
    },
    {
      "cell_type": "code",
      "metadata": {
        "id": "e31ZzKJ95t9Z",
        "colab": {
          "base_uri": "https://localhost:8080/"
        },
        "outputId": "3da79faf-2830-4d6f-ccd5-11df26d6cb95"
      },
      "source": [
        "cidadao_pec.shape"
      ],
      "execution_count": null,
      "outputs": [
        {
          "output_type": "execute_result",
          "data": {
            "text/plain": [
              "(135558, 15)"
            ]
          },
          "metadata": {},
          "execution_count": 9
        }
      ]
    },
    {
      "cell_type": "code",
      "metadata": {
        "id": "WTONDVo45uuq",
        "colab": {
          "base_uri": "https://localhost:8080/"
        },
        "outputId": "3241f285-9321-4652-f99b-aaeb6cf284a3"
      },
      "source": [
        "cidadao_territorio.shape"
      ],
      "execution_count": null,
      "outputs": [
        {
          "output_type": "execute_result",
          "data": {
            "text/plain": [
              "(91795, 17)"
            ]
          },
          "metadata": {},
          "execution_count": 10
        }
      ]
    },
    {
      "cell_type": "code",
      "metadata": {
        "id": "I2LjDlbw5vni",
        "colab": {
          "base_uri": "https://localhost:8080/"
        },
        "outputId": "a9a44535-fab9-4271-ab62-8c7036813bff"
      },
      "source": [
        "familia_territorio.shape"
      ],
      "execution_count": null,
      "outputs": [
        {
          "output_type": "execute_result",
          "data": {
            "text/plain": [
              "(30455, 19)"
            ]
          },
          "metadata": {},
          "execution_count": 11
        }
      ]
    },
    {
      "cell_type": "code",
      "metadata": {
        "id": "4p0EHsqiSU7w",
        "colab": {
          "base_uri": "https://localhost:8080/"
        },
        "outputId": "8a6bbe29-62f9-40e2-a27e-ff022a00429d"
      },
      "source": [
        "cad_domiciliar.shape"
      ],
      "execution_count": null,
      "outputs": [
        {
          "output_type": "execute_result",
          "data": {
            "text/plain": [
              "(64940, 61)"
            ]
          },
          "metadata": {},
          "execution_count": 12
        }
      ]
    },
    {
      "cell_type": "code",
      "metadata": {
        "id": "fTQELjc2SUsx",
        "colab": {
          "base_uri": "https://localhost:8080/"
        },
        "outputId": "edfa4883-a738-41f5-c2b1-f31f9ce691a5"
      },
      "source": [
        "cad_individual.shape"
      ],
      "execution_count": null,
      "outputs": [
        {
          "output_type": "execute_result",
          "data": {
            "text/plain": [
              "(181208, 134)"
            ]
          },
          "metadata": {},
          "execution_count": 13
        }
      ]
    },
    {
      "cell_type": "markdown",
      "metadata": {
        "id": "Q-Ux9-6bncbI"
      },
      "source": [
        "## Processamento (limpeza das bases)"
      ]
    },
    {
      "cell_type": "markdown",
      "metadata": {
        "id": "hxKJyd1Un3GY"
      },
      "source": [
        "###Cadastro Individual"
      ]
    },
    {
      "cell_type": "code",
      "metadata": {
        "id": "FsdmGf-HpLES",
        "colab": {
          "base_uri": "https://localhost:8080/",
          "height": 197
        },
        "outputId": "b6f9a338-9d30-408a-f4a2-95d58ac97442"
      },
      "source": [
        "cad_individual.head(1)\n"
      ],
      "execution_count": null,
      "outputs": [
        {
          "output_type": "execute_result",
          "data": {
            "text/plain": [
              "   co_seq_fat_cad_individual                                 nu_uuid_ficha                          nu_uuid_ficha_origem  st_recusa_cadastro  nu_cns dt_nascimento  st_desconhece_mae  co_dim_profissional  co_dim_tipo_ficha  co_dim_municipio  co_dim_unidade_saude  co_dim_equipe  co_dim_tempo  co_dim_tempo_validade  co_dim_tempo_validade_recusa  co_dim_sexo  co_dim_raca_cor  co_dim_nacionalidade  co_dim_pais_nascimento  co_dim_municipio_cidadao nu_cns_responsavel  st_responsavel_familiar  st_frequenta_creche  st_frequenta_cuidador  st_participa_grupo_comunitario  st_plano_saude_privado  st_comunidade_tradicional  st_deficiencia  st_defi_auditiva  st_defi_intelectual_cognitiva  st_defi_outra  st_defi_visual  st_defi_fisica  st_gestante  st_doenca_respiratoria  st_doenca_respira_asma  st_doenca_respira_dpoc_enfisem  st_doenca_respira_outra  st_doenca_respira_n_sabe  st_fumante  st_alcool  st_outra_droga  st_hipertensao_arterial  st_diabete  st_avc  st_infarto  st_hanseniase  \\\n",
              "0                    1236951  2112604-eade448e-a8f6-45dd-95d4-d51049986c92  2112604-eade448e-a8f6-45dd-95d4-d51049986c92                   0       0    1936-11-21                  0                 7805                  2              9196                   500            335      20200504               30001231                      30001231            2                3                     1                      31                      9196                NaN                      1.0                  0.0                    0.0                             0.0                     0.0                        0.0               0                 0                              0              0               0               0          NaN                     NaN                       0                               0                        0                         0         0.0        0.0             0.0                      NaN         NaN     NaN         NaN            0.0   \n",
              "\n",
              "   st_tuberculose  st_cancer  st_internacao_12  st_tratamento_psiquiatra  st_acamado  st_domiciliado  st_usa_planta_medicinal  st_doenca_cardiaca  st_doenca_card_insuficiencia  st_doenca_card_outro  st_doenca_card_n_sabe  st_problema_rins  st_problema_rins_insuficiencia  st_problema_rins_outro  st_problema_rins_nao_sabe  st_pic  st_morador_rua  st_recebe_beneficio  st_referencia_familiar  co_dim_frequencia_alimentacao  st_orig_alimen_restaurante_pop  st_orig_alimen_doacao_reli  st_orig_alimen_doacao_rest  st_orig_alimen_doacao_popular  st_orig_alimen_outros  st_acompanhado_instituicao  st_visita_familiar_frequente  st_higiene_pessoal_acesso  st_hig_pess_banho  st_hig_pess_sanitario  st_hig_pess_higiene_bucal  st_hig_pess_outros  co_dim_tipo_parentesco  co_dim_cbo  co_dim_tipo_escolaridade  co_dim_situacao_trabalho  co_dim_tipo_orientacao_sexual  co_dim_tipo_saida_cadastro  co_dim_tipo_condicao_peso  co_dim_tempo_morador_rua  co_dim_etnia  co_dim_cbo_cidadao  co_dim_identidade_genero  \\\n",
              "0             0.0        NaN               NaN                       NaN         0.0             0.0                      0.0                 NaN                             0                     0                      0               NaN                               0                       0                          0     0.0             0.0                  NaN                     NaN                              4                               0                           0                           0                              0                      0                         NaN                           NaN                        NaN                  0                      0                          0                   0                      11        5618                        16                         6                              5                           3                          4                         5           265                   1                         5   \n",
              "\n",
              "   co_dim_faixa_etaria  st_desconhece_pai  st_informar_orientacao_sexual  st_informar_identidade_genero dt_naturalizacao dt_entrada_brasil dt_obito  st_respons_crianca_adulto_resp  st_respons_crianca_outra_crian  st_respons_crianca_adolescente  st_respons_crianca_sozinha  st_respons_crianca_creche  st_respons_crianca_outro nu_micro_area  st_processo_linha_tempo  st_processo_cidadao                                            no_nome no_nome_social                                        no_nome_mae                                        no_nome_pai nu_nis nu_portaria_naturalizacao                        nu_celular no_email nu_obito_do no_maternidade_referencia no_causa_internacao12 no_plantas_medicinais no_outra_condicao1 no_outra_condicao2 no_outra_condicao3 no_acompanhado_instituicao no_visita_familiar_parentesco                           nu_uuid_dado_transp  co_dim_tipo_origem_dado_transp  co_dim_cds_tipo_origem  st_gerado_automaticamente  st_ficha_inativa  co_fat_cidadao_pec  \\\n",
              "0                   21                  0                            0.0                            0.0              NaN               NaN      NaN                               0                               0                               0                           0                          0                         0            06                        0                    0  e9c8225975104d6a9ca46aa0c0ba272aa254dbdd027a9d...            NaN  d7fe7a9e11af7a6196be6e941f3e1646d8ae93161cad6d...  266820bebed58b0d11d36a09739bdcd7c18e3b78fe361e...    NaN                       NaN  3c55192c8bdd846e7e34a37bb3836118      NaN         NaN                       NaN                   NaN                   NaN                NaN                NaN                NaN                        NaN                           NaN  2112604-eade448e-a8f6-45dd-95d4-d51049986c92                               3                       3                          0                 0              780359   \n",
              "\n",
              "   co_fat_cidadao_pec_responsvl  st_proc_operacionais  nu_cpf_cidadao  nu_cpf_responsavel  co_dim_povo_comunidad_trad  \n",
              "0                           NaN                     0     24196312691                 NaN                         NaN  "
            ],
            "text/html": [
              "\n",
              "  <div id=\"df-d277dd5c-5179-4b14-ad66-d55b53bcc1ee\">\n",
              "    <div class=\"colab-df-container\">\n",
              "      <div>\n",
              "<style scoped>\n",
              "    .dataframe tbody tr th:only-of-type {\n",
              "        vertical-align: middle;\n",
              "    }\n",
              "\n",
              "    .dataframe tbody tr th {\n",
              "        vertical-align: top;\n",
              "    }\n",
              "\n",
              "    .dataframe thead th {\n",
              "        text-align: right;\n",
              "    }\n",
              "</style>\n",
              "<table border=\"1\" class=\"dataframe\">\n",
              "  <thead>\n",
              "    <tr style=\"text-align: right;\">\n",
              "      <th></th>\n",
              "      <th>co_seq_fat_cad_individual</th>\n",
              "      <th>nu_uuid_ficha</th>\n",
              "      <th>nu_uuid_ficha_origem</th>\n",
              "      <th>st_recusa_cadastro</th>\n",
              "      <th>nu_cns</th>\n",
              "      <th>dt_nascimento</th>\n",
              "      <th>st_desconhece_mae</th>\n",
              "      <th>co_dim_profissional</th>\n",
              "      <th>co_dim_tipo_ficha</th>\n",
              "      <th>co_dim_municipio</th>\n",
              "      <th>co_dim_unidade_saude</th>\n",
              "      <th>co_dim_equipe</th>\n",
              "      <th>co_dim_tempo</th>\n",
              "      <th>co_dim_tempo_validade</th>\n",
              "      <th>co_dim_tempo_validade_recusa</th>\n",
              "      <th>co_dim_sexo</th>\n",
              "      <th>co_dim_raca_cor</th>\n",
              "      <th>co_dim_nacionalidade</th>\n",
              "      <th>co_dim_pais_nascimento</th>\n",
              "      <th>co_dim_municipio_cidadao</th>\n",
              "      <th>nu_cns_responsavel</th>\n",
              "      <th>st_responsavel_familiar</th>\n",
              "      <th>st_frequenta_creche</th>\n",
              "      <th>st_frequenta_cuidador</th>\n",
              "      <th>st_participa_grupo_comunitario</th>\n",
              "      <th>st_plano_saude_privado</th>\n",
              "      <th>st_comunidade_tradicional</th>\n",
              "      <th>st_deficiencia</th>\n",
              "      <th>st_defi_auditiva</th>\n",
              "      <th>st_defi_intelectual_cognitiva</th>\n",
              "      <th>st_defi_outra</th>\n",
              "      <th>st_defi_visual</th>\n",
              "      <th>st_defi_fisica</th>\n",
              "      <th>st_gestante</th>\n",
              "      <th>st_doenca_respiratoria</th>\n",
              "      <th>st_doenca_respira_asma</th>\n",
              "      <th>st_doenca_respira_dpoc_enfisem</th>\n",
              "      <th>st_doenca_respira_outra</th>\n",
              "      <th>st_doenca_respira_n_sabe</th>\n",
              "      <th>st_fumante</th>\n",
              "      <th>st_alcool</th>\n",
              "      <th>st_outra_droga</th>\n",
              "      <th>st_hipertensao_arterial</th>\n",
              "      <th>st_diabete</th>\n",
              "      <th>st_avc</th>\n",
              "      <th>st_infarto</th>\n",
              "      <th>st_hanseniase</th>\n",
              "      <th>st_tuberculose</th>\n",
              "      <th>st_cancer</th>\n",
              "      <th>st_internacao_12</th>\n",
              "      <th>st_tratamento_psiquiatra</th>\n",
              "      <th>st_acamado</th>\n",
              "      <th>st_domiciliado</th>\n",
              "      <th>st_usa_planta_medicinal</th>\n",
              "      <th>st_doenca_cardiaca</th>\n",
              "      <th>st_doenca_card_insuficiencia</th>\n",
              "      <th>st_doenca_card_outro</th>\n",
              "      <th>st_doenca_card_n_sabe</th>\n",
              "      <th>st_problema_rins</th>\n",
              "      <th>st_problema_rins_insuficiencia</th>\n",
              "      <th>st_problema_rins_outro</th>\n",
              "      <th>st_problema_rins_nao_sabe</th>\n",
              "      <th>st_pic</th>\n",
              "      <th>st_morador_rua</th>\n",
              "      <th>st_recebe_beneficio</th>\n",
              "      <th>st_referencia_familiar</th>\n",
              "      <th>co_dim_frequencia_alimentacao</th>\n",
              "      <th>st_orig_alimen_restaurante_pop</th>\n",
              "      <th>st_orig_alimen_doacao_reli</th>\n",
              "      <th>st_orig_alimen_doacao_rest</th>\n",
              "      <th>st_orig_alimen_doacao_popular</th>\n",
              "      <th>st_orig_alimen_outros</th>\n",
              "      <th>st_acompanhado_instituicao</th>\n",
              "      <th>st_visita_familiar_frequente</th>\n",
              "      <th>st_higiene_pessoal_acesso</th>\n",
              "      <th>st_hig_pess_banho</th>\n",
              "      <th>st_hig_pess_sanitario</th>\n",
              "      <th>st_hig_pess_higiene_bucal</th>\n",
              "      <th>st_hig_pess_outros</th>\n",
              "      <th>co_dim_tipo_parentesco</th>\n",
              "      <th>co_dim_cbo</th>\n",
              "      <th>co_dim_tipo_escolaridade</th>\n",
              "      <th>co_dim_situacao_trabalho</th>\n",
              "      <th>co_dim_tipo_orientacao_sexual</th>\n",
              "      <th>co_dim_tipo_saida_cadastro</th>\n",
              "      <th>co_dim_tipo_condicao_peso</th>\n",
              "      <th>co_dim_tempo_morador_rua</th>\n",
              "      <th>co_dim_etnia</th>\n",
              "      <th>co_dim_cbo_cidadao</th>\n",
              "      <th>co_dim_identidade_genero</th>\n",
              "      <th>co_dim_faixa_etaria</th>\n",
              "      <th>st_desconhece_pai</th>\n",
              "      <th>st_informar_orientacao_sexual</th>\n",
              "      <th>st_informar_identidade_genero</th>\n",
              "      <th>dt_naturalizacao</th>\n",
              "      <th>dt_entrada_brasil</th>\n",
              "      <th>dt_obito</th>\n",
              "      <th>st_respons_crianca_adulto_resp</th>\n",
              "      <th>st_respons_crianca_outra_crian</th>\n",
              "      <th>st_respons_crianca_adolescente</th>\n",
              "      <th>st_respons_crianca_sozinha</th>\n",
              "      <th>st_respons_crianca_creche</th>\n",
              "      <th>st_respons_crianca_outro</th>\n",
              "      <th>nu_micro_area</th>\n",
              "      <th>st_processo_linha_tempo</th>\n",
              "      <th>st_processo_cidadao</th>\n",
              "      <th>no_nome</th>\n",
              "      <th>no_nome_social</th>\n",
              "      <th>no_nome_mae</th>\n",
              "      <th>no_nome_pai</th>\n",
              "      <th>nu_nis</th>\n",
              "      <th>nu_portaria_naturalizacao</th>\n",
              "      <th>nu_celular</th>\n",
              "      <th>no_email</th>\n",
              "      <th>nu_obito_do</th>\n",
              "      <th>no_maternidade_referencia</th>\n",
              "      <th>no_causa_internacao12</th>\n",
              "      <th>no_plantas_medicinais</th>\n",
              "      <th>no_outra_condicao1</th>\n",
              "      <th>no_outra_condicao2</th>\n",
              "      <th>no_outra_condicao3</th>\n",
              "      <th>no_acompanhado_instituicao</th>\n",
              "      <th>no_visita_familiar_parentesco</th>\n",
              "      <th>nu_uuid_dado_transp</th>\n",
              "      <th>co_dim_tipo_origem_dado_transp</th>\n",
              "      <th>co_dim_cds_tipo_origem</th>\n",
              "      <th>st_gerado_automaticamente</th>\n",
              "      <th>st_ficha_inativa</th>\n",
              "      <th>co_fat_cidadao_pec</th>\n",
              "      <th>co_fat_cidadao_pec_responsvl</th>\n",
              "      <th>st_proc_operacionais</th>\n",
              "      <th>nu_cpf_cidadao</th>\n",
              "      <th>nu_cpf_responsavel</th>\n",
              "      <th>co_dim_povo_comunidad_trad</th>\n",
              "    </tr>\n",
              "  </thead>\n",
              "  <tbody>\n",
              "    <tr>\n",
              "      <th>0</th>\n",
              "      <td>1236951</td>\n",
              "      <td>2112604-eade448e-a8f6-45dd-95d4-d51049986c92</td>\n",
              "      <td>2112604-eade448e-a8f6-45dd-95d4-d51049986c92</td>\n",
              "      <td>0</td>\n",
              "      <td>0</td>\n",
              "      <td>1936-11-21</td>\n",
              "      <td>0</td>\n",
              "      <td>7805</td>\n",
              "      <td>2</td>\n",
              "      <td>9196</td>\n",
              "      <td>500</td>\n",
              "      <td>335</td>\n",
              "      <td>20200504</td>\n",
              "      <td>30001231</td>\n",
              "      <td>30001231</td>\n",
              "      <td>2</td>\n",
              "      <td>3</td>\n",
              "      <td>1</td>\n",
              "      <td>31</td>\n",
              "      <td>9196</td>\n",
              "      <td>NaN</td>\n",
              "      <td>1.0</td>\n",
              "      <td>0.0</td>\n",
              "      <td>0.0</td>\n",
              "      <td>0.0</td>\n",
              "      <td>0.0</td>\n",
              "      <td>0.0</td>\n",
              "      <td>0</td>\n",
              "      <td>0</td>\n",
              "      <td>0</td>\n",
              "      <td>0</td>\n",
              "      <td>0</td>\n",
              "      <td>0</td>\n",
              "      <td>NaN</td>\n",
              "      <td>NaN</td>\n",
              "      <td>0</td>\n",
              "      <td>0</td>\n",
              "      <td>0</td>\n",
              "      <td>0</td>\n",
              "      <td>0.0</td>\n",
              "      <td>0.0</td>\n",
              "      <td>0.0</td>\n",
              "      <td>NaN</td>\n",
              "      <td>NaN</td>\n",
              "      <td>NaN</td>\n",
              "      <td>NaN</td>\n",
              "      <td>0.0</td>\n",
              "      <td>0.0</td>\n",
              "      <td>NaN</td>\n",
              "      <td>NaN</td>\n",
              "      <td>NaN</td>\n",
              "      <td>0.0</td>\n",
              "      <td>0.0</td>\n",
              "      <td>0.0</td>\n",
              "      <td>NaN</td>\n",
              "      <td>0</td>\n",
              "      <td>0</td>\n",
              "      <td>0</td>\n",
              "      <td>NaN</td>\n",
              "      <td>0</td>\n",
              "      <td>0</td>\n",
              "      <td>0</td>\n",
              "      <td>0.0</td>\n",
              "      <td>0.0</td>\n",
              "      <td>NaN</td>\n",
              "      <td>NaN</td>\n",
              "      <td>4</td>\n",
              "      <td>0</td>\n",
              "      <td>0</td>\n",
              "      <td>0</td>\n",
              "      <td>0</td>\n",
              "      <td>0</td>\n",
              "      <td>NaN</td>\n",
              "      <td>NaN</td>\n",
              "      <td>NaN</td>\n",
              "      <td>0</td>\n",
              "      <td>0</td>\n",
              "      <td>0</td>\n",
              "      <td>0</td>\n",
              "      <td>11</td>\n",
              "      <td>5618</td>\n",
              "      <td>16</td>\n",
              "      <td>6</td>\n",
              "      <td>5</td>\n",
              "      <td>3</td>\n",
              "      <td>4</td>\n",
              "      <td>5</td>\n",
              "      <td>265</td>\n",
              "      <td>1</td>\n",
              "      <td>5</td>\n",
              "      <td>21</td>\n",
              "      <td>0</td>\n",
              "      <td>0.0</td>\n",
              "      <td>0.0</td>\n",
              "      <td>NaN</td>\n",
              "      <td>NaN</td>\n",
              "      <td>NaN</td>\n",
              "      <td>0</td>\n",
              "      <td>0</td>\n",
              "      <td>0</td>\n",
              "      <td>0</td>\n",
              "      <td>0</td>\n",
              "      <td>0</td>\n",
              "      <td>06</td>\n",
              "      <td>0</td>\n",
              "      <td>0</td>\n",
              "      <td>e9c8225975104d6a9ca46aa0c0ba272aa254dbdd027a9d...</td>\n",
              "      <td>NaN</td>\n",
              "      <td>d7fe7a9e11af7a6196be6e941f3e1646d8ae93161cad6d...</td>\n",
              "      <td>266820bebed58b0d11d36a09739bdcd7c18e3b78fe361e...</td>\n",
              "      <td>NaN</td>\n",
              "      <td>NaN</td>\n",
              "      <td>3c55192c8bdd846e7e34a37bb3836118</td>\n",
              "      <td>NaN</td>\n",
              "      <td>NaN</td>\n",
              "      <td>NaN</td>\n",
              "      <td>NaN</td>\n",
              "      <td>NaN</td>\n",
              "      <td>NaN</td>\n",
              "      <td>NaN</td>\n",
              "      <td>NaN</td>\n",
              "      <td>NaN</td>\n",
              "      <td>NaN</td>\n",
              "      <td>2112604-eade448e-a8f6-45dd-95d4-d51049986c92</td>\n",
              "      <td>3</td>\n",
              "      <td>3</td>\n",
              "      <td>0</td>\n",
              "      <td>0</td>\n",
              "      <td>780359</td>\n",
              "      <td>NaN</td>\n",
              "      <td>0</td>\n",
              "      <td>24196312691</td>\n",
              "      <td>NaN</td>\n",
              "      <td>NaN</td>\n",
              "    </tr>\n",
              "  </tbody>\n",
              "</table>\n",
              "</div>\n",
              "      <button class=\"colab-df-convert\" onclick=\"convertToInteractive('df-d277dd5c-5179-4b14-ad66-d55b53bcc1ee')\"\n",
              "              title=\"Convert this dataframe to an interactive table.\"\n",
              "              style=\"display:none;\">\n",
              "        \n",
              "  <svg xmlns=\"http://www.w3.org/2000/svg\" height=\"24px\"viewBox=\"0 0 24 24\"\n",
              "       width=\"24px\">\n",
              "    <path d=\"M0 0h24v24H0V0z\" fill=\"none\"/>\n",
              "    <path d=\"M18.56 5.44l.94 2.06.94-2.06 2.06-.94-2.06-.94-.94-2.06-.94 2.06-2.06.94zm-11 1L8.5 8.5l.94-2.06 2.06-.94-2.06-.94L8.5 2.5l-.94 2.06-2.06.94zm10 10l.94 2.06.94-2.06 2.06-.94-2.06-.94-.94-2.06-.94 2.06-2.06.94z\"/><path d=\"M17.41 7.96l-1.37-1.37c-.4-.4-.92-.59-1.43-.59-.52 0-1.04.2-1.43.59L10.3 9.45l-7.72 7.72c-.78.78-.78 2.05 0 2.83L4 21.41c.39.39.9.59 1.41.59.51 0 1.02-.2 1.41-.59l7.78-7.78 2.81-2.81c.8-.78.8-2.07 0-2.86zM5.41 20L4 18.59l7.72-7.72 1.47 1.35L5.41 20z\"/>\n",
              "  </svg>\n",
              "      </button>\n",
              "      \n",
              "  <style>\n",
              "    .colab-df-container {\n",
              "      display:flex;\n",
              "      flex-wrap:wrap;\n",
              "      gap: 12px;\n",
              "    }\n",
              "\n",
              "    .colab-df-convert {\n",
              "      background-color: #E8F0FE;\n",
              "      border: none;\n",
              "      border-radius: 50%;\n",
              "      cursor: pointer;\n",
              "      display: none;\n",
              "      fill: #1967D2;\n",
              "      height: 32px;\n",
              "      padding: 0 0 0 0;\n",
              "      width: 32px;\n",
              "    }\n",
              "\n",
              "    .colab-df-convert:hover {\n",
              "      background-color: #E2EBFA;\n",
              "      box-shadow: 0px 1px 2px rgba(60, 64, 67, 0.3), 0px 1px 3px 1px rgba(60, 64, 67, 0.15);\n",
              "      fill: #174EA6;\n",
              "    }\n",
              "\n",
              "    [theme=dark] .colab-df-convert {\n",
              "      background-color: #3B4455;\n",
              "      fill: #D2E3FC;\n",
              "    }\n",
              "\n",
              "    [theme=dark] .colab-df-convert:hover {\n",
              "      background-color: #434B5C;\n",
              "      box-shadow: 0px 1px 3px 1px rgba(0, 0, 0, 0.15);\n",
              "      filter: drop-shadow(0px 1px 2px rgba(0, 0, 0, 0.3));\n",
              "      fill: #FFFFFF;\n",
              "    }\n",
              "  </style>\n",
              "\n",
              "      <script>\n",
              "        const buttonEl =\n",
              "          document.querySelector('#df-d277dd5c-5179-4b14-ad66-d55b53bcc1ee button.colab-df-convert');\n",
              "        buttonEl.style.display =\n",
              "          google.colab.kernel.accessAllowed ? 'block' : 'none';\n",
              "\n",
              "        async function convertToInteractive(key) {\n",
              "          const element = document.querySelector('#df-d277dd5c-5179-4b14-ad66-d55b53bcc1ee');\n",
              "          const dataTable =\n",
              "            await google.colab.kernel.invokeFunction('convertToInteractive',\n",
              "                                                     [key], {});\n",
              "          if (!dataTable) return;\n",
              "\n",
              "          const docLinkHtml = 'Like what you see? Visit the ' +\n",
              "            '<a target=\"_blank\" href=https://colab.research.google.com/notebooks/data_table.ipynb>data table notebook</a>'\n",
              "            + ' to learn more about interactive tables.';\n",
              "          element.innerHTML = '';\n",
              "          dataTable['output_type'] = 'display_data';\n",
              "          await google.colab.output.renderOutput(dataTable, element);\n",
              "          const docLink = document.createElement('div');\n",
              "          docLink.innerHTML = docLinkHtml;\n",
              "          element.appendChild(docLink);\n",
              "        }\n",
              "      </script>\n",
              "    </div>\n",
              "  </div>\n",
              "  "
            ]
          },
          "metadata": {},
          "execution_count": 14
        }
      ]
    },
    {
      "cell_type": "code",
      "metadata": {
        "colab": {
          "base_uri": "https://localhost:8080/"
        },
        "id": "F-FemryKudXG",
        "outputId": "d0bdb9a8-d9ef-4b12-ae58-37258df774db"
      },
      "source": [
        "cad_individual.shape"
      ],
      "execution_count": null,
      "outputs": [
        {
          "output_type": "execute_result",
          "data": {
            "text/plain": [
              "(181208, 134)"
            ]
          },
          "metadata": {},
          "execution_count": 15
        }
      ]
    },
    {
      "cell_type": "markdown",
      "metadata": {
        "id": "5tStjW2kn3Gc"
      },
      "source": [
        "Deixando somente colunas de interesse"
      ]
    },
    {
      "cell_type": "code",
      "metadata": {
        "colab": {
          "base_uri": "https://localhost:8080/"
        },
        "id": "kjIZrgqCpZra",
        "outputId": "c7e164da-97ce-4ccb-99c3-9e4bb2fdaf16"
      },
      "source": [
        "cad_individual_SELECTED = cad_individual[['co_seq_fat_cad_individual','nu_cns','dt_nascimento','co_dim_unidade_saude','co_dim_equipe','co_dim_tempo','co_dim_sexo',\n",
        "           'co_dim_raca_cor','co_dim_nacionalidade','nu_cns_responsavel','st_responsavel_familiar','co_dim_municipio',\n",
        "           'st_frequenta_creche','st_plano_saude_privado','st_deficiencia','st_defi_auditiva','st_defi_intelectual_cognitiva','st_defi_outra','st_defi_visual',\n",
        "           'st_defi_fisica','st_gestante','st_doenca_respiratoria','st_doenca_respira_asma','st_doenca_respira_dpoc_enfisem','st_doenca_respira_outra',\n",
        "           'st_doenca_respira_n_sabe','st_fumante','st_alcool','st_outra_droga','st_hipertensao_arterial','st_diabete','st_avc','st_infarto','st_hanseniase',\n",
        "           'st_tuberculose','st_cancer','st_internacao_12','st_tratamento_psiquiatra','st_acamado','st_domiciliado','st_doenca_cardiaca',\n",
        "           'st_doenca_card_insuficiencia','st_problema_rins','st_problema_rins_insuficiencia','st_morador_rua','co_dim_tipo_parentesco',\n",
        "           'co_dim_tipo_escolaridade','co_dim_situacao_trabalho','co_dim_tipo_orientacao_sexual','co_dim_tipo_condicao_peso','co_dim_tempo_morador_rua',\n",
        "           'co_dim_etnia','co_dim_identidade_genero','co_dim_faixa_etaria','nu_micro_area','co_fat_cidadao_pec','co_fat_cidadao_pec_responsvl',\n",
        "           'nu_cpf_cidadao','nu_cpf_responsavel']]\n",
        "cad_individual_SELECTED.shape"
      ],
      "execution_count": null,
      "outputs": [
        {
          "output_type": "execute_result",
          "data": {
            "text/plain": [
              "(181208, 59)"
            ]
          },
          "metadata": {},
          "execution_count": 16
        }
      ]
    },
    {
      "cell_type": "markdown",
      "metadata": {
        "id": "wpsA87fVoJ4L"
      },
      "source": [
        "Renomeando possíveis duplicatas nas tabelas"
      ]
    },
    {
      "cell_type": "code",
      "metadata": {
        "id": "vRaQ95KdoJ4O"
      },
      "source": [
        "cad_individual_SELECTED = cad_individual_SELECTED.rename(columns={'co_dim_unidade_saude': 'co_dim_unidade_saude_CI'})\n",
        "cad_individual_SELECTED = cad_individual_SELECTED.rename(columns={'co_dim_equipe': 'co_dim_equipe_CI'})\n",
        "cad_individual_SELECTED = cad_individual_SELECTED.rename(columns={'dt_nascimento': 'dt_nascimento_CI'})\n",
        "cad_individual_SELECTED = cad_individual_SELECTED.rename(columns={'co_dim_faixa_etaria': 'co_dim_faixa_etaria_CI'})\n",
        "cad_individual_SELECTED = cad_individual_SELECTED.rename(columns={'co_dim_sexo': 'co_dim_sexo_CI'})\n",
        "cad_individual_SELECTED = cad_individual_SELECTED.rename(columns={'nu_cns': 'nu_cns_CI'})\n",
        "cad_individual_SELECTED = cad_individual_SELECTED.rename(columns={'co_dim_identidade_genero': 'co_dim_identidade_genero_CI'})\n",
        "cad_individual_SELECTED = cad_individual_SELECTED.rename(columns={'nu_cpf_cidadao': 'nu_cpf_cidadao_CI'})\n",
        "cad_individual_SELECTED = cad_individual_SELECTED.rename(columns={'co_dim_municipio': 'co_dim_municipio_CI'})"
      ],
      "execution_count": null,
      "outputs": []
    },
    {
      "cell_type": "markdown",
      "source": [
        "Otimização do codigo"
      ],
      "metadata": {
        "id": "awAH5pYMeiSi"
      }
    },
    {
      "cell_type": "code",
      "source": [
        "cad_individual_SELECTED = cad_individual_SELECTED[['co_fat_cidadao_pec','co_dim_sexo_CI','co_dim_unidade_saude_CI','co_dim_municipio_CI','co_dim_tempo','co_dim_identidade_genero_CI','dt_nascimento_CI','nu_cpf_cidadao_CI']]"
      ],
      "metadata": {
        "id": "fax4ym63elKi"
      },
      "execution_count": null,
      "outputs": []
    },
    {
      "cell_type": "markdown",
      "metadata": {
        "id": "A9YAp5D5ol3h"
      },
      "source": [
        "###Cidadão PEC"
      ]
    },
    {
      "cell_type": "code",
      "metadata": {
        "id": "GUCElaXNvUny",
        "colab": {
          "base_uri": "https://localhost:8080/"
        },
        "outputId": "fe68e5a6-63e2-45a0-8109-f8b44be2a213"
      },
      "source": [
        "cidadao_pec.head(1)"
      ],
      "execution_count": null,
      "outputs": [
        {
          "output_type": "execute_result",
          "data": {
            "text/plain": [
              "   co_seq_fat_cidadao_pec co_cidadao           nu_cns no_cidadao no_social_cidadao co_dim_tempo_nascimento co_dim_sexo co_dim_identidade_genero nu_telefone_celular st_faleceu  st_lookup_etl st_deletar nu_cpf_cidadao co_dim_unidade_saude_vinc co_dim_equipe_vinc\n",
              "0                  694899             209442720310002                                                                                                                                       0                                                                       "
            ],
            "text/html": [
              "\n",
              "  <div id=\"df-1ff4929d-16ac-4f43-8fd7-b0bcbfb0fa3b\">\n",
              "    <div class=\"colab-df-container\">\n",
              "      <div>\n",
              "<style scoped>\n",
              "    .dataframe tbody tr th:only-of-type {\n",
              "        vertical-align: middle;\n",
              "    }\n",
              "\n",
              "    .dataframe tbody tr th {\n",
              "        vertical-align: top;\n",
              "    }\n",
              "\n",
              "    .dataframe thead th {\n",
              "        text-align: right;\n",
              "    }\n",
              "</style>\n",
              "<table border=\"1\" class=\"dataframe\">\n",
              "  <thead>\n",
              "    <tr style=\"text-align: right;\">\n",
              "      <th></th>\n",
              "      <th>co_seq_fat_cidadao_pec</th>\n",
              "      <th>co_cidadao</th>\n",
              "      <th>nu_cns</th>\n",
              "      <th>no_cidadao</th>\n",
              "      <th>no_social_cidadao</th>\n",
              "      <th>co_dim_tempo_nascimento</th>\n",
              "      <th>co_dim_sexo</th>\n",
              "      <th>co_dim_identidade_genero</th>\n",
              "      <th>nu_telefone_celular</th>\n",
              "      <th>st_faleceu</th>\n",
              "      <th>st_lookup_etl</th>\n",
              "      <th>st_deletar</th>\n",
              "      <th>nu_cpf_cidadao</th>\n",
              "      <th>co_dim_unidade_saude_vinc</th>\n",
              "      <th>co_dim_equipe_vinc</th>\n",
              "    </tr>\n",
              "  </thead>\n",
              "  <tbody>\n",
              "    <tr>\n",
              "      <th>0</th>\n",
              "      <td>694899</td>\n",
              "      <td></td>\n",
              "      <td>209442720310002</td>\n",
              "      <td></td>\n",
              "      <td></td>\n",
              "      <td></td>\n",
              "      <td></td>\n",
              "      <td></td>\n",
              "      <td></td>\n",
              "      <td></td>\n",
              "      <td>0</td>\n",
              "      <td></td>\n",
              "      <td></td>\n",
              "      <td></td>\n",
              "      <td></td>\n",
              "    </tr>\n",
              "  </tbody>\n",
              "</table>\n",
              "</div>\n",
              "      <button class=\"colab-df-convert\" onclick=\"convertToInteractive('df-1ff4929d-16ac-4f43-8fd7-b0bcbfb0fa3b')\"\n",
              "              title=\"Convert this dataframe to an interactive table.\"\n",
              "              style=\"display:none;\">\n",
              "        \n",
              "  <svg xmlns=\"http://www.w3.org/2000/svg\" height=\"24px\"viewBox=\"0 0 24 24\"\n",
              "       width=\"24px\">\n",
              "    <path d=\"M0 0h24v24H0V0z\" fill=\"none\"/>\n",
              "    <path d=\"M18.56 5.44l.94 2.06.94-2.06 2.06-.94-2.06-.94-.94-2.06-.94 2.06-2.06.94zm-11 1L8.5 8.5l.94-2.06 2.06-.94-2.06-.94L8.5 2.5l-.94 2.06-2.06.94zm10 10l.94 2.06.94-2.06 2.06-.94-2.06-.94-.94-2.06-.94 2.06-2.06.94z\"/><path d=\"M17.41 7.96l-1.37-1.37c-.4-.4-.92-.59-1.43-.59-.52 0-1.04.2-1.43.59L10.3 9.45l-7.72 7.72c-.78.78-.78 2.05 0 2.83L4 21.41c.39.39.9.59 1.41.59.51 0 1.02-.2 1.41-.59l7.78-7.78 2.81-2.81c.8-.78.8-2.07 0-2.86zM5.41 20L4 18.59l7.72-7.72 1.47 1.35L5.41 20z\"/>\n",
              "  </svg>\n",
              "      </button>\n",
              "      \n",
              "  <style>\n",
              "    .colab-df-container {\n",
              "      display:flex;\n",
              "      flex-wrap:wrap;\n",
              "      gap: 12px;\n",
              "    }\n",
              "\n",
              "    .colab-df-convert {\n",
              "      background-color: #E8F0FE;\n",
              "      border: none;\n",
              "      border-radius: 50%;\n",
              "      cursor: pointer;\n",
              "      display: none;\n",
              "      fill: #1967D2;\n",
              "      height: 32px;\n",
              "      padding: 0 0 0 0;\n",
              "      width: 32px;\n",
              "    }\n",
              "\n",
              "    .colab-df-convert:hover {\n",
              "      background-color: #E2EBFA;\n",
              "      box-shadow: 0px 1px 2px rgba(60, 64, 67, 0.3), 0px 1px 3px 1px rgba(60, 64, 67, 0.15);\n",
              "      fill: #174EA6;\n",
              "    }\n",
              "\n",
              "    [theme=dark] .colab-df-convert {\n",
              "      background-color: #3B4455;\n",
              "      fill: #D2E3FC;\n",
              "    }\n",
              "\n",
              "    [theme=dark] .colab-df-convert:hover {\n",
              "      background-color: #434B5C;\n",
              "      box-shadow: 0px 1px 3px 1px rgba(0, 0, 0, 0.15);\n",
              "      filter: drop-shadow(0px 1px 2px rgba(0, 0, 0, 0.3));\n",
              "      fill: #FFFFFF;\n",
              "    }\n",
              "  </style>\n",
              "\n",
              "      <script>\n",
              "        const buttonEl =\n",
              "          document.querySelector('#df-1ff4929d-16ac-4f43-8fd7-b0bcbfb0fa3b button.colab-df-convert');\n",
              "        buttonEl.style.display =\n",
              "          google.colab.kernel.accessAllowed ? 'block' : 'none';\n",
              "\n",
              "        async function convertToInteractive(key) {\n",
              "          const element = document.querySelector('#df-1ff4929d-16ac-4f43-8fd7-b0bcbfb0fa3b');\n",
              "          const dataTable =\n",
              "            await google.colab.kernel.invokeFunction('convertToInteractive',\n",
              "                                                     [key], {});\n",
              "          if (!dataTable) return;\n",
              "\n",
              "          const docLinkHtml = 'Like what you see? Visit the ' +\n",
              "            '<a target=\"_blank\" href=https://colab.research.google.com/notebooks/data_table.ipynb>data table notebook</a>'\n",
              "            + ' to learn more about interactive tables.';\n",
              "          element.innerHTML = '';\n",
              "          dataTable['output_type'] = 'display_data';\n",
              "          await google.colab.output.renderOutput(dataTable, element);\n",
              "          const docLink = document.createElement('div');\n",
              "          docLink.innerHTML = docLinkHtml;\n",
              "          element.appendChild(docLink);\n",
              "        }\n",
              "      </script>\n",
              "    </div>\n",
              "  </div>\n",
              "  "
            ]
          },
          "metadata": {},
          "execution_count": 19
        }
      ]
    },
    {
      "cell_type": "code",
      "metadata": {
        "colab": {
          "base_uri": "https://localhost:8080/"
        },
        "id": "dWqGEfe-vb9x",
        "outputId": "060dba26-292e-4db5-fe18-17b43518b4c9"
      },
      "source": [
        "cidadao_pec.shape"
      ],
      "execution_count": null,
      "outputs": [
        {
          "output_type": "execute_result",
          "data": {
            "text/plain": [
              "(135558, 15)"
            ]
          },
          "metadata": {},
          "execution_count": 20
        }
      ]
    },
    {
      "cell_type": "markdown",
      "metadata": {
        "id": "B3Tp0wnGo4Oy"
      },
      "source": [
        "Deixando somente as colunas de interesse"
      ]
    },
    {
      "cell_type": "code",
      "metadata": {
        "colab": {
          "base_uri": "https://localhost:8080/"
        },
        "id": "a_x-tv5lol3h",
        "outputId": "2af9297b-c4ac-4c90-a10b-5a74334ec35a"
      },
      "source": [
        "cidadao_pec_SELECTED = cidadao_pec.drop(columns=['co_cidadao','no_social_cidadao','nu_telefone_celular','st_faleceu','st_lookup_etl','st_deletar'])\n",
        "cidadao_pec_SELECTED.shape"
      ],
      "execution_count": null,
      "outputs": [
        {
          "output_type": "execute_result",
          "data": {
            "text/plain": [
              "(135558, 9)"
            ]
          },
          "metadata": {},
          "execution_count": 21
        }
      ]
    },
    {
      "cell_type": "markdown",
      "metadata": {
        "id": "t_V8OmslwrO7"
      },
      "source": [
        "Renomeando"
      ]
    },
    {
      "cell_type": "code",
      "metadata": {
        "id": "Q5s0IAkQwPFq"
      },
      "source": [
        "cidadao_pec_SELECTED = cidadao_pec_SELECTED.rename(columns={'co_seq_fat_cidadao_pec':'co_fat_cidadao_pec'})\n",
        "cidadao_pec_SELECTED = cidadao_pec_SELECTED.rename(columns={'nu_cns': 'nu_cns_CP'})\n",
        "cidadao_pec_SELECTED = cidadao_pec_SELECTED.rename(columns={'co_dim_unidade_saude_vinc': 'co_dim_unidade_saude_vinc_CP'})\n",
        "cidadao_pec_SELECTED = cidadao_pec_SELECTED.rename(columns={'co_dim_equipe_vinc': 'co_dim_equipe_vinc_CP'})\n",
        "cidadao_pec_SELECTED = cidadao_pec_SELECTED.rename(columns={'co_dim_sexo': 'co_dim_sexo_CP'})\n",
        "cidadao_pec_SELECTED = cidadao_pec_SELECTED.rename(columns={'co_dim_equipe_vinc': 'co_dim_equipe_vinc_CP'})\n",
        "cidadao_pec_SELECTED = cidadao_pec_SELECTED.rename(columns={'co_dim_identidade_genero': 'co_dim_identidade_genero_CP'})\n",
        "cidadao_pec_SELECTED = cidadao_pec_SELECTED.rename(columns={'nu_cpf_cidadao': 'nu_cpf_cidadao_CP'})"
      ],
      "execution_count": null,
      "outputs": []
    },
    {
      "cell_type": "markdown",
      "source": [
        "Otimização do codigo"
      ],
      "metadata": {
        "id": "-809sJxJgiqu"
      }
    },
    {
      "cell_type": "code",
      "source": [
        "cidadao_pec_SELECTED = cidadao_pec_SELECTED[['co_fat_cidadao_pec','co_dim_sexo_CP','co_dim_identidade_genero_CP','co_dim_tempo_nascimento']]"
      ],
      "metadata": {
        "id": "ctusAMlmgprt"
      },
      "execution_count": null,
      "outputs": []
    },
    {
      "cell_type": "markdown",
      "metadata": {
        "id": "eLUZYq_zzNwz"
      },
      "source": [
        "###Cidadão Território"
      ]
    },
    {
      "cell_type": "code",
      "metadata": {
        "colab": {
          "base_uri": "https://localhost:8080/"
        },
        "id": "z2IcRFTa0QFX",
        "outputId": "d3c05e23-4ec4-4827-91b5-11fb936211ec"
      },
      "source": [
        "cidadao_territorio.head(1)"
      ],
      "execution_count": null,
      "outputs": [
        {
          "output_type": "execute_result",
          "data": {
            "text/plain": [
              "   co_seq_fat_cidadao_territorio  co_dim_municipio  co_dim_unidade_saude  co_dim_equipe nu_micro_area  co_fat_cidadao_pec  st_responsavel  st_responsavel_informado  st_mudou_se  st_vivo  st_responsavel_com_fci  st_cns_null  st_cidadao_consistente  co_fat_familia_territorio  co_fat_ciddo_terrtrio_resp  st_processado_cidadao_respnsvl  co_fat_cad_individual\n",
              "0                        2417038              9196                   495            329            07              696975               1                         1            0        0                       1            0                       0                   853499.0                   2417038.0                             1.0              1189827.0"
            ],
            "text/html": [
              "\n",
              "  <div id=\"df-cb3d9f69-65ed-460e-a08e-b01935806eb3\">\n",
              "    <div class=\"colab-df-container\">\n",
              "      <div>\n",
              "<style scoped>\n",
              "    .dataframe tbody tr th:only-of-type {\n",
              "        vertical-align: middle;\n",
              "    }\n",
              "\n",
              "    .dataframe tbody tr th {\n",
              "        vertical-align: top;\n",
              "    }\n",
              "\n",
              "    .dataframe thead th {\n",
              "        text-align: right;\n",
              "    }\n",
              "</style>\n",
              "<table border=\"1\" class=\"dataframe\">\n",
              "  <thead>\n",
              "    <tr style=\"text-align: right;\">\n",
              "      <th></th>\n",
              "      <th>co_seq_fat_cidadao_territorio</th>\n",
              "      <th>co_dim_municipio</th>\n",
              "      <th>co_dim_unidade_saude</th>\n",
              "      <th>co_dim_equipe</th>\n",
              "      <th>nu_micro_area</th>\n",
              "      <th>co_fat_cidadao_pec</th>\n",
              "      <th>st_responsavel</th>\n",
              "      <th>st_responsavel_informado</th>\n",
              "      <th>st_mudou_se</th>\n",
              "      <th>st_vivo</th>\n",
              "      <th>st_responsavel_com_fci</th>\n",
              "      <th>st_cns_null</th>\n",
              "      <th>st_cidadao_consistente</th>\n",
              "      <th>co_fat_familia_territorio</th>\n",
              "      <th>co_fat_ciddo_terrtrio_resp</th>\n",
              "      <th>st_processado_cidadao_respnsvl</th>\n",
              "      <th>co_fat_cad_individual</th>\n",
              "    </tr>\n",
              "  </thead>\n",
              "  <tbody>\n",
              "    <tr>\n",
              "      <th>0</th>\n",
              "      <td>2417038</td>\n",
              "      <td>9196</td>\n",
              "      <td>495</td>\n",
              "      <td>329</td>\n",
              "      <td>07</td>\n",
              "      <td>696975</td>\n",
              "      <td>1</td>\n",
              "      <td>1</td>\n",
              "      <td>0</td>\n",
              "      <td>0</td>\n",
              "      <td>1</td>\n",
              "      <td>0</td>\n",
              "      <td>0</td>\n",
              "      <td>853499.0</td>\n",
              "      <td>2417038.0</td>\n",
              "      <td>1.0</td>\n",
              "      <td>1189827.0</td>\n",
              "    </tr>\n",
              "  </tbody>\n",
              "</table>\n",
              "</div>\n",
              "      <button class=\"colab-df-convert\" onclick=\"convertToInteractive('df-cb3d9f69-65ed-460e-a08e-b01935806eb3')\"\n",
              "              title=\"Convert this dataframe to an interactive table.\"\n",
              "              style=\"display:none;\">\n",
              "        \n",
              "  <svg xmlns=\"http://www.w3.org/2000/svg\" height=\"24px\"viewBox=\"0 0 24 24\"\n",
              "       width=\"24px\">\n",
              "    <path d=\"M0 0h24v24H0V0z\" fill=\"none\"/>\n",
              "    <path d=\"M18.56 5.44l.94 2.06.94-2.06 2.06-.94-2.06-.94-.94-2.06-.94 2.06-2.06.94zm-11 1L8.5 8.5l.94-2.06 2.06-.94-2.06-.94L8.5 2.5l-.94 2.06-2.06.94zm10 10l.94 2.06.94-2.06 2.06-.94-2.06-.94-.94-2.06-.94 2.06-2.06.94z\"/><path d=\"M17.41 7.96l-1.37-1.37c-.4-.4-.92-.59-1.43-.59-.52 0-1.04.2-1.43.59L10.3 9.45l-7.72 7.72c-.78.78-.78 2.05 0 2.83L4 21.41c.39.39.9.59 1.41.59.51 0 1.02-.2 1.41-.59l7.78-7.78 2.81-2.81c.8-.78.8-2.07 0-2.86zM5.41 20L4 18.59l7.72-7.72 1.47 1.35L5.41 20z\"/>\n",
              "  </svg>\n",
              "      </button>\n",
              "      \n",
              "  <style>\n",
              "    .colab-df-container {\n",
              "      display:flex;\n",
              "      flex-wrap:wrap;\n",
              "      gap: 12px;\n",
              "    }\n",
              "\n",
              "    .colab-df-convert {\n",
              "      background-color: #E8F0FE;\n",
              "      border: none;\n",
              "      border-radius: 50%;\n",
              "      cursor: pointer;\n",
              "      display: none;\n",
              "      fill: #1967D2;\n",
              "      height: 32px;\n",
              "      padding: 0 0 0 0;\n",
              "      width: 32px;\n",
              "    }\n",
              "\n",
              "    .colab-df-convert:hover {\n",
              "      background-color: #E2EBFA;\n",
              "      box-shadow: 0px 1px 2px rgba(60, 64, 67, 0.3), 0px 1px 3px 1px rgba(60, 64, 67, 0.15);\n",
              "      fill: #174EA6;\n",
              "    }\n",
              "\n",
              "    [theme=dark] .colab-df-convert {\n",
              "      background-color: #3B4455;\n",
              "      fill: #D2E3FC;\n",
              "    }\n",
              "\n",
              "    [theme=dark] .colab-df-convert:hover {\n",
              "      background-color: #434B5C;\n",
              "      box-shadow: 0px 1px 3px 1px rgba(0, 0, 0, 0.15);\n",
              "      filter: drop-shadow(0px 1px 2px rgba(0, 0, 0, 0.3));\n",
              "      fill: #FFFFFF;\n",
              "    }\n",
              "  </style>\n",
              "\n",
              "      <script>\n",
              "        const buttonEl =\n",
              "          document.querySelector('#df-cb3d9f69-65ed-460e-a08e-b01935806eb3 button.colab-df-convert');\n",
              "        buttonEl.style.display =\n",
              "          google.colab.kernel.accessAllowed ? 'block' : 'none';\n",
              "\n",
              "        async function convertToInteractive(key) {\n",
              "          const element = document.querySelector('#df-cb3d9f69-65ed-460e-a08e-b01935806eb3');\n",
              "          const dataTable =\n",
              "            await google.colab.kernel.invokeFunction('convertToInteractive',\n",
              "                                                     [key], {});\n",
              "          if (!dataTable) return;\n",
              "\n",
              "          const docLinkHtml = 'Like what you see? Visit the ' +\n",
              "            '<a target=\"_blank\" href=https://colab.research.google.com/notebooks/data_table.ipynb>data table notebook</a>'\n",
              "            + ' to learn more about interactive tables.';\n",
              "          element.innerHTML = '';\n",
              "          dataTable['output_type'] = 'display_data';\n",
              "          await google.colab.output.renderOutput(dataTable, element);\n",
              "          const docLink = document.createElement('div');\n",
              "          docLink.innerHTML = docLinkHtml;\n",
              "          element.appendChild(docLink);\n",
              "        }\n",
              "      </script>\n",
              "    </div>\n",
              "  </div>\n",
              "  "
            ]
          },
          "metadata": {},
          "execution_count": 24
        }
      ]
    },
    {
      "cell_type": "code",
      "metadata": {
        "colab": {
          "base_uri": "https://localhost:8080/"
        },
        "id": "U0pWNNRN0pk1",
        "outputId": "3cb8a7e0-e32e-4556-c1c0-03b98035176b"
      },
      "source": [
        "cidadao_territorio.shape"
      ],
      "execution_count": null,
      "outputs": [
        {
          "output_type": "execute_result",
          "data": {
            "text/plain": [
              "(91795, 17)"
            ]
          },
          "metadata": {},
          "execution_count": 25
        }
      ]
    },
    {
      "cell_type": "code",
      "metadata": {
        "colab": {
          "base_uri": "https://localhost:8080/"
        },
        "id": "YrmwcWCxzNxt",
        "outputId": "0288cba1-7bfa-4bcb-cf62-0978348ec34f"
      },
      "source": [
        "cidadao_territorio_SELECTED = cidadao_territorio.drop(columns=['co_dim_equipe','nu_micro_area',\n",
        "                                                                             'st_responsavel','st_responsavel_informado','st_mudou_se','st_vivo',\n",
        "                                                                             'st_responsavel_com_fci','st_cns_null','st_cidadao_consistente',\n",
        "                                                                             'co_fat_ciddo_terrtrio_resp','st_processado_cidadao_respnsvl'])\n",
        "cidadao_territorio_SELECTED.shape"
      ],
      "execution_count": null,
      "outputs": [
        {
          "output_type": "execute_result",
          "data": {
            "text/plain": [
              "(91795, 6)"
            ]
          },
          "metadata": {},
          "execution_count": 26
        }
      ]
    },
    {
      "cell_type": "code",
      "metadata": {
        "id": "uNDK_YjC46zh"
      },
      "source": [
        "cidadao_territorio_SELECTED = cidadao_territorio_SELECTED.rename(columns={'co_fat_familia_territorio':'co_seq_fat_familia_territorio'})"
      ],
      "execution_count": null,
      "outputs": []
    },
    {
      "cell_type": "markdown",
      "source": [
        "Otimização codigo "
      ],
      "metadata": {
        "id": "VJhjxx21jrjW"
      }
    },
    {
      "cell_type": "code",
      "source": [
        "cidadao_territorio_SELECTED = cidadao_territorio_SELECTED[['co_fat_cidadao_pec','co_seq_fat_cidadao_territorio','co_seq_fat_familia_territorio']]"
      ],
      "metadata": {
        "id": "2FCwR2Folvo4"
      },
      "execution_count": null,
      "outputs": []
    },
    {
      "cell_type": "markdown",
      "metadata": {
        "id": "EfvlXKgg2weH"
      },
      "source": [
        "###Família Território"
      ]
    },
    {
      "cell_type": "code",
      "metadata": {
        "colab": {
          "base_uri": "https://localhost:8080/"
        },
        "id": "n5OeSCvw26kz",
        "outputId": "ece73e6a-6ad7-4add-c038-5e9499e060c0"
      },
      "source": [
        "familia_territorio.head(1)"
      ],
      "execution_count": null,
      "outputs": [
        {
          "output_type": "execute_result",
          "data": {
            "text/plain": [
              "   co_seq_fat_familia_territorio  co_dim_municipio  co_dim_unidade_saude  co_dim_equipe                          nu_uuid_ficha_origem  co_fat_cidadao_pec  co_fat_cad_domiciliar  co_dim_tempo_fcd nu_prontuario nu_micro_area  st_familia_fcd_mudouse  st_resp_com_fci_no_territorio  st_resp_declarado_no_fci  st_resp_outro_fcd_mais_atual  st_responsavel_ainda_reside  st_responsavel_vivo  st_familia_consistente  st_processo_att_cidadao  co_fat_cidadao_territorio\n",
              "0                         365212              9196                   503            338  0000000-0f796500-d2b2-46ab-a40c-47f82bdf0126              778108                 395348          20080916            13            03                       0                              0                         0                             0                            1                    0                       0                        1                        NaN"
            ],
            "text/html": [
              "\n",
              "  <div id=\"df-7ac0c03d-ebc1-4d9e-9b8e-4b0794bc7ddf\">\n",
              "    <div class=\"colab-df-container\">\n",
              "      <div>\n",
              "<style scoped>\n",
              "    .dataframe tbody tr th:only-of-type {\n",
              "        vertical-align: middle;\n",
              "    }\n",
              "\n",
              "    .dataframe tbody tr th {\n",
              "        vertical-align: top;\n",
              "    }\n",
              "\n",
              "    .dataframe thead th {\n",
              "        text-align: right;\n",
              "    }\n",
              "</style>\n",
              "<table border=\"1\" class=\"dataframe\">\n",
              "  <thead>\n",
              "    <tr style=\"text-align: right;\">\n",
              "      <th></th>\n",
              "      <th>co_seq_fat_familia_territorio</th>\n",
              "      <th>co_dim_municipio</th>\n",
              "      <th>co_dim_unidade_saude</th>\n",
              "      <th>co_dim_equipe</th>\n",
              "      <th>nu_uuid_ficha_origem</th>\n",
              "      <th>co_fat_cidadao_pec</th>\n",
              "      <th>co_fat_cad_domiciliar</th>\n",
              "      <th>co_dim_tempo_fcd</th>\n",
              "      <th>nu_prontuario</th>\n",
              "      <th>nu_micro_area</th>\n",
              "      <th>st_familia_fcd_mudouse</th>\n",
              "      <th>st_resp_com_fci_no_territorio</th>\n",
              "      <th>st_resp_declarado_no_fci</th>\n",
              "      <th>st_resp_outro_fcd_mais_atual</th>\n",
              "      <th>st_responsavel_ainda_reside</th>\n",
              "      <th>st_responsavel_vivo</th>\n",
              "      <th>st_familia_consistente</th>\n",
              "      <th>st_processo_att_cidadao</th>\n",
              "      <th>co_fat_cidadao_territorio</th>\n",
              "    </tr>\n",
              "  </thead>\n",
              "  <tbody>\n",
              "    <tr>\n",
              "      <th>0</th>\n",
              "      <td>365212</td>\n",
              "      <td>9196</td>\n",
              "      <td>503</td>\n",
              "      <td>338</td>\n",
              "      <td>0000000-0f796500-d2b2-46ab-a40c-47f82bdf0126</td>\n",
              "      <td>778108</td>\n",
              "      <td>395348</td>\n",
              "      <td>20080916</td>\n",
              "      <td>13</td>\n",
              "      <td>03</td>\n",
              "      <td>0</td>\n",
              "      <td>0</td>\n",
              "      <td>0</td>\n",
              "      <td>0</td>\n",
              "      <td>1</td>\n",
              "      <td>0</td>\n",
              "      <td>0</td>\n",
              "      <td>1</td>\n",
              "      <td>NaN</td>\n",
              "    </tr>\n",
              "  </tbody>\n",
              "</table>\n",
              "</div>\n",
              "      <button class=\"colab-df-convert\" onclick=\"convertToInteractive('df-7ac0c03d-ebc1-4d9e-9b8e-4b0794bc7ddf')\"\n",
              "              title=\"Convert this dataframe to an interactive table.\"\n",
              "              style=\"display:none;\">\n",
              "        \n",
              "  <svg xmlns=\"http://www.w3.org/2000/svg\" height=\"24px\"viewBox=\"0 0 24 24\"\n",
              "       width=\"24px\">\n",
              "    <path d=\"M0 0h24v24H0V0z\" fill=\"none\"/>\n",
              "    <path d=\"M18.56 5.44l.94 2.06.94-2.06 2.06-.94-2.06-.94-.94-2.06-.94 2.06-2.06.94zm-11 1L8.5 8.5l.94-2.06 2.06-.94-2.06-.94L8.5 2.5l-.94 2.06-2.06.94zm10 10l.94 2.06.94-2.06 2.06-.94-2.06-.94-.94-2.06-.94 2.06-2.06.94z\"/><path d=\"M17.41 7.96l-1.37-1.37c-.4-.4-.92-.59-1.43-.59-.52 0-1.04.2-1.43.59L10.3 9.45l-7.72 7.72c-.78.78-.78 2.05 0 2.83L4 21.41c.39.39.9.59 1.41.59.51 0 1.02-.2 1.41-.59l7.78-7.78 2.81-2.81c.8-.78.8-2.07 0-2.86zM5.41 20L4 18.59l7.72-7.72 1.47 1.35L5.41 20z\"/>\n",
              "  </svg>\n",
              "      </button>\n",
              "      \n",
              "  <style>\n",
              "    .colab-df-container {\n",
              "      display:flex;\n",
              "      flex-wrap:wrap;\n",
              "      gap: 12px;\n",
              "    }\n",
              "\n",
              "    .colab-df-convert {\n",
              "      background-color: #E8F0FE;\n",
              "      border: none;\n",
              "      border-radius: 50%;\n",
              "      cursor: pointer;\n",
              "      display: none;\n",
              "      fill: #1967D2;\n",
              "      height: 32px;\n",
              "      padding: 0 0 0 0;\n",
              "      width: 32px;\n",
              "    }\n",
              "\n",
              "    .colab-df-convert:hover {\n",
              "      background-color: #E2EBFA;\n",
              "      box-shadow: 0px 1px 2px rgba(60, 64, 67, 0.3), 0px 1px 3px 1px rgba(60, 64, 67, 0.15);\n",
              "      fill: #174EA6;\n",
              "    }\n",
              "\n",
              "    [theme=dark] .colab-df-convert {\n",
              "      background-color: #3B4455;\n",
              "      fill: #D2E3FC;\n",
              "    }\n",
              "\n",
              "    [theme=dark] .colab-df-convert:hover {\n",
              "      background-color: #434B5C;\n",
              "      box-shadow: 0px 1px 3px 1px rgba(0, 0, 0, 0.15);\n",
              "      filter: drop-shadow(0px 1px 2px rgba(0, 0, 0, 0.3));\n",
              "      fill: #FFFFFF;\n",
              "    }\n",
              "  </style>\n",
              "\n",
              "      <script>\n",
              "        const buttonEl =\n",
              "          document.querySelector('#df-7ac0c03d-ebc1-4d9e-9b8e-4b0794bc7ddf button.colab-df-convert');\n",
              "        buttonEl.style.display =\n",
              "          google.colab.kernel.accessAllowed ? 'block' : 'none';\n",
              "\n",
              "        async function convertToInteractive(key) {\n",
              "          const element = document.querySelector('#df-7ac0c03d-ebc1-4d9e-9b8e-4b0794bc7ddf');\n",
              "          const dataTable =\n",
              "            await google.colab.kernel.invokeFunction('convertToInteractive',\n",
              "                                                     [key], {});\n",
              "          if (!dataTable) return;\n",
              "\n",
              "          const docLinkHtml = 'Like what you see? Visit the ' +\n",
              "            '<a target=\"_blank\" href=https://colab.research.google.com/notebooks/data_table.ipynb>data table notebook</a>'\n",
              "            + ' to learn more about interactive tables.';\n",
              "          element.innerHTML = '';\n",
              "          dataTable['output_type'] = 'display_data';\n",
              "          await google.colab.output.renderOutput(dataTable, element);\n",
              "          const docLink = document.createElement('div');\n",
              "          docLink.innerHTML = docLinkHtml;\n",
              "          element.appendChild(docLink);\n",
              "        }\n",
              "      </script>\n",
              "    </div>\n",
              "  </div>\n",
              "  "
            ]
          },
          "metadata": {},
          "execution_count": 29
        }
      ]
    },
    {
      "cell_type": "code",
      "metadata": {
        "colab": {
          "base_uri": "https://localhost:8080/"
        },
        "id": "IXj9idoP2_q4",
        "outputId": "26194de2-2b8e-41d6-ca5c-8182c80ee086"
      },
      "source": [
        "familia_territorio.shape"
      ],
      "execution_count": null,
      "outputs": [
        {
          "output_type": "execute_result",
          "data": {
            "text/plain": [
              "(30455, 19)"
            ]
          },
          "metadata": {},
          "execution_count": 30
        }
      ]
    },
    {
      "cell_type": "code",
      "metadata": {
        "colab": {
          "base_uri": "https://localhost:8080/"
        },
        "id": "xHw4imaM2wfH",
        "outputId": "b2fdee8f-011f-4c20-df6a-6bc261293c27"
      },
      "source": [
        "columns = ['co_seq_fat_familia_territorio','co_fat_cidadao_pec','co_fat_cad_domiciliar','nu_prontuario','co_fat_cidadao_territorio']\n",
        "familia_territorio_SELECTED = pd.DataFrame(familia_territorio, columns=columns)\n",
        "familia_territorio_SELECTED.shape"
      ],
      "execution_count": null,
      "outputs": [
        {
          "output_type": "execute_result",
          "data": {
            "text/plain": [
              "(30455, 5)"
            ]
          },
          "metadata": {},
          "execution_count": 31
        }
      ]
    },
    {
      "cell_type": "markdown",
      "source": [
        "Otimização codigo"
      ],
      "metadata": {
        "id": "NbrnthldnDLf"
      }
    },
    {
      "cell_type": "code",
      "source": [
        "familia_territorio_SELECTED = familia_territorio_SELECTED[['co_fat_cidadao_pec','co_seq_fat_familia_territorio','co_fat_cad_domiciliar']]"
      ],
      "metadata": {
        "id": "YzFNlq8EnCz-"
      },
      "execution_count": null,
      "outputs": []
    },
    {
      "cell_type": "markdown",
      "metadata": {
        "id": "uPd9PuYt5u-k"
      },
      "source": [
        "###Cadastro Domiciliar"
      ]
    },
    {
      "cell_type": "code",
      "metadata": {
        "colab": {
          "base_uri": "https://localhost:8080/",
          "height": 197
        },
        "id": "PQiJ5ySR7A8f",
        "outputId": "031fa965-62c2-4f94-8ce6-bc783cce261f"
      },
      "source": [
        "cad_domiciliar.head(1)"
      ],
      "execution_count": null,
      "outputs": [
        {
          "output_type": "execute_result",
          "data": {
            "text/plain": [
              "   co_seq_fat_cad_domiciliar                                 nu_uuid_ficha                          nu_uuid_ficha_origem  qt_morador  nu_comodo  st_recusa_cadastro  co_dim_tipo_ficha  co_dim_tipo_imovel  co_dim_profissional  co_dim_municipio  co_dim_unidade_saude  co_dim_equipe  co_dim_tempo  co_dim_tempo_validade  co_dim_tempo_validade_recusa  co_dim_tipo_logradouro  co_dim_municipio_cidadao  co_dim_tipo_situacao_moradia  co_dim_tipo_localizacao  co_dim_tipo_domicilio  co_dim_tipo_posse_terra  co_dim_tipo_acesso_domicilio  co_dim_tipo_material_parede  co_dim_tipo_abastecimento_agua  co_dim_tipo_tratamento_agua  co_dim_tipo_escoamento_sanitar  co_dim_tipo_destino_lixo  co_dim_cbo  st_disp_energia  st_animal_domiciliar  qt_animal_domiciliar  st_animal_gato  st_animal_cachorro  st_animal_passaro  st_animal_outros  st_outros_prof_vinclds nu_micro_area  st_processo_linha_tempo  st_processo_familia  st_familias ds_filtro_tipo_renda_familiar                            nu_cep  \\\n",
              "0                     416286  2112566-6856238d-6cfb-4942-8545-f93a633fd9e3  2112566-6856238d-6cfb-4942-8545-f93a633fd9e3         NaN        NaN                   0                  3                   1                 7853              9196                   510            346      20170911               30001231                      30001231                      25                      9196                             1                        3                      1                        1                             2                            1                               2                            2                               4                         3        5618              1.0                   1.0                   NaN               0                   1                  0                 0                     NaN            06                        0                    0            1                            ||  818f728c236c0a64cdb221be213d9723   \n",
              "\n",
              "                                       no_logradouro                 nu_num_logradouro                    no_complemento                                          no_bairro no_ponto_referencia            nu_telefone_residencia nu_telefone_contato no_instituicao_nome no_instituicao_cargo nu_instituicao_cns nu_instituicao_telefone                           nu_uuid_dado_transp  co_dim_tipo_origem_dado_transp  co_dim_cds_tipo_origem  st_gerado_automaticamente  st_proc_operacionais  st_processa_familita_terrtro  nu_latitude  nu_longitude  \n",
              "0  03f320914afb21b8a42a9b23fda0ed06b0ee0770d35a02...  30c5fa0522141d72271ab9035946409a  825e264a5f09444c9aa97a4da1207ce2  eb60649284ecc61dab0571c29111c65c4e928aae9169ba...                 NaN  0148d4276e0c8925383c7398eb3cd03a                 NaN                 NaN                  NaN                NaN                     NaN  2112566-6856238d-6cfb-4942-8545-f93a633fd9e3                               3                       3                          0                     0                           0.0          NaN           NaN  "
            ],
            "text/html": [
              "\n",
              "  <div id=\"df-bc7906a5-4b0a-4906-b3b2-beee923c9ab5\">\n",
              "    <div class=\"colab-df-container\">\n",
              "      <div>\n",
              "<style scoped>\n",
              "    .dataframe tbody tr th:only-of-type {\n",
              "        vertical-align: middle;\n",
              "    }\n",
              "\n",
              "    .dataframe tbody tr th {\n",
              "        vertical-align: top;\n",
              "    }\n",
              "\n",
              "    .dataframe thead th {\n",
              "        text-align: right;\n",
              "    }\n",
              "</style>\n",
              "<table border=\"1\" class=\"dataframe\">\n",
              "  <thead>\n",
              "    <tr style=\"text-align: right;\">\n",
              "      <th></th>\n",
              "      <th>co_seq_fat_cad_domiciliar</th>\n",
              "      <th>nu_uuid_ficha</th>\n",
              "      <th>nu_uuid_ficha_origem</th>\n",
              "      <th>qt_morador</th>\n",
              "      <th>nu_comodo</th>\n",
              "      <th>st_recusa_cadastro</th>\n",
              "      <th>co_dim_tipo_ficha</th>\n",
              "      <th>co_dim_tipo_imovel</th>\n",
              "      <th>co_dim_profissional</th>\n",
              "      <th>co_dim_municipio</th>\n",
              "      <th>co_dim_unidade_saude</th>\n",
              "      <th>co_dim_equipe</th>\n",
              "      <th>co_dim_tempo</th>\n",
              "      <th>co_dim_tempo_validade</th>\n",
              "      <th>co_dim_tempo_validade_recusa</th>\n",
              "      <th>co_dim_tipo_logradouro</th>\n",
              "      <th>co_dim_municipio_cidadao</th>\n",
              "      <th>co_dim_tipo_situacao_moradia</th>\n",
              "      <th>co_dim_tipo_localizacao</th>\n",
              "      <th>co_dim_tipo_domicilio</th>\n",
              "      <th>co_dim_tipo_posse_terra</th>\n",
              "      <th>co_dim_tipo_acesso_domicilio</th>\n",
              "      <th>co_dim_tipo_material_parede</th>\n",
              "      <th>co_dim_tipo_abastecimento_agua</th>\n",
              "      <th>co_dim_tipo_tratamento_agua</th>\n",
              "      <th>co_dim_tipo_escoamento_sanitar</th>\n",
              "      <th>co_dim_tipo_destino_lixo</th>\n",
              "      <th>co_dim_cbo</th>\n",
              "      <th>st_disp_energia</th>\n",
              "      <th>st_animal_domiciliar</th>\n",
              "      <th>qt_animal_domiciliar</th>\n",
              "      <th>st_animal_gato</th>\n",
              "      <th>st_animal_cachorro</th>\n",
              "      <th>st_animal_passaro</th>\n",
              "      <th>st_animal_outros</th>\n",
              "      <th>st_outros_prof_vinclds</th>\n",
              "      <th>nu_micro_area</th>\n",
              "      <th>st_processo_linha_tempo</th>\n",
              "      <th>st_processo_familia</th>\n",
              "      <th>st_familias</th>\n",
              "      <th>ds_filtro_tipo_renda_familiar</th>\n",
              "      <th>nu_cep</th>\n",
              "      <th>no_logradouro</th>\n",
              "      <th>nu_num_logradouro</th>\n",
              "      <th>no_complemento</th>\n",
              "      <th>no_bairro</th>\n",
              "      <th>no_ponto_referencia</th>\n",
              "      <th>nu_telefone_residencia</th>\n",
              "      <th>nu_telefone_contato</th>\n",
              "      <th>no_instituicao_nome</th>\n",
              "      <th>no_instituicao_cargo</th>\n",
              "      <th>nu_instituicao_cns</th>\n",
              "      <th>nu_instituicao_telefone</th>\n",
              "      <th>nu_uuid_dado_transp</th>\n",
              "      <th>co_dim_tipo_origem_dado_transp</th>\n",
              "      <th>co_dim_cds_tipo_origem</th>\n",
              "      <th>st_gerado_automaticamente</th>\n",
              "      <th>st_proc_operacionais</th>\n",
              "      <th>st_processa_familita_terrtro</th>\n",
              "      <th>nu_latitude</th>\n",
              "      <th>nu_longitude</th>\n",
              "    </tr>\n",
              "  </thead>\n",
              "  <tbody>\n",
              "    <tr>\n",
              "      <th>0</th>\n",
              "      <td>416286</td>\n",
              "      <td>2112566-6856238d-6cfb-4942-8545-f93a633fd9e3</td>\n",
              "      <td>2112566-6856238d-6cfb-4942-8545-f93a633fd9e3</td>\n",
              "      <td>NaN</td>\n",
              "      <td>NaN</td>\n",
              "      <td>0</td>\n",
              "      <td>3</td>\n",
              "      <td>1</td>\n",
              "      <td>7853</td>\n",
              "      <td>9196</td>\n",
              "      <td>510</td>\n",
              "      <td>346</td>\n",
              "      <td>20170911</td>\n",
              "      <td>30001231</td>\n",
              "      <td>30001231</td>\n",
              "      <td>25</td>\n",
              "      <td>9196</td>\n",
              "      <td>1</td>\n",
              "      <td>3</td>\n",
              "      <td>1</td>\n",
              "      <td>1</td>\n",
              "      <td>2</td>\n",
              "      <td>1</td>\n",
              "      <td>2</td>\n",
              "      <td>2</td>\n",
              "      <td>4</td>\n",
              "      <td>3</td>\n",
              "      <td>5618</td>\n",
              "      <td>1.0</td>\n",
              "      <td>1.0</td>\n",
              "      <td>NaN</td>\n",
              "      <td>0</td>\n",
              "      <td>1</td>\n",
              "      <td>0</td>\n",
              "      <td>0</td>\n",
              "      <td>NaN</td>\n",
              "      <td>06</td>\n",
              "      <td>0</td>\n",
              "      <td>0</td>\n",
              "      <td>1</td>\n",
              "      <td>||</td>\n",
              "      <td>818f728c236c0a64cdb221be213d9723</td>\n",
              "      <td>03f320914afb21b8a42a9b23fda0ed06b0ee0770d35a02...</td>\n",
              "      <td>30c5fa0522141d72271ab9035946409a</td>\n",
              "      <td>825e264a5f09444c9aa97a4da1207ce2</td>\n",
              "      <td>eb60649284ecc61dab0571c29111c65c4e928aae9169ba...</td>\n",
              "      <td>NaN</td>\n",
              "      <td>0148d4276e0c8925383c7398eb3cd03a</td>\n",
              "      <td>NaN</td>\n",
              "      <td>NaN</td>\n",
              "      <td>NaN</td>\n",
              "      <td>NaN</td>\n",
              "      <td>NaN</td>\n",
              "      <td>2112566-6856238d-6cfb-4942-8545-f93a633fd9e3</td>\n",
              "      <td>3</td>\n",
              "      <td>3</td>\n",
              "      <td>0</td>\n",
              "      <td>0</td>\n",
              "      <td>0.0</td>\n",
              "      <td>NaN</td>\n",
              "      <td>NaN</td>\n",
              "    </tr>\n",
              "  </tbody>\n",
              "</table>\n",
              "</div>\n",
              "      <button class=\"colab-df-convert\" onclick=\"convertToInteractive('df-bc7906a5-4b0a-4906-b3b2-beee923c9ab5')\"\n",
              "              title=\"Convert this dataframe to an interactive table.\"\n",
              "              style=\"display:none;\">\n",
              "        \n",
              "  <svg xmlns=\"http://www.w3.org/2000/svg\" height=\"24px\"viewBox=\"0 0 24 24\"\n",
              "       width=\"24px\">\n",
              "    <path d=\"M0 0h24v24H0V0z\" fill=\"none\"/>\n",
              "    <path d=\"M18.56 5.44l.94 2.06.94-2.06 2.06-.94-2.06-.94-.94-2.06-.94 2.06-2.06.94zm-11 1L8.5 8.5l.94-2.06 2.06-.94-2.06-.94L8.5 2.5l-.94 2.06-2.06.94zm10 10l.94 2.06.94-2.06 2.06-.94-2.06-.94-.94-2.06-.94 2.06-2.06.94z\"/><path d=\"M17.41 7.96l-1.37-1.37c-.4-.4-.92-.59-1.43-.59-.52 0-1.04.2-1.43.59L10.3 9.45l-7.72 7.72c-.78.78-.78 2.05 0 2.83L4 21.41c.39.39.9.59 1.41.59.51 0 1.02-.2 1.41-.59l7.78-7.78 2.81-2.81c.8-.78.8-2.07 0-2.86zM5.41 20L4 18.59l7.72-7.72 1.47 1.35L5.41 20z\"/>\n",
              "  </svg>\n",
              "      </button>\n",
              "      \n",
              "  <style>\n",
              "    .colab-df-container {\n",
              "      display:flex;\n",
              "      flex-wrap:wrap;\n",
              "      gap: 12px;\n",
              "    }\n",
              "\n",
              "    .colab-df-convert {\n",
              "      background-color: #E8F0FE;\n",
              "      border: none;\n",
              "      border-radius: 50%;\n",
              "      cursor: pointer;\n",
              "      display: none;\n",
              "      fill: #1967D2;\n",
              "      height: 32px;\n",
              "      padding: 0 0 0 0;\n",
              "      width: 32px;\n",
              "    }\n",
              "\n",
              "    .colab-df-convert:hover {\n",
              "      background-color: #E2EBFA;\n",
              "      box-shadow: 0px 1px 2px rgba(60, 64, 67, 0.3), 0px 1px 3px 1px rgba(60, 64, 67, 0.15);\n",
              "      fill: #174EA6;\n",
              "    }\n",
              "\n",
              "    [theme=dark] .colab-df-convert {\n",
              "      background-color: #3B4455;\n",
              "      fill: #D2E3FC;\n",
              "    }\n",
              "\n",
              "    [theme=dark] .colab-df-convert:hover {\n",
              "      background-color: #434B5C;\n",
              "      box-shadow: 0px 1px 3px 1px rgba(0, 0, 0, 0.15);\n",
              "      filter: drop-shadow(0px 1px 2px rgba(0, 0, 0, 0.3));\n",
              "      fill: #FFFFFF;\n",
              "    }\n",
              "  </style>\n",
              "\n",
              "      <script>\n",
              "        const buttonEl =\n",
              "          document.querySelector('#df-bc7906a5-4b0a-4906-b3b2-beee923c9ab5 button.colab-df-convert');\n",
              "        buttonEl.style.display =\n",
              "          google.colab.kernel.accessAllowed ? 'block' : 'none';\n",
              "\n",
              "        async function convertToInteractive(key) {\n",
              "          const element = document.querySelector('#df-bc7906a5-4b0a-4906-b3b2-beee923c9ab5');\n",
              "          const dataTable =\n",
              "            await google.colab.kernel.invokeFunction('convertToInteractive',\n",
              "                                                     [key], {});\n",
              "          if (!dataTable) return;\n",
              "\n",
              "          const docLinkHtml = 'Like what you see? Visit the ' +\n",
              "            '<a target=\"_blank\" href=https://colab.research.google.com/notebooks/data_table.ipynb>data table notebook</a>'\n",
              "            + ' to learn more about interactive tables.';\n",
              "          element.innerHTML = '';\n",
              "          dataTable['output_type'] = 'display_data';\n",
              "          await google.colab.output.renderOutput(dataTable, element);\n",
              "          const docLink = document.createElement('div');\n",
              "          docLink.innerHTML = docLinkHtml;\n",
              "          element.appendChild(docLink);\n",
              "        }\n",
              "      </script>\n",
              "    </div>\n",
              "  </div>\n",
              "  "
            ]
          },
          "metadata": {},
          "execution_count": 33
        }
      ]
    },
    {
      "cell_type": "code",
      "metadata": {
        "colab": {
          "base_uri": "https://localhost:8080/"
        },
        "id": "uTAo6oKo7GDE",
        "outputId": "cef8919c-a5a6-4797-c051-49b64f64b313"
      },
      "source": [
        "cad_domiciliar.shape"
      ],
      "execution_count": null,
      "outputs": [
        {
          "output_type": "execute_result",
          "data": {
            "text/plain": [
              "(64940, 61)"
            ]
          },
          "metadata": {},
          "execution_count": 34
        }
      ]
    },
    {
      "cell_type": "code",
      "metadata": {
        "colab": {
          "base_uri": "https://localhost:8080/"
        },
        "id": "BdQUwa2j5u-l",
        "outputId": "ef28217f-3bbb-4d66-c7e2-3955e2756c71"
      },
      "source": [
        "columns = ['co_seq_fat_cad_domiciliar','co_dim_unidade_saude','co_dim_equipe','co_dim_tempo','qt_morador','nu_comodo','co_dim_tipo_imovel',\n",
        "           'co_dim_tipo_logradouro','co_dim_tipo_situacao_moradia','co_dim_tipo_localizacao','co_dim_tipo_domicilio','co_dim_tipo_posse_terra',\n",
        "           'co_dim_tipo_acesso_domicilio','co_dim_tipo_material_parede','co_dim_tipo_abastecimento_agua','co_dim_tipo_tratamento_agua',\n",
        "           'co_dim_tipo_escoamento_sanitar','co_dim_tipo_destino_lixo','st_disp_energia','st_animal_domiciliar','nu_micro_area','ds_filtro_tipo_renda_familiar','co_dim_municipio']\n",
        "cad_domiciliar_SELECTED = pd.DataFrame(cad_domiciliar, columns=columns)\n",
        "\n",
        "cad_domiciliar_SELECTED = cad_domiciliar_SELECTED.rename(columns={'co_dim_unidade_saude': 'co_dim_unidade_saude_CD'})\n",
        "cad_domiciliar_SELECTED = cad_domiciliar_SELECTED.rename(columns={'co_dim_equipe': 'co_dim_equipe_CD'})\n",
        "cad_domiciliar_SELECTED = cad_domiciliar_SELECTED.rename(columns={'co_dim_tempo': 'co_dim_tempo_CD'})\n",
        "cad_domiciliar_SELECTED = cad_domiciliar_SELECTED.rename(columns={'nu_micro_area': 'nu_micro_area_CD'})\n",
        "cad_domiciliar_SELECTED = cad_domiciliar_SELECTED.rename(columns={'co_dim_municipio': 'co_dim_municipio_CD'})\n",
        "cad_domiciliar_SELECTED.shape"
      ],
      "execution_count": null,
      "outputs": [
        {
          "output_type": "execute_result",
          "data": {
            "text/plain": [
              "(64940, 23)"
            ]
          },
          "metadata": {},
          "execution_count": 35
        }
      ]
    },
    {
      "cell_type": "markdown",
      "source": [
        "Otimização codigo"
      ],
      "metadata": {
        "id": "qd_zDxd1nxqY"
      }
    },
    {
      "cell_type": "code",
      "source": [
        "cad_domiciliar_SELECTED = cad_domiciliar_SELECTED[['co_seq_fat_cad_domiciliar','co_dim_tipo_localizacao','co_dim_municipio_CD','co_dim_tempo_CD']]"
      ],
      "metadata": {
        "id": "v25wY3F0nzgi"
      },
      "execution_count": null,
      "outputs": []
    },
    {
      "cell_type": "markdown",
      "metadata": {
        "id": "5QUrAFjw_q3g"
      },
      "source": [
        "## Preparação para o linkage"
      ]
    },
    {
      "cell_type": "markdown",
      "metadata": {
        "id": "Hq8r1vOnC52a"
      },
      "source": [
        "###Cadastro Individual"
      ]
    },
    {
      "cell_type": "markdown",
      "metadata": {
        "id": "iNykQYGkJICO"
      },
      "source": [
        "Saber quantos tem chave única"
      ]
    },
    {
      "cell_type": "code",
      "metadata": {
        "colab": {
          "base_uri": "https://localhost:8080/"
        },
        "id": "tRhqpu4q_q3h",
        "outputId": "04d3e624-d1fc-46cc-fa17-987a6f3cca05"
      },
      "source": [
        "len(cad_individual_SELECTED ['co_fat_cidadao_pec'].unique().tolist())"
      ],
      "execution_count": null,
      "outputs": [
        {
          "output_type": "execute_result",
          "data": {
            "text/plain": [
              "82634"
            ]
          },
          "metadata": {},
          "execution_count": 37
        }
      ]
    },
    {
      "cell_type": "code",
      "metadata": {
        "colab": {
          "base_uri": "https://localhost:8080/"
        },
        "id": "RLA_EFy4JqwU",
        "outputId": "eb6f4aeb-c6a2-41f1-ec50-dd3164554394"
      },
      "source": [
        "cad_individual_SELECTED ['co_fat_cidadao_pec'].dtypes"
      ],
      "execution_count": null,
      "outputs": [
        {
          "output_type": "execute_result",
          "data": {
            "text/plain": [
              "dtype('int64')"
            ]
          },
          "metadata": {},
          "execution_count": 38
        }
      ]
    },
    {
      "cell_type": "markdown",
      "metadata": {
        "id": "f92chA0NJQMx"
      },
      "source": [
        "Criou uma coluna com a data de cadastro formatada"
      ]
    },
    {
      "cell_type": "code",
      "metadata": {
        "id": "cEJoAO5I_q3h"
      },
      "source": [
        "cad_individual_SELECTED ['co_dim_tempo_CI'] = pd.to_datetime(cad_individual_SELECTED ['co_dim_tempo'].astype(str), format='%Y%m%d')"
      ],
      "execution_count": null,
      "outputs": []
    },
    {
      "cell_type": "code",
      "metadata": {
        "colab": {
          "base_uri": "https://localhost:8080/"
        },
        "id": "E2j89zu9CEdv",
        "outputId": "afbbd6fc-8431-4846-9b4b-322ee039625d"
      },
      "source": [
        "cad_individual_SELECTED.head(1)"
      ],
      "execution_count": null,
      "outputs": [
        {
          "output_type": "execute_result",
          "data": {
            "text/plain": [
              "   co_fat_cidadao_pec  co_dim_sexo_CI  co_dim_unidade_saude_CI  co_dim_municipio_CI  co_dim_tempo  co_dim_identidade_genero_CI dt_nascimento_CI  nu_cpf_cidadao_CI co_dim_tempo_CI\n",
              "0              780359               2                      500                 9196      20200504                            5       1936-11-21        24196312691      2020-05-04"
            ],
            "text/html": [
              "\n",
              "  <div id=\"df-148da0f8-891c-4da9-a796-11e8af026cc5\">\n",
              "    <div class=\"colab-df-container\">\n",
              "      <div>\n",
              "<style scoped>\n",
              "    .dataframe tbody tr th:only-of-type {\n",
              "        vertical-align: middle;\n",
              "    }\n",
              "\n",
              "    .dataframe tbody tr th {\n",
              "        vertical-align: top;\n",
              "    }\n",
              "\n",
              "    .dataframe thead th {\n",
              "        text-align: right;\n",
              "    }\n",
              "</style>\n",
              "<table border=\"1\" class=\"dataframe\">\n",
              "  <thead>\n",
              "    <tr style=\"text-align: right;\">\n",
              "      <th></th>\n",
              "      <th>co_fat_cidadao_pec</th>\n",
              "      <th>co_dim_sexo_CI</th>\n",
              "      <th>co_dim_unidade_saude_CI</th>\n",
              "      <th>co_dim_municipio_CI</th>\n",
              "      <th>co_dim_tempo</th>\n",
              "      <th>co_dim_identidade_genero_CI</th>\n",
              "      <th>dt_nascimento_CI</th>\n",
              "      <th>nu_cpf_cidadao_CI</th>\n",
              "      <th>co_dim_tempo_CI</th>\n",
              "    </tr>\n",
              "  </thead>\n",
              "  <tbody>\n",
              "    <tr>\n",
              "      <th>0</th>\n",
              "      <td>780359</td>\n",
              "      <td>2</td>\n",
              "      <td>500</td>\n",
              "      <td>9196</td>\n",
              "      <td>20200504</td>\n",
              "      <td>5</td>\n",
              "      <td>1936-11-21</td>\n",
              "      <td>24196312691</td>\n",
              "      <td>2020-05-04</td>\n",
              "    </tr>\n",
              "  </tbody>\n",
              "</table>\n",
              "</div>\n",
              "      <button class=\"colab-df-convert\" onclick=\"convertToInteractive('df-148da0f8-891c-4da9-a796-11e8af026cc5')\"\n",
              "              title=\"Convert this dataframe to an interactive table.\"\n",
              "              style=\"display:none;\">\n",
              "        \n",
              "  <svg xmlns=\"http://www.w3.org/2000/svg\" height=\"24px\"viewBox=\"0 0 24 24\"\n",
              "       width=\"24px\">\n",
              "    <path d=\"M0 0h24v24H0V0z\" fill=\"none\"/>\n",
              "    <path d=\"M18.56 5.44l.94 2.06.94-2.06 2.06-.94-2.06-.94-.94-2.06-.94 2.06-2.06.94zm-11 1L8.5 8.5l.94-2.06 2.06-.94-2.06-.94L8.5 2.5l-.94 2.06-2.06.94zm10 10l.94 2.06.94-2.06 2.06-.94-2.06-.94-.94-2.06-.94 2.06-2.06.94z\"/><path d=\"M17.41 7.96l-1.37-1.37c-.4-.4-.92-.59-1.43-.59-.52 0-1.04.2-1.43.59L10.3 9.45l-7.72 7.72c-.78.78-.78 2.05 0 2.83L4 21.41c.39.39.9.59 1.41.59.51 0 1.02-.2 1.41-.59l7.78-7.78 2.81-2.81c.8-.78.8-2.07 0-2.86zM5.41 20L4 18.59l7.72-7.72 1.47 1.35L5.41 20z\"/>\n",
              "  </svg>\n",
              "      </button>\n",
              "      \n",
              "  <style>\n",
              "    .colab-df-container {\n",
              "      display:flex;\n",
              "      flex-wrap:wrap;\n",
              "      gap: 12px;\n",
              "    }\n",
              "\n",
              "    .colab-df-convert {\n",
              "      background-color: #E8F0FE;\n",
              "      border: none;\n",
              "      border-radius: 50%;\n",
              "      cursor: pointer;\n",
              "      display: none;\n",
              "      fill: #1967D2;\n",
              "      height: 32px;\n",
              "      padding: 0 0 0 0;\n",
              "      width: 32px;\n",
              "    }\n",
              "\n",
              "    .colab-df-convert:hover {\n",
              "      background-color: #E2EBFA;\n",
              "      box-shadow: 0px 1px 2px rgba(60, 64, 67, 0.3), 0px 1px 3px 1px rgba(60, 64, 67, 0.15);\n",
              "      fill: #174EA6;\n",
              "    }\n",
              "\n",
              "    [theme=dark] .colab-df-convert {\n",
              "      background-color: #3B4455;\n",
              "      fill: #D2E3FC;\n",
              "    }\n",
              "\n",
              "    [theme=dark] .colab-df-convert:hover {\n",
              "      background-color: #434B5C;\n",
              "      box-shadow: 0px 1px 3px 1px rgba(0, 0, 0, 0.15);\n",
              "      filter: drop-shadow(0px 1px 2px rgba(0, 0, 0, 0.3));\n",
              "      fill: #FFFFFF;\n",
              "    }\n",
              "  </style>\n",
              "\n",
              "      <script>\n",
              "        const buttonEl =\n",
              "          document.querySelector('#df-148da0f8-891c-4da9-a796-11e8af026cc5 button.colab-df-convert');\n",
              "        buttonEl.style.display =\n",
              "          google.colab.kernel.accessAllowed ? 'block' : 'none';\n",
              "\n",
              "        async function convertToInteractive(key) {\n",
              "          const element = document.querySelector('#df-148da0f8-891c-4da9-a796-11e8af026cc5');\n",
              "          const dataTable =\n",
              "            await google.colab.kernel.invokeFunction('convertToInteractive',\n",
              "                                                     [key], {});\n",
              "          if (!dataTable) return;\n",
              "\n",
              "          const docLinkHtml = 'Like what you see? Visit the ' +\n",
              "            '<a target=\"_blank\" href=https://colab.research.google.com/notebooks/data_table.ipynb>data table notebook</a>'\n",
              "            + ' to learn more about interactive tables.';\n",
              "          element.innerHTML = '';\n",
              "          dataTable['output_type'] = 'display_data';\n",
              "          await google.colab.output.renderOutput(dataTable, element);\n",
              "          const docLink = document.createElement('div');\n",
              "          docLink.innerHTML = docLinkHtml;\n",
              "          element.appendChild(docLink);\n",
              "        }\n",
              "      </script>\n",
              "    </div>\n",
              "  </div>\n",
              "  "
            ]
          },
          "metadata": {},
          "execution_count": 40
        }
      ]
    },
    {
      "cell_type": "code",
      "metadata": {
        "colab": {
          "base_uri": "https://localhost:8080/"
        },
        "id": "bVuqc9scJp-2",
        "outputId": "84657166-60a5-4030-9399-d7beb1fea15f"
      },
      "source": [
        "cad_individual_SELECTED.shape"
      ],
      "execution_count": null,
      "outputs": [
        {
          "output_type": "execute_result",
          "data": {
            "text/plain": [
              "(181208, 9)"
            ]
          },
          "metadata": {},
          "execution_count": 41
        }
      ]
    },
    {
      "cell_type": "markdown",
      "metadata": {
        "id": "PoJLZLI0JsjM"
      },
      "source": [
        "Agrupando e deixando somente o cadastro mais recente"
      ]
    },
    {
      "cell_type": "code",
      "metadata": {
        "id": "HPNbAf48_q3i"
      },
      "source": [
        "cad_individual_SELECTED_group = cad_individual_SELECTED.groupby(\n",
        "   ['co_fat_cidadao_pec'],as_index=False\n",
        ").agg(\n",
        "    {\n",
        "         'co_dim_tempo_CI': 'max',  # get the first date per group\n",
        "    }\n",
        ")"
      ],
      "execution_count": null,
      "outputs": []
    },
    {
      "cell_type": "code",
      "metadata": {
        "colab": {
          "base_uri": "https://localhost:8080/"
        },
        "id": "UMvu3pVN_q3j",
        "outputId": "3e56c931-c9c0-4fb2-c243-53b6559142b5"
      },
      "source": [
        "cad_individual_merge = pd.merge(cad_individual_SELECTED, cad_individual_SELECTED_group, how=\"right\", on=['co_fat_cidadao_pec', 'co_dim_tempo_CI'])\n",
        "cad_individual_merge.shape"
      ],
      "execution_count": null,
      "outputs": [
        {
          "output_type": "execute_result",
          "data": {
            "text/plain": [
              "(83085, 9)"
            ]
          },
          "metadata": {},
          "execution_count": 43
        }
      ]
    },
    {
      "cell_type": "code",
      "metadata": {
        "colab": {
          "base_uri": "https://localhost:8080/"
        },
        "id": "pGjdXrrj_q3j",
        "outputId": "29eafbce-6b7e-4fbb-aba8-67bb496a3622"
      },
      "source": [
        "cad_individual_merge.head(1)"
      ],
      "execution_count": null,
      "outputs": [
        {
          "output_type": "execute_result",
          "data": {
            "text/plain": [
              "   co_fat_cidadao_pec  co_dim_sexo_CI  co_dim_unidade_saude_CI  co_dim_municipio_CI  co_dim_tempo  co_dim_identidade_genero_CI dt_nascimento_CI  nu_cpf_cidadao_CI co_dim_tempo_CI\n",
              "0              694841               2                      509                 9196      20220309                            5       1996-08-31        10237295636      2022-03-09"
            ],
            "text/html": [
              "\n",
              "  <div id=\"df-1ae820f5-db21-498c-b4ba-c04c8c86a8bb\">\n",
              "    <div class=\"colab-df-container\">\n",
              "      <div>\n",
              "<style scoped>\n",
              "    .dataframe tbody tr th:only-of-type {\n",
              "        vertical-align: middle;\n",
              "    }\n",
              "\n",
              "    .dataframe tbody tr th {\n",
              "        vertical-align: top;\n",
              "    }\n",
              "\n",
              "    .dataframe thead th {\n",
              "        text-align: right;\n",
              "    }\n",
              "</style>\n",
              "<table border=\"1\" class=\"dataframe\">\n",
              "  <thead>\n",
              "    <tr style=\"text-align: right;\">\n",
              "      <th></th>\n",
              "      <th>co_fat_cidadao_pec</th>\n",
              "      <th>co_dim_sexo_CI</th>\n",
              "      <th>co_dim_unidade_saude_CI</th>\n",
              "      <th>co_dim_municipio_CI</th>\n",
              "      <th>co_dim_tempo</th>\n",
              "      <th>co_dim_identidade_genero_CI</th>\n",
              "      <th>dt_nascimento_CI</th>\n",
              "      <th>nu_cpf_cidadao_CI</th>\n",
              "      <th>co_dim_tempo_CI</th>\n",
              "    </tr>\n",
              "  </thead>\n",
              "  <tbody>\n",
              "    <tr>\n",
              "      <th>0</th>\n",
              "      <td>694841</td>\n",
              "      <td>2</td>\n",
              "      <td>509</td>\n",
              "      <td>9196</td>\n",
              "      <td>20220309</td>\n",
              "      <td>5</td>\n",
              "      <td>1996-08-31</td>\n",
              "      <td>10237295636</td>\n",
              "      <td>2022-03-09</td>\n",
              "    </tr>\n",
              "  </tbody>\n",
              "</table>\n",
              "</div>\n",
              "      <button class=\"colab-df-convert\" onclick=\"convertToInteractive('df-1ae820f5-db21-498c-b4ba-c04c8c86a8bb')\"\n",
              "              title=\"Convert this dataframe to an interactive table.\"\n",
              "              style=\"display:none;\">\n",
              "        \n",
              "  <svg xmlns=\"http://www.w3.org/2000/svg\" height=\"24px\"viewBox=\"0 0 24 24\"\n",
              "       width=\"24px\">\n",
              "    <path d=\"M0 0h24v24H0V0z\" fill=\"none\"/>\n",
              "    <path d=\"M18.56 5.44l.94 2.06.94-2.06 2.06-.94-2.06-.94-.94-2.06-.94 2.06-2.06.94zm-11 1L8.5 8.5l.94-2.06 2.06-.94-2.06-.94L8.5 2.5l-.94 2.06-2.06.94zm10 10l.94 2.06.94-2.06 2.06-.94-2.06-.94-.94-2.06-.94 2.06-2.06.94z\"/><path d=\"M17.41 7.96l-1.37-1.37c-.4-.4-.92-.59-1.43-.59-.52 0-1.04.2-1.43.59L10.3 9.45l-7.72 7.72c-.78.78-.78 2.05 0 2.83L4 21.41c.39.39.9.59 1.41.59.51 0 1.02-.2 1.41-.59l7.78-7.78 2.81-2.81c.8-.78.8-2.07 0-2.86zM5.41 20L4 18.59l7.72-7.72 1.47 1.35L5.41 20z\"/>\n",
              "  </svg>\n",
              "      </button>\n",
              "      \n",
              "  <style>\n",
              "    .colab-df-container {\n",
              "      display:flex;\n",
              "      flex-wrap:wrap;\n",
              "      gap: 12px;\n",
              "    }\n",
              "\n",
              "    .colab-df-convert {\n",
              "      background-color: #E8F0FE;\n",
              "      border: none;\n",
              "      border-radius: 50%;\n",
              "      cursor: pointer;\n",
              "      display: none;\n",
              "      fill: #1967D2;\n",
              "      height: 32px;\n",
              "      padding: 0 0 0 0;\n",
              "      width: 32px;\n",
              "    }\n",
              "\n",
              "    .colab-df-convert:hover {\n",
              "      background-color: #E2EBFA;\n",
              "      box-shadow: 0px 1px 2px rgba(60, 64, 67, 0.3), 0px 1px 3px 1px rgba(60, 64, 67, 0.15);\n",
              "      fill: #174EA6;\n",
              "    }\n",
              "\n",
              "    [theme=dark] .colab-df-convert {\n",
              "      background-color: #3B4455;\n",
              "      fill: #D2E3FC;\n",
              "    }\n",
              "\n",
              "    [theme=dark] .colab-df-convert:hover {\n",
              "      background-color: #434B5C;\n",
              "      box-shadow: 0px 1px 3px 1px rgba(0, 0, 0, 0.15);\n",
              "      filter: drop-shadow(0px 1px 2px rgba(0, 0, 0, 0.3));\n",
              "      fill: #FFFFFF;\n",
              "    }\n",
              "  </style>\n",
              "\n",
              "      <script>\n",
              "        const buttonEl =\n",
              "          document.querySelector('#df-1ae820f5-db21-498c-b4ba-c04c8c86a8bb button.colab-df-convert');\n",
              "        buttonEl.style.display =\n",
              "          google.colab.kernel.accessAllowed ? 'block' : 'none';\n",
              "\n",
              "        async function convertToInteractive(key) {\n",
              "          const element = document.querySelector('#df-1ae820f5-db21-498c-b4ba-c04c8c86a8bb');\n",
              "          const dataTable =\n",
              "            await google.colab.kernel.invokeFunction('convertToInteractive',\n",
              "                                                     [key], {});\n",
              "          if (!dataTable) return;\n",
              "\n",
              "          const docLinkHtml = 'Like what you see? Visit the ' +\n",
              "            '<a target=\"_blank\" href=https://colab.research.google.com/notebooks/data_table.ipynb>data table notebook</a>'\n",
              "            + ' to learn more about interactive tables.';\n",
              "          element.innerHTML = '';\n",
              "          dataTable['output_type'] = 'display_data';\n",
              "          await google.colab.output.renderOutput(dataTable, element);\n",
              "          const docLink = document.createElement('div');\n",
              "          docLink.innerHTML = docLinkHtml;\n",
              "          element.appendChild(docLink);\n",
              "        }\n",
              "      </script>\n",
              "    </div>\n",
              "  </div>\n",
              "  "
            ]
          },
          "metadata": {},
          "execution_count": 44
        }
      ]
    },
    {
      "cell_type": "code",
      "metadata": {
        "colab": {
          "base_uri": "https://localhost:8080/"
        },
        "id": "ka-4uOiD_q3k",
        "outputId": "8e6211d4-44e9-4eaa-b8f1-b6dcdc2e1c98"
      },
      "source": [
        "# To keep discard the duplicated row with a condition to keep only those with an higher amount of CPF\n",
        "cad_individual_merge = cad_individual_merge.sort_values('nu_cpf_cidadao_CI',ascending=True).drop_duplicates(subset=['co_fat_cidadao_pec', 'co_dim_tempo_CI'],keep = 'last')\n",
        "cad_individual_merge.shape"
      ],
      "execution_count": null,
      "outputs": [
        {
          "output_type": "execute_result",
          "data": {
            "text/plain": [
              "(82634, 9)"
            ]
          },
          "metadata": {},
          "execution_count": 45
        }
      ]
    },
    {
      "cell_type": "markdown",
      "source": [
        "Otimização de codigos"
      ],
      "metadata": {
        "id": "xYykfnMV6jAa"
      }
    },
    {
      "cell_type": "code",
      "source": [
        "cad_individual_merge = cad_individual_merge.drop(['nu_cpf_cidadao_CI'], axis = 1)\n",
        "cad_individual_merge.shape"
      ],
      "metadata": {
        "colab": {
          "base_uri": "https://localhost:8080/"
        },
        "id": "CQ8-Nf4J6f61",
        "outputId": "3c4d2797-b6c4-4c6e-feb6-07998dc1a333"
      },
      "execution_count": null,
      "outputs": [
        {
          "output_type": "execute_result",
          "data": {
            "text/plain": [
              "(82634, 8)"
            ]
          },
          "metadata": {},
          "execution_count": 46
        }
      ]
    },
    {
      "cell_type": "code",
      "source": [
        "cad_individual_merge.head(5)"
      ],
      "metadata": {
        "colab": {
          "base_uri": "https://localhost:8080/"
        },
        "id": "S1itK1Jg7YPk",
        "outputId": "4ac8925a-0600-4339-eab1-5ecafd2d4a7c"
      },
      "execution_count": null,
      "outputs": [
        {
          "output_type": "execute_result",
          "data": {
            "text/plain": [
              "       co_fat_cidadao_pec  co_dim_sexo_CI  co_dim_unidade_saude_CI  co_dim_municipio_CI  co_dim_tempo  co_dim_identidade_genero_CI dt_nascimento_CI co_dim_tempo_CI\n",
              "41542              738791               1                      495                 9196      20170731                            5       1985-04-25      2017-07-31\n",
              "45515              742969               2                      504                 9196      20170904                            5       2015-02-15      2017-09-04\n",
              "45516              742970               1                      509                 9196      20211001                            5       1987-08-08      2021-10-01\n",
              "45517              742971               2                      506                 9196      20170904                            5       1980-08-20      2017-09-04\n",
              "45518              742972               2                      509                 9196      20200603                            5       1941-10-24      2020-06-03"
            ],
            "text/html": [
              "\n",
              "  <div id=\"df-d401b8f8-dafb-485d-b04f-886231dd34d4\">\n",
              "    <div class=\"colab-df-container\">\n",
              "      <div>\n",
              "<style scoped>\n",
              "    .dataframe tbody tr th:only-of-type {\n",
              "        vertical-align: middle;\n",
              "    }\n",
              "\n",
              "    .dataframe tbody tr th {\n",
              "        vertical-align: top;\n",
              "    }\n",
              "\n",
              "    .dataframe thead th {\n",
              "        text-align: right;\n",
              "    }\n",
              "</style>\n",
              "<table border=\"1\" class=\"dataframe\">\n",
              "  <thead>\n",
              "    <tr style=\"text-align: right;\">\n",
              "      <th></th>\n",
              "      <th>co_fat_cidadao_pec</th>\n",
              "      <th>co_dim_sexo_CI</th>\n",
              "      <th>co_dim_unidade_saude_CI</th>\n",
              "      <th>co_dim_municipio_CI</th>\n",
              "      <th>co_dim_tempo</th>\n",
              "      <th>co_dim_identidade_genero_CI</th>\n",
              "      <th>dt_nascimento_CI</th>\n",
              "      <th>co_dim_tempo_CI</th>\n",
              "    </tr>\n",
              "  </thead>\n",
              "  <tbody>\n",
              "    <tr>\n",
              "      <th>41542</th>\n",
              "      <td>738791</td>\n",
              "      <td>1</td>\n",
              "      <td>495</td>\n",
              "      <td>9196</td>\n",
              "      <td>20170731</td>\n",
              "      <td>5</td>\n",
              "      <td>1985-04-25</td>\n",
              "      <td>2017-07-31</td>\n",
              "    </tr>\n",
              "    <tr>\n",
              "      <th>45515</th>\n",
              "      <td>742969</td>\n",
              "      <td>2</td>\n",
              "      <td>504</td>\n",
              "      <td>9196</td>\n",
              "      <td>20170904</td>\n",
              "      <td>5</td>\n",
              "      <td>2015-02-15</td>\n",
              "      <td>2017-09-04</td>\n",
              "    </tr>\n",
              "    <tr>\n",
              "      <th>45516</th>\n",
              "      <td>742970</td>\n",
              "      <td>1</td>\n",
              "      <td>509</td>\n",
              "      <td>9196</td>\n",
              "      <td>20211001</td>\n",
              "      <td>5</td>\n",
              "      <td>1987-08-08</td>\n",
              "      <td>2021-10-01</td>\n",
              "    </tr>\n",
              "    <tr>\n",
              "      <th>45517</th>\n",
              "      <td>742971</td>\n",
              "      <td>2</td>\n",
              "      <td>506</td>\n",
              "      <td>9196</td>\n",
              "      <td>20170904</td>\n",
              "      <td>5</td>\n",
              "      <td>1980-08-20</td>\n",
              "      <td>2017-09-04</td>\n",
              "    </tr>\n",
              "    <tr>\n",
              "      <th>45518</th>\n",
              "      <td>742972</td>\n",
              "      <td>2</td>\n",
              "      <td>509</td>\n",
              "      <td>9196</td>\n",
              "      <td>20200603</td>\n",
              "      <td>5</td>\n",
              "      <td>1941-10-24</td>\n",
              "      <td>2020-06-03</td>\n",
              "    </tr>\n",
              "  </tbody>\n",
              "</table>\n",
              "</div>\n",
              "      <button class=\"colab-df-convert\" onclick=\"convertToInteractive('df-d401b8f8-dafb-485d-b04f-886231dd34d4')\"\n",
              "              title=\"Convert this dataframe to an interactive table.\"\n",
              "              style=\"display:none;\">\n",
              "        \n",
              "  <svg xmlns=\"http://www.w3.org/2000/svg\" height=\"24px\"viewBox=\"0 0 24 24\"\n",
              "       width=\"24px\">\n",
              "    <path d=\"M0 0h24v24H0V0z\" fill=\"none\"/>\n",
              "    <path d=\"M18.56 5.44l.94 2.06.94-2.06 2.06-.94-2.06-.94-.94-2.06-.94 2.06-2.06.94zm-11 1L8.5 8.5l.94-2.06 2.06-.94-2.06-.94L8.5 2.5l-.94 2.06-2.06.94zm10 10l.94 2.06.94-2.06 2.06-.94-2.06-.94-.94-2.06-.94 2.06-2.06.94z\"/><path d=\"M17.41 7.96l-1.37-1.37c-.4-.4-.92-.59-1.43-.59-.52 0-1.04.2-1.43.59L10.3 9.45l-7.72 7.72c-.78.78-.78 2.05 0 2.83L4 21.41c.39.39.9.59 1.41.59.51 0 1.02-.2 1.41-.59l7.78-7.78 2.81-2.81c.8-.78.8-2.07 0-2.86zM5.41 20L4 18.59l7.72-7.72 1.47 1.35L5.41 20z\"/>\n",
              "  </svg>\n",
              "      </button>\n",
              "      \n",
              "  <style>\n",
              "    .colab-df-container {\n",
              "      display:flex;\n",
              "      flex-wrap:wrap;\n",
              "      gap: 12px;\n",
              "    }\n",
              "\n",
              "    .colab-df-convert {\n",
              "      background-color: #E8F0FE;\n",
              "      border: none;\n",
              "      border-radius: 50%;\n",
              "      cursor: pointer;\n",
              "      display: none;\n",
              "      fill: #1967D2;\n",
              "      height: 32px;\n",
              "      padding: 0 0 0 0;\n",
              "      width: 32px;\n",
              "    }\n",
              "\n",
              "    .colab-df-convert:hover {\n",
              "      background-color: #E2EBFA;\n",
              "      box-shadow: 0px 1px 2px rgba(60, 64, 67, 0.3), 0px 1px 3px 1px rgba(60, 64, 67, 0.15);\n",
              "      fill: #174EA6;\n",
              "    }\n",
              "\n",
              "    [theme=dark] .colab-df-convert {\n",
              "      background-color: #3B4455;\n",
              "      fill: #D2E3FC;\n",
              "    }\n",
              "\n",
              "    [theme=dark] .colab-df-convert:hover {\n",
              "      background-color: #434B5C;\n",
              "      box-shadow: 0px 1px 3px 1px rgba(0, 0, 0, 0.15);\n",
              "      filter: drop-shadow(0px 1px 2px rgba(0, 0, 0, 0.3));\n",
              "      fill: #FFFFFF;\n",
              "    }\n",
              "  </style>\n",
              "\n",
              "      <script>\n",
              "        const buttonEl =\n",
              "          document.querySelector('#df-d401b8f8-dafb-485d-b04f-886231dd34d4 button.colab-df-convert');\n",
              "        buttonEl.style.display =\n",
              "          google.colab.kernel.accessAllowed ? 'block' : 'none';\n",
              "\n",
              "        async function convertToInteractive(key) {\n",
              "          const element = document.querySelector('#df-d401b8f8-dafb-485d-b04f-886231dd34d4');\n",
              "          const dataTable =\n",
              "            await google.colab.kernel.invokeFunction('convertToInteractive',\n",
              "                                                     [key], {});\n",
              "          if (!dataTable) return;\n",
              "\n",
              "          const docLinkHtml = 'Like what you see? Visit the ' +\n",
              "            '<a target=\"_blank\" href=https://colab.research.google.com/notebooks/data_table.ipynb>data table notebook</a>'\n",
              "            + ' to learn more about interactive tables.';\n",
              "          element.innerHTML = '';\n",
              "          dataTable['output_type'] = 'display_data';\n",
              "          await google.colab.output.renderOutput(dataTable, element);\n",
              "          const docLink = document.createElement('div');\n",
              "          docLink.innerHTML = docLinkHtml;\n",
              "          element.appendChild(docLink);\n",
              "        }\n",
              "      </script>\n",
              "    </div>\n",
              "  </div>\n",
              "  "
            ]
          },
          "metadata": {},
          "execution_count": 47
        }
      ]
    },
    {
      "cell_type": "markdown",
      "metadata": {
        "id": "l4dsBu6cEMNG"
      },
      "source": [
        "###Cidadão PEC"
      ]
    },
    {
      "cell_type": "code",
      "metadata": {
        "colab": {
          "base_uri": "https://localhost:8080/"
        },
        "id": "fjeUmsRs_q3m",
        "outputId": "812c8747-8107-48e0-a5bd-27e8daecba58"
      },
      "source": [
        "cidadao_pec_SELECTED = cidadao_pec_SELECTED.rename(columns={'co_seq_fat_cidadao_pec': 'co_fat_cidadao_pec'})\n",
        "cidadao_pec_SELECTED.shape"
      ],
      "execution_count": null,
      "outputs": [
        {
          "output_type": "execute_result",
          "data": {
            "text/plain": [
              "(135558, 4)"
            ]
          },
          "metadata": {},
          "execution_count": 48
        }
      ]
    },
    {
      "cell_type": "code",
      "metadata": {
        "colab": {
          "base_uri": "https://localhost:8080/"
        },
        "id": "DoU4Hwoq_q3m",
        "outputId": "e6742a8c-b9b6-4943-f584-2e26c5439192"
      },
      "source": [
        "len(cidadao_pec_SELECTED['co_fat_cidadao_pec'].unique().tolist())"
      ],
      "execution_count": null,
      "outputs": [
        {
          "output_type": "execute_result",
          "data": {
            "text/plain": [
              "135558"
            ]
          },
          "metadata": {},
          "execution_count": 49
        }
      ]
    },
    {
      "cell_type": "code",
      "metadata": {
        "colab": {
          "base_uri": "https://localhost:8080/"
        },
        "id": "hvQi3N2kLfv2",
        "outputId": "31820bc6-b221-4a26-95c6-c099750f7769"
      },
      "source": [
        "cidadao_pec_SELECTED['co_fat_cidadao_pec'].dtypes"
      ],
      "execution_count": null,
      "outputs": [
        {
          "output_type": "execute_result",
          "data": {
            "text/plain": [
              "dtype('int64')"
            ]
          },
          "metadata": {},
          "execution_count": 50
        }
      ]
    },
    {
      "cell_type": "markdown",
      "metadata": {
        "id": "yH5liCRU_q3r"
      },
      "source": [
        "###Cidadão território"
      ]
    },
    {
      "cell_type": "code",
      "metadata": {
        "colab": {
          "base_uri": "https://localhost:8080/"
        },
        "id": "tJna5pnx_q3s",
        "outputId": "c3126e0b-0577-4391-cf93-e5fd6e1e649e"
      },
      "source": [
        "len(cidadao_territorio_SELECTED ['co_fat_cidadao_pec'].unique().tolist())"
      ],
      "execution_count": null,
      "outputs": [
        {
          "output_type": "execute_result",
          "data": {
            "text/plain": [
              "82308"
            ]
          },
          "metadata": {},
          "execution_count": 51
        }
      ]
    },
    {
      "cell_type": "code",
      "metadata": {
        "colab": {
          "base_uri": "https://localhost:8080/"
        },
        "id": "cA15jI4-MrGp",
        "outputId": "3f619b9a-695a-4509-cc7a-661b32747e31"
      },
      "source": [
        "cidadao_territorio_SELECTED ['co_fat_cidadao_pec'].dtypes"
      ],
      "execution_count": null,
      "outputs": [
        {
          "output_type": "execute_result",
          "data": {
            "text/plain": [
              "dtype('int64')"
            ]
          },
          "metadata": {},
          "execution_count": 52
        }
      ]
    },
    {
      "cell_type": "code",
      "metadata": {
        "id": "9qfWfJEA_q3t"
      },
      "source": [
        "cidadao_territorio_SELECTED_group = cidadao_territorio_SELECTED.groupby(\n",
        "   ['co_fat_cidadao_pec'],as_index=False\n",
        ").agg(\n",
        "    {\n",
        "         'co_seq_fat_cidadao_territorio': 'max',  # get the first date per group\n",
        "    }\n",
        ")"
      ],
      "execution_count": null,
      "outputs": []
    },
    {
      "cell_type": "code",
      "metadata": {
        "colab": {
          "base_uri": "https://localhost:8080/"
        },
        "id": "0yPnWaDs_q3v",
        "outputId": "6070f23d-bb8c-4f53-88a9-e13b8a924c10"
      },
      "source": [
        "cidadao_territorio_merge = pd.merge(cidadao_territorio_SELECTED, cidadao_territorio_SELECTED_group, how=\"right\", on=['co_fat_cidadao_pec', 'co_seq_fat_cidadao_territorio'])\n",
        "cidadao_territorio_merge.shape"
      ],
      "execution_count": null,
      "outputs": [
        {
          "output_type": "execute_result",
          "data": {
            "text/plain": [
              "(82308, 3)"
            ]
          },
          "metadata": {},
          "execution_count": 54
        }
      ]
    },
    {
      "cell_type": "code",
      "metadata": {
        "colab": {
          "base_uri": "https://localhost:8080/"
        },
        "id": "cyVxEFlu_q3v",
        "outputId": "8d3bb63c-35db-4b72-91e7-2a1240f3ec4e"
      },
      "source": [
        "cidadao_territorio_merge.head(1)"
      ],
      "execution_count": null,
      "outputs": [
        {
          "output_type": "execute_result",
          "data": {
            "text/plain": [
              "   co_fat_cidadao_pec  co_seq_fat_cidadao_territorio  co_seq_fat_familia_territorio\n",
              "0              694841                        2502990                            NaN"
            ],
            "text/html": [
              "\n",
              "  <div id=\"df-bbc7949a-53e4-47bf-aaaf-cc37ea3a3b41\">\n",
              "    <div class=\"colab-df-container\">\n",
              "      <div>\n",
              "<style scoped>\n",
              "    .dataframe tbody tr th:only-of-type {\n",
              "        vertical-align: middle;\n",
              "    }\n",
              "\n",
              "    .dataframe tbody tr th {\n",
              "        vertical-align: top;\n",
              "    }\n",
              "\n",
              "    .dataframe thead th {\n",
              "        text-align: right;\n",
              "    }\n",
              "</style>\n",
              "<table border=\"1\" class=\"dataframe\">\n",
              "  <thead>\n",
              "    <tr style=\"text-align: right;\">\n",
              "      <th></th>\n",
              "      <th>co_fat_cidadao_pec</th>\n",
              "      <th>co_seq_fat_cidadao_territorio</th>\n",
              "      <th>co_seq_fat_familia_territorio</th>\n",
              "    </tr>\n",
              "  </thead>\n",
              "  <tbody>\n",
              "    <tr>\n",
              "      <th>0</th>\n",
              "      <td>694841</td>\n",
              "      <td>2502990</td>\n",
              "      <td>NaN</td>\n",
              "    </tr>\n",
              "  </tbody>\n",
              "</table>\n",
              "</div>\n",
              "      <button class=\"colab-df-convert\" onclick=\"convertToInteractive('df-bbc7949a-53e4-47bf-aaaf-cc37ea3a3b41')\"\n",
              "              title=\"Convert this dataframe to an interactive table.\"\n",
              "              style=\"display:none;\">\n",
              "        \n",
              "  <svg xmlns=\"http://www.w3.org/2000/svg\" height=\"24px\"viewBox=\"0 0 24 24\"\n",
              "       width=\"24px\">\n",
              "    <path d=\"M0 0h24v24H0V0z\" fill=\"none\"/>\n",
              "    <path d=\"M18.56 5.44l.94 2.06.94-2.06 2.06-.94-2.06-.94-.94-2.06-.94 2.06-2.06.94zm-11 1L8.5 8.5l.94-2.06 2.06-.94-2.06-.94L8.5 2.5l-.94 2.06-2.06.94zm10 10l.94 2.06.94-2.06 2.06-.94-2.06-.94-.94-2.06-.94 2.06-2.06.94z\"/><path d=\"M17.41 7.96l-1.37-1.37c-.4-.4-.92-.59-1.43-.59-.52 0-1.04.2-1.43.59L10.3 9.45l-7.72 7.72c-.78.78-.78 2.05 0 2.83L4 21.41c.39.39.9.59 1.41.59.51 0 1.02-.2 1.41-.59l7.78-7.78 2.81-2.81c.8-.78.8-2.07 0-2.86zM5.41 20L4 18.59l7.72-7.72 1.47 1.35L5.41 20z\"/>\n",
              "  </svg>\n",
              "      </button>\n",
              "      \n",
              "  <style>\n",
              "    .colab-df-container {\n",
              "      display:flex;\n",
              "      flex-wrap:wrap;\n",
              "      gap: 12px;\n",
              "    }\n",
              "\n",
              "    .colab-df-convert {\n",
              "      background-color: #E8F0FE;\n",
              "      border: none;\n",
              "      border-radius: 50%;\n",
              "      cursor: pointer;\n",
              "      display: none;\n",
              "      fill: #1967D2;\n",
              "      height: 32px;\n",
              "      padding: 0 0 0 0;\n",
              "      width: 32px;\n",
              "    }\n",
              "\n",
              "    .colab-df-convert:hover {\n",
              "      background-color: #E2EBFA;\n",
              "      box-shadow: 0px 1px 2px rgba(60, 64, 67, 0.3), 0px 1px 3px 1px rgba(60, 64, 67, 0.15);\n",
              "      fill: #174EA6;\n",
              "    }\n",
              "\n",
              "    [theme=dark] .colab-df-convert {\n",
              "      background-color: #3B4455;\n",
              "      fill: #D2E3FC;\n",
              "    }\n",
              "\n",
              "    [theme=dark] .colab-df-convert:hover {\n",
              "      background-color: #434B5C;\n",
              "      box-shadow: 0px 1px 3px 1px rgba(0, 0, 0, 0.15);\n",
              "      filter: drop-shadow(0px 1px 2px rgba(0, 0, 0, 0.3));\n",
              "      fill: #FFFFFF;\n",
              "    }\n",
              "  </style>\n",
              "\n",
              "      <script>\n",
              "        const buttonEl =\n",
              "          document.querySelector('#df-bbc7949a-53e4-47bf-aaaf-cc37ea3a3b41 button.colab-df-convert');\n",
              "        buttonEl.style.display =\n",
              "          google.colab.kernel.accessAllowed ? 'block' : 'none';\n",
              "\n",
              "        async function convertToInteractive(key) {\n",
              "          const element = document.querySelector('#df-bbc7949a-53e4-47bf-aaaf-cc37ea3a3b41');\n",
              "          const dataTable =\n",
              "            await google.colab.kernel.invokeFunction('convertToInteractive',\n",
              "                                                     [key], {});\n",
              "          if (!dataTable) return;\n",
              "\n",
              "          const docLinkHtml = 'Like what you see? Visit the ' +\n",
              "            '<a target=\"_blank\" href=https://colab.research.google.com/notebooks/data_table.ipynb>data table notebook</a>'\n",
              "            + ' to learn more about interactive tables.';\n",
              "          element.innerHTML = '';\n",
              "          dataTable['output_type'] = 'display_data';\n",
              "          await google.colab.output.renderOutput(dataTable, element);\n",
              "          const docLink = document.createElement('div');\n",
              "          docLink.innerHTML = docLinkHtml;\n",
              "          element.appendChild(docLink);\n",
              "        }\n",
              "      </script>\n",
              "    </div>\n",
              "  </div>\n",
              "  "
            ]
          },
          "metadata": {},
          "execution_count": 55
        }
      ]
    },
    {
      "cell_type": "markdown",
      "metadata": {
        "id": "QemTlUZw_q3x"
      },
      "source": [
        "###Família território"
      ]
    },
    {
      "cell_type": "code",
      "metadata": {
        "id": "gOwwe46P_q3y",
        "colab": {
          "base_uri": "https://localhost:8080/"
        },
        "outputId": "34e50ba7-947b-4b8e-d084-afd32696dc7d"
      },
      "source": [
        "familia_territorio_SELECTED.shape"
      ],
      "execution_count": null,
      "outputs": [
        {
          "output_type": "execute_result",
          "data": {
            "text/plain": [
              "(30455, 3)"
            ]
          },
          "metadata": {},
          "execution_count": 56
        }
      ]
    },
    {
      "cell_type": "code",
      "metadata": {
        "id": "ZGeO_jcd_q3y",
        "colab": {
          "base_uri": "https://localhost:8080/"
        },
        "outputId": "9ba724a8-580b-4261-aaf3-6e6c2bc82c13"
      },
      "source": [
        "familia_territorio_SELECTED.head(1)"
      ],
      "execution_count": null,
      "outputs": [
        {
          "output_type": "execute_result",
          "data": {
            "text/plain": [
              "   co_fat_cidadao_pec  co_seq_fat_familia_territorio  co_fat_cad_domiciliar\n",
              "0              778108                         365212                 395348"
            ],
            "text/html": [
              "\n",
              "  <div id=\"df-01bccbcc-e635-453c-8098-93d2e85aabdb\">\n",
              "    <div class=\"colab-df-container\">\n",
              "      <div>\n",
              "<style scoped>\n",
              "    .dataframe tbody tr th:only-of-type {\n",
              "        vertical-align: middle;\n",
              "    }\n",
              "\n",
              "    .dataframe tbody tr th {\n",
              "        vertical-align: top;\n",
              "    }\n",
              "\n",
              "    .dataframe thead th {\n",
              "        text-align: right;\n",
              "    }\n",
              "</style>\n",
              "<table border=\"1\" class=\"dataframe\">\n",
              "  <thead>\n",
              "    <tr style=\"text-align: right;\">\n",
              "      <th></th>\n",
              "      <th>co_fat_cidadao_pec</th>\n",
              "      <th>co_seq_fat_familia_territorio</th>\n",
              "      <th>co_fat_cad_domiciliar</th>\n",
              "    </tr>\n",
              "  </thead>\n",
              "  <tbody>\n",
              "    <tr>\n",
              "      <th>0</th>\n",
              "      <td>778108</td>\n",
              "      <td>365212</td>\n",
              "      <td>395348</td>\n",
              "    </tr>\n",
              "  </tbody>\n",
              "</table>\n",
              "</div>\n",
              "      <button class=\"colab-df-convert\" onclick=\"convertToInteractive('df-01bccbcc-e635-453c-8098-93d2e85aabdb')\"\n",
              "              title=\"Convert this dataframe to an interactive table.\"\n",
              "              style=\"display:none;\">\n",
              "        \n",
              "  <svg xmlns=\"http://www.w3.org/2000/svg\" height=\"24px\"viewBox=\"0 0 24 24\"\n",
              "       width=\"24px\">\n",
              "    <path d=\"M0 0h24v24H0V0z\" fill=\"none\"/>\n",
              "    <path d=\"M18.56 5.44l.94 2.06.94-2.06 2.06-.94-2.06-.94-.94-2.06-.94 2.06-2.06.94zm-11 1L8.5 8.5l.94-2.06 2.06-.94-2.06-.94L8.5 2.5l-.94 2.06-2.06.94zm10 10l.94 2.06.94-2.06 2.06-.94-2.06-.94-.94-2.06-.94 2.06-2.06.94z\"/><path d=\"M17.41 7.96l-1.37-1.37c-.4-.4-.92-.59-1.43-.59-.52 0-1.04.2-1.43.59L10.3 9.45l-7.72 7.72c-.78.78-.78 2.05 0 2.83L4 21.41c.39.39.9.59 1.41.59.51 0 1.02-.2 1.41-.59l7.78-7.78 2.81-2.81c.8-.78.8-2.07 0-2.86zM5.41 20L4 18.59l7.72-7.72 1.47 1.35L5.41 20z\"/>\n",
              "  </svg>\n",
              "      </button>\n",
              "      \n",
              "  <style>\n",
              "    .colab-df-container {\n",
              "      display:flex;\n",
              "      flex-wrap:wrap;\n",
              "      gap: 12px;\n",
              "    }\n",
              "\n",
              "    .colab-df-convert {\n",
              "      background-color: #E8F0FE;\n",
              "      border: none;\n",
              "      border-radius: 50%;\n",
              "      cursor: pointer;\n",
              "      display: none;\n",
              "      fill: #1967D2;\n",
              "      height: 32px;\n",
              "      padding: 0 0 0 0;\n",
              "      width: 32px;\n",
              "    }\n",
              "\n",
              "    .colab-df-convert:hover {\n",
              "      background-color: #E2EBFA;\n",
              "      box-shadow: 0px 1px 2px rgba(60, 64, 67, 0.3), 0px 1px 3px 1px rgba(60, 64, 67, 0.15);\n",
              "      fill: #174EA6;\n",
              "    }\n",
              "\n",
              "    [theme=dark] .colab-df-convert {\n",
              "      background-color: #3B4455;\n",
              "      fill: #D2E3FC;\n",
              "    }\n",
              "\n",
              "    [theme=dark] .colab-df-convert:hover {\n",
              "      background-color: #434B5C;\n",
              "      box-shadow: 0px 1px 3px 1px rgba(0, 0, 0, 0.15);\n",
              "      filter: drop-shadow(0px 1px 2px rgba(0, 0, 0, 0.3));\n",
              "      fill: #FFFFFF;\n",
              "    }\n",
              "  </style>\n",
              "\n",
              "      <script>\n",
              "        const buttonEl =\n",
              "          document.querySelector('#df-01bccbcc-e635-453c-8098-93d2e85aabdb button.colab-df-convert');\n",
              "        buttonEl.style.display =\n",
              "          google.colab.kernel.accessAllowed ? 'block' : 'none';\n",
              "\n",
              "        async function convertToInteractive(key) {\n",
              "          const element = document.querySelector('#df-01bccbcc-e635-453c-8098-93d2e85aabdb');\n",
              "          const dataTable =\n",
              "            await google.colab.kernel.invokeFunction('convertToInteractive',\n",
              "                                                     [key], {});\n",
              "          if (!dataTable) return;\n",
              "\n",
              "          const docLinkHtml = 'Like what you see? Visit the ' +\n",
              "            '<a target=\"_blank\" href=https://colab.research.google.com/notebooks/data_table.ipynb>data table notebook</a>'\n",
              "            + ' to learn more about interactive tables.';\n",
              "          element.innerHTML = '';\n",
              "          dataTable['output_type'] = 'display_data';\n",
              "          await google.colab.output.renderOutput(dataTable, element);\n",
              "          const docLink = document.createElement('div');\n",
              "          docLink.innerHTML = docLinkHtml;\n",
              "          element.appendChild(docLink);\n",
              "        }\n",
              "      </script>\n",
              "    </div>\n",
              "  </div>\n",
              "  "
            ]
          },
          "metadata": {},
          "execution_count": 57
        }
      ]
    },
    {
      "cell_type": "code",
      "metadata": {
        "id": "sxhjO-TG_q3z",
        "colab": {
          "base_uri": "https://localhost:8080/"
        },
        "outputId": "6f89d1df-e696-4e6e-a71e-155fef1944c2"
      },
      "source": [
        "familia_territorio_SELECTED = familia_territorio_SELECTED.rename(columns={'co_seq_fat_familia_territorio': 'co_fat_familia_territorio'})\n",
        "len(familia_territorio_SELECTED['co_fat_familia_territorio'].unique().tolist())"
      ],
      "execution_count": null,
      "outputs": [
        {
          "output_type": "execute_result",
          "data": {
            "text/plain": [
              "30455"
            ]
          },
          "metadata": {},
          "execution_count": 58
        }
      ]
    },
    {
      "cell_type": "code",
      "metadata": {
        "id": "H5J_Lxiaeerh"
      },
      "source": [
        "familia_territorio_SELECTED = familia_territorio_SELECTED.rename(columns={'co_fat_cidadao_pec': 'co_fat_cidadao_pec_FT'})"
      ],
      "execution_count": null,
      "outputs": []
    },
    {
      "cell_type": "code",
      "metadata": {
        "id": "7uU90zyz_q3z",
        "colab": {
          "base_uri": "https://localhost:8080/"
        },
        "outputId": "26dd4b25-e9a2-4320-acc9-be2ec8fc9ed2"
      },
      "source": [
        "familia_territorio_SELECTED.head(2)"
      ],
      "execution_count": null,
      "outputs": [
        {
          "output_type": "execute_result",
          "data": {
            "text/plain": [
              "   co_fat_cidadao_pec_FT  co_fat_familia_territorio  co_fat_cad_domiciliar\n",
              "0                 778108                     365212                 395348\n",
              "1                 698398                     365214                 395318"
            ],
            "text/html": [
              "\n",
              "  <div id=\"df-49a20469-7942-419a-92c0-3b310ff03089\">\n",
              "    <div class=\"colab-df-container\">\n",
              "      <div>\n",
              "<style scoped>\n",
              "    .dataframe tbody tr th:only-of-type {\n",
              "        vertical-align: middle;\n",
              "    }\n",
              "\n",
              "    .dataframe tbody tr th {\n",
              "        vertical-align: top;\n",
              "    }\n",
              "\n",
              "    .dataframe thead th {\n",
              "        text-align: right;\n",
              "    }\n",
              "</style>\n",
              "<table border=\"1\" class=\"dataframe\">\n",
              "  <thead>\n",
              "    <tr style=\"text-align: right;\">\n",
              "      <th></th>\n",
              "      <th>co_fat_cidadao_pec_FT</th>\n",
              "      <th>co_fat_familia_territorio</th>\n",
              "      <th>co_fat_cad_domiciliar</th>\n",
              "    </tr>\n",
              "  </thead>\n",
              "  <tbody>\n",
              "    <tr>\n",
              "      <th>0</th>\n",
              "      <td>778108</td>\n",
              "      <td>365212</td>\n",
              "      <td>395348</td>\n",
              "    </tr>\n",
              "    <tr>\n",
              "      <th>1</th>\n",
              "      <td>698398</td>\n",
              "      <td>365214</td>\n",
              "      <td>395318</td>\n",
              "    </tr>\n",
              "  </tbody>\n",
              "</table>\n",
              "</div>\n",
              "      <button class=\"colab-df-convert\" onclick=\"convertToInteractive('df-49a20469-7942-419a-92c0-3b310ff03089')\"\n",
              "              title=\"Convert this dataframe to an interactive table.\"\n",
              "              style=\"display:none;\">\n",
              "        \n",
              "  <svg xmlns=\"http://www.w3.org/2000/svg\" height=\"24px\"viewBox=\"0 0 24 24\"\n",
              "       width=\"24px\">\n",
              "    <path d=\"M0 0h24v24H0V0z\" fill=\"none\"/>\n",
              "    <path d=\"M18.56 5.44l.94 2.06.94-2.06 2.06-.94-2.06-.94-.94-2.06-.94 2.06-2.06.94zm-11 1L8.5 8.5l.94-2.06 2.06-.94-2.06-.94L8.5 2.5l-.94 2.06-2.06.94zm10 10l.94 2.06.94-2.06 2.06-.94-2.06-.94-.94-2.06-.94 2.06-2.06.94z\"/><path d=\"M17.41 7.96l-1.37-1.37c-.4-.4-.92-.59-1.43-.59-.52 0-1.04.2-1.43.59L10.3 9.45l-7.72 7.72c-.78.78-.78 2.05 0 2.83L4 21.41c.39.39.9.59 1.41.59.51 0 1.02-.2 1.41-.59l7.78-7.78 2.81-2.81c.8-.78.8-2.07 0-2.86zM5.41 20L4 18.59l7.72-7.72 1.47 1.35L5.41 20z\"/>\n",
              "  </svg>\n",
              "      </button>\n",
              "      \n",
              "  <style>\n",
              "    .colab-df-container {\n",
              "      display:flex;\n",
              "      flex-wrap:wrap;\n",
              "      gap: 12px;\n",
              "    }\n",
              "\n",
              "    .colab-df-convert {\n",
              "      background-color: #E8F0FE;\n",
              "      border: none;\n",
              "      border-radius: 50%;\n",
              "      cursor: pointer;\n",
              "      display: none;\n",
              "      fill: #1967D2;\n",
              "      height: 32px;\n",
              "      padding: 0 0 0 0;\n",
              "      width: 32px;\n",
              "    }\n",
              "\n",
              "    .colab-df-convert:hover {\n",
              "      background-color: #E2EBFA;\n",
              "      box-shadow: 0px 1px 2px rgba(60, 64, 67, 0.3), 0px 1px 3px 1px rgba(60, 64, 67, 0.15);\n",
              "      fill: #174EA6;\n",
              "    }\n",
              "\n",
              "    [theme=dark] .colab-df-convert {\n",
              "      background-color: #3B4455;\n",
              "      fill: #D2E3FC;\n",
              "    }\n",
              "\n",
              "    [theme=dark] .colab-df-convert:hover {\n",
              "      background-color: #434B5C;\n",
              "      box-shadow: 0px 1px 3px 1px rgba(0, 0, 0, 0.15);\n",
              "      filter: drop-shadow(0px 1px 2px rgba(0, 0, 0, 0.3));\n",
              "      fill: #FFFFFF;\n",
              "    }\n",
              "  </style>\n",
              "\n",
              "      <script>\n",
              "        const buttonEl =\n",
              "          document.querySelector('#df-49a20469-7942-419a-92c0-3b310ff03089 button.colab-df-convert');\n",
              "        buttonEl.style.display =\n",
              "          google.colab.kernel.accessAllowed ? 'block' : 'none';\n",
              "\n",
              "        async function convertToInteractive(key) {\n",
              "          const element = document.querySelector('#df-49a20469-7942-419a-92c0-3b310ff03089');\n",
              "          const dataTable =\n",
              "            await google.colab.kernel.invokeFunction('convertToInteractive',\n",
              "                                                     [key], {});\n",
              "          if (!dataTable) return;\n",
              "\n",
              "          const docLinkHtml = 'Like what you see? Visit the ' +\n",
              "            '<a target=\"_blank\" href=https://colab.research.google.com/notebooks/data_table.ipynb>data table notebook</a>'\n",
              "            + ' to learn more about interactive tables.';\n",
              "          element.innerHTML = '';\n",
              "          dataTable['output_type'] = 'display_data';\n",
              "          await google.colab.output.renderOutput(dataTable, element);\n",
              "          const docLink = document.createElement('div');\n",
              "          docLink.innerHTML = docLinkHtml;\n",
              "          element.appendChild(docLink);\n",
              "        }\n",
              "      </script>\n",
              "    </div>\n",
              "  </div>\n",
              "  "
            ]
          },
          "metadata": {},
          "execution_count": 60
        }
      ]
    },
    {
      "cell_type": "markdown",
      "metadata": {
        "id": "lyxZINfsPsMZ"
      },
      "source": [
        "###Cadastro domiciliar"
      ]
    },
    {
      "cell_type": "code",
      "metadata": {
        "id": "-34bihsr_q32",
        "colab": {
          "base_uri": "https://localhost:8080/"
        },
        "outputId": "3c66045a-ea0f-49f0-c156-b7fffecac250"
      },
      "source": [
        "cad_domiciliar_SELECTED.head(1)"
      ],
      "execution_count": null,
      "outputs": [
        {
          "output_type": "execute_result",
          "data": {
            "text/plain": [
              "   co_seq_fat_cad_domiciliar  co_dim_tipo_localizacao  co_dim_municipio_CD  co_dim_tempo_CD\n",
              "0                     416286                        3                 9196         20170911"
            ],
            "text/html": [
              "\n",
              "  <div id=\"df-3688df8e-03f2-4192-a5b2-0645e6dc520e\">\n",
              "    <div class=\"colab-df-container\">\n",
              "      <div>\n",
              "<style scoped>\n",
              "    .dataframe tbody tr th:only-of-type {\n",
              "        vertical-align: middle;\n",
              "    }\n",
              "\n",
              "    .dataframe tbody tr th {\n",
              "        vertical-align: top;\n",
              "    }\n",
              "\n",
              "    .dataframe thead th {\n",
              "        text-align: right;\n",
              "    }\n",
              "</style>\n",
              "<table border=\"1\" class=\"dataframe\">\n",
              "  <thead>\n",
              "    <tr style=\"text-align: right;\">\n",
              "      <th></th>\n",
              "      <th>co_seq_fat_cad_domiciliar</th>\n",
              "      <th>co_dim_tipo_localizacao</th>\n",
              "      <th>co_dim_municipio_CD</th>\n",
              "      <th>co_dim_tempo_CD</th>\n",
              "    </tr>\n",
              "  </thead>\n",
              "  <tbody>\n",
              "    <tr>\n",
              "      <th>0</th>\n",
              "      <td>416286</td>\n",
              "      <td>3</td>\n",
              "      <td>9196</td>\n",
              "      <td>20170911</td>\n",
              "    </tr>\n",
              "  </tbody>\n",
              "</table>\n",
              "</div>\n",
              "      <button class=\"colab-df-convert\" onclick=\"convertToInteractive('df-3688df8e-03f2-4192-a5b2-0645e6dc520e')\"\n",
              "              title=\"Convert this dataframe to an interactive table.\"\n",
              "              style=\"display:none;\">\n",
              "        \n",
              "  <svg xmlns=\"http://www.w3.org/2000/svg\" height=\"24px\"viewBox=\"0 0 24 24\"\n",
              "       width=\"24px\">\n",
              "    <path d=\"M0 0h24v24H0V0z\" fill=\"none\"/>\n",
              "    <path d=\"M18.56 5.44l.94 2.06.94-2.06 2.06-.94-2.06-.94-.94-2.06-.94 2.06-2.06.94zm-11 1L8.5 8.5l.94-2.06 2.06-.94-2.06-.94L8.5 2.5l-.94 2.06-2.06.94zm10 10l.94 2.06.94-2.06 2.06-.94-2.06-.94-.94-2.06-.94 2.06-2.06.94z\"/><path d=\"M17.41 7.96l-1.37-1.37c-.4-.4-.92-.59-1.43-.59-.52 0-1.04.2-1.43.59L10.3 9.45l-7.72 7.72c-.78.78-.78 2.05 0 2.83L4 21.41c.39.39.9.59 1.41.59.51 0 1.02-.2 1.41-.59l7.78-7.78 2.81-2.81c.8-.78.8-2.07 0-2.86zM5.41 20L4 18.59l7.72-7.72 1.47 1.35L5.41 20z\"/>\n",
              "  </svg>\n",
              "      </button>\n",
              "      \n",
              "  <style>\n",
              "    .colab-df-container {\n",
              "      display:flex;\n",
              "      flex-wrap:wrap;\n",
              "      gap: 12px;\n",
              "    }\n",
              "\n",
              "    .colab-df-convert {\n",
              "      background-color: #E8F0FE;\n",
              "      border: none;\n",
              "      border-radius: 50%;\n",
              "      cursor: pointer;\n",
              "      display: none;\n",
              "      fill: #1967D2;\n",
              "      height: 32px;\n",
              "      padding: 0 0 0 0;\n",
              "      width: 32px;\n",
              "    }\n",
              "\n",
              "    .colab-df-convert:hover {\n",
              "      background-color: #E2EBFA;\n",
              "      box-shadow: 0px 1px 2px rgba(60, 64, 67, 0.3), 0px 1px 3px 1px rgba(60, 64, 67, 0.15);\n",
              "      fill: #174EA6;\n",
              "    }\n",
              "\n",
              "    [theme=dark] .colab-df-convert {\n",
              "      background-color: #3B4455;\n",
              "      fill: #D2E3FC;\n",
              "    }\n",
              "\n",
              "    [theme=dark] .colab-df-convert:hover {\n",
              "      background-color: #434B5C;\n",
              "      box-shadow: 0px 1px 3px 1px rgba(0, 0, 0, 0.15);\n",
              "      filter: drop-shadow(0px 1px 2px rgba(0, 0, 0, 0.3));\n",
              "      fill: #FFFFFF;\n",
              "    }\n",
              "  </style>\n",
              "\n",
              "      <script>\n",
              "        const buttonEl =\n",
              "          document.querySelector('#df-3688df8e-03f2-4192-a5b2-0645e6dc520e button.colab-df-convert');\n",
              "        buttonEl.style.display =\n",
              "          google.colab.kernel.accessAllowed ? 'block' : 'none';\n",
              "\n",
              "        async function convertToInteractive(key) {\n",
              "          const element = document.querySelector('#df-3688df8e-03f2-4192-a5b2-0645e6dc520e');\n",
              "          const dataTable =\n",
              "            await google.colab.kernel.invokeFunction('convertToInteractive',\n",
              "                                                     [key], {});\n",
              "          if (!dataTable) return;\n",
              "\n",
              "          const docLinkHtml = 'Like what you see? Visit the ' +\n",
              "            '<a target=\"_blank\" href=https://colab.research.google.com/notebooks/data_table.ipynb>data table notebook</a>'\n",
              "            + ' to learn more about interactive tables.';\n",
              "          element.innerHTML = '';\n",
              "          dataTable['output_type'] = 'display_data';\n",
              "          await google.colab.output.renderOutput(dataTable, element);\n",
              "          const docLink = document.createElement('div');\n",
              "          docLink.innerHTML = docLinkHtml;\n",
              "          element.appendChild(docLink);\n",
              "        }\n",
              "      </script>\n",
              "    </div>\n",
              "  </div>\n",
              "  "
            ]
          },
          "metadata": {},
          "execution_count": 61
        }
      ]
    },
    {
      "cell_type": "code",
      "metadata": {
        "colab": {
          "base_uri": "https://localhost:8080/"
        },
        "id": "TbeqQ3Gk_q32",
        "outputId": "68a3240f-391f-4b6d-af9b-4237bca4b375"
      },
      "source": [
        "len(cad_domiciliar_SELECTED['co_seq_fat_cad_domiciliar'].unique().tolist())"
      ],
      "execution_count": null,
      "outputs": [
        {
          "output_type": "execute_result",
          "data": {
            "text/plain": [
              "64940"
            ]
          },
          "metadata": {},
          "execution_count": 62
        }
      ]
    },
    {
      "cell_type": "code",
      "metadata": {
        "id": "SlgXZek4_q32"
      },
      "source": [
        "cad_domiciliar_SELECTED['co_dim_tempo_CD'] = pd.to_datetime(cad_domiciliar_SELECTED['co_dim_tempo_CD'].astype(str), format='%Y%m%d')\n",
        "cad_domiciliar_SELECTED = cad_domiciliar_SELECTED.rename(columns={'co_seq_fat_cad_domiciliar': 'co_fat_cad_domiciliar'})"
      ],
      "execution_count": null,
      "outputs": []
    },
    {
      "cell_type": "code",
      "metadata": {
        "id": "uD9k1j-G_q36"
      },
      "source": [
        "cad_domiciliar_SELECTED_group = cad_domiciliar_SELECTED.groupby(\n",
        "   ['co_fat_cad_domiciliar'],as_index=False\n",
        ").agg(\n",
        "    {\n",
        "         'co_dim_tempo_CD': 'max',  # get the first date per group\n",
        "    }\n",
        ")"
      ],
      "execution_count": null,
      "outputs": []
    },
    {
      "cell_type": "code",
      "metadata": {
        "id": "hxRnd0K0_q37",
        "colab": {
          "base_uri": "https://localhost:8080/"
        },
        "outputId": "eb9d135c-0857-4264-8fae-b6251db7b61e"
      },
      "source": [
        "cad_domiciliar_merge = pd.merge(cad_domiciliar_SELECTED, cad_domiciliar_SELECTED_group, how=\"right\", on=['co_fat_cad_domiciliar', 'co_dim_tempo_CD'])\n",
        "cad_domiciliar_merge.shape"
      ],
      "execution_count": null,
      "outputs": [
        {
          "output_type": "execute_result",
          "data": {
            "text/plain": [
              "(64940, 4)"
            ]
          },
          "metadata": {},
          "execution_count": 65
        }
      ]
    },
    {
      "cell_type": "code",
      "source": [
        "cad_domiciliar_merge.head(5)"
      ],
      "metadata": {
        "colab": {
          "base_uri": "https://localhost:8080/"
        },
        "id": "WIZxkm5_yPyx",
        "outputId": "98fcbbbc-7bfd-4b19-8b28-f36dac7456d6"
      },
      "execution_count": null,
      "outputs": [
        {
          "output_type": "execute_result",
          "data": {
            "text/plain": [
              "   co_fat_cad_domiciliar  co_dim_tipo_localizacao  co_dim_municipio_CD co_dim_tempo_CD\n",
              "0                 394506                        2                 9196      2015-12-10\n",
              "1                 394507                        2                 9196      2015-12-23\n",
              "2                 394508                        2                 9196      2015-12-30\n",
              "3                 394509                        2                 9196      2015-12-30\n",
              "4                 394510                        2                 9196      2016-01-04"
            ],
            "text/html": [
              "\n",
              "  <div id=\"df-cf319099-c4b7-4bad-933c-65e091f897c6\">\n",
              "    <div class=\"colab-df-container\">\n",
              "      <div>\n",
              "<style scoped>\n",
              "    .dataframe tbody tr th:only-of-type {\n",
              "        vertical-align: middle;\n",
              "    }\n",
              "\n",
              "    .dataframe tbody tr th {\n",
              "        vertical-align: top;\n",
              "    }\n",
              "\n",
              "    .dataframe thead th {\n",
              "        text-align: right;\n",
              "    }\n",
              "</style>\n",
              "<table border=\"1\" class=\"dataframe\">\n",
              "  <thead>\n",
              "    <tr style=\"text-align: right;\">\n",
              "      <th></th>\n",
              "      <th>co_fat_cad_domiciliar</th>\n",
              "      <th>co_dim_tipo_localizacao</th>\n",
              "      <th>co_dim_municipio_CD</th>\n",
              "      <th>co_dim_tempo_CD</th>\n",
              "    </tr>\n",
              "  </thead>\n",
              "  <tbody>\n",
              "    <tr>\n",
              "      <th>0</th>\n",
              "      <td>394506</td>\n",
              "      <td>2</td>\n",
              "      <td>9196</td>\n",
              "      <td>2015-12-10</td>\n",
              "    </tr>\n",
              "    <tr>\n",
              "      <th>1</th>\n",
              "      <td>394507</td>\n",
              "      <td>2</td>\n",
              "      <td>9196</td>\n",
              "      <td>2015-12-23</td>\n",
              "    </tr>\n",
              "    <tr>\n",
              "      <th>2</th>\n",
              "      <td>394508</td>\n",
              "      <td>2</td>\n",
              "      <td>9196</td>\n",
              "      <td>2015-12-30</td>\n",
              "    </tr>\n",
              "    <tr>\n",
              "      <th>3</th>\n",
              "      <td>394509</td>\n",
              "      <td>2</td>\n",
              "      <td>9196</td>\n",
              "      <td>2015-12-30</td>\n",
              "    </tr>\n",
              "    <tr>\n",
              "      <th>4</th>\n",
              "      <td>394510</td>\n",
              "      <td>2</td>\n",
              "      <td>9196</td>\n",
              "      <td>2016-01-04</td>\n",
              "    </tr>\n",
              "  </tbody>\n",
              "</table>\n",
              "</div>\n",
              "      <button class=\"colab-df-convert\" onclick=\"convertToInteractive('df-cf319099-c4b7-4bad-933c-65e091f897c6')\"\n",
              "              title=\"Convert this dataframe to an interactive table.\"\n",
              "              style=\"display:none;\">\n",
              "        \n",
              "  <svg xmlns=\"http://www.w3.org/2000/svg\" height=\"24px\"viewBox=\"0 0 24 24\"\n",
              "       width=\"24px\">\n",
              "    <path d=\"M0 0h24v24H0V0z\" fill=\"none\"/>\n",
              "    <path d=\"M18.56 5.44l.94 2.06.94-2.06 2.06-.94-2.06-.94-.94-2.06-.94 2.06-2.06.94zm-11 1L8.5 8.5l.94-2.06 2.06-.94-2.06-.94L8.5 2.5l-.94 2.06-2.06.94zm10 10l.94 2.06.94-2.06 2.06-.94-2.06-.94-.94-2.06-.94 2.06-2.06.94z\"/><path d=\"M17.41 7.96l-1.37-1.37c-.4-.4-.92-.59-1.43-.59-.52 0-1.04.2-1.43.59L10.3 9.45l-7.72 7.72c-.78.78-.78 2.05 0 2.83L4 21.41c.39.39.9.59 1.41.59.51 0 1.02-.2 1.41-.59l7.78-7.78 2.81-2.81c.8-.78.8-2.07 0-2.86zM5.41 20L4 18.59l7.72-7.72 1.47 1.35L5.41 20z\"/>\n",
              "  </svg>\n",
              "      </button>\n",
              "      \n",
              "  <style>\n",
              "    .colab-df-container {\n",
              "      display:flex;\n",
              "      flex-wrap:wrap;\n",
              "      gap: 12px;\n",
              "    }\n",
              "\n",
              "    .colab-df-convert {\n",
              "      background-color: #E8F0FE;\n",
              "      border: none;\n",
              "      border-radius: 50%;\n",
              "      cursor: pointer;\n",
              "      display: none;\n",
              "      fill: #1967D2;\n",
              "      height: 32px;\n",
              "      padding: 0 0 0 0;\n",
              "      width: 32px;\n",
              "    }\n",
              "\n",
              "    .colab-df-convert:hover {\n",
              "      background-color: #E2EBFA;\n",
              "      box-shadow: 0px 1px 2px rgba(60, 64, 67, 0.3), 0px 1px 3px 1px rgba(60, 64, 67, 0.15);\n",
              "      fill: #174EA6;\n",
              "    }\n",
              "\n",
              "    [theme=dark] .colab-df-convert {\n",
              "      background-color: #3B4455;\n",
              "      fill: #D2E3FC;\n",
              "    }\n",
              "\n",
              "    [theme=dark] .colab-df-convert:hover {\n",
              "      background-color: #434B5C;\n",
              "      box-shadow: 0px 1px 3px 1px rgba(0, 0, 0, 0.15);\n",
              "      filter: drop-shadow(0px 1px 2px rgba(0, 0, 0, 0.3));\n",
              "      fill: #FFFFFF;\n",
              "    }\n",
              "  </style>\n",
              "\n",
              "      <script>\n",
              "        const buttonEl =\n",
              "          document.querySelector('#df-cf319099-c4b7-4bad-933c-65e091f897c6 button.colab-df-convert');\n",
              "        buttonEl.style.display =\n",
              "          google.colab.kernel.accessAllowed ? 'block' : 'none';\n",
              "\n",
              "        async function convertToInteractive(key) {\n",
              "          const element = document.querySelector('#df-cf319099-c4b7-4bad-933c-65e091f897c6');\n",
              "          const dataTable =\n",
              "            await google.colab.kernel.invokeFunction('convertToInteractive',\n",
              "                                                     [key], {});\n",
              "          if (!dataTable) return;\n",
              "\n",
              "          const docLinkHtml = 'Like what you see? Visit the ' +\n",
              "            '<a target=\"_blank\" href=https://colab.research.google.com/notebooks/data_table.ipynb>data table notebook</a>'\n",
              "            + ' to learn more about interactive tables.';\n",
              "          element.innerHTML = '';\n",
              "          dataTable['output_type'] = 'display_data';\n",
              "          await google.colab.output.renderOutput(dataTable, element);\n",
              "          const docLink = document.createElement('div');\n",
              "          docLink.innerHTML = docLinkHtml;\n",
              "          element.appendChild(docLink);\n",
              "        }\n",
              "      </script>\n",
              "    </div>\n",
              "  </div>\n",
              "  "
            ]
          },
          "metadata": {},
          "execution_count": 66
        }
      ]
    },
    {
      "cell_type": "markdown",
      "metadata": {
        "id": "nk-Zi34oHIwG"
      },
      "source": [
        "## Linkage A = cad_individual VS cidadao_pec"
      ]
    },
    {
      "cell_type": "code",
      "metadata": {
        "colab": {
          "base_uri": "https://localhost:8080/"
        },
        "id": "3VpFF-iU_q3o",
        "outputId": "17adb629-271e-43de-f7d3-8ae962bdc141"
      },
      "source": [
        "linkage_A = cidadao_pec_SELECTED.merge(cad_individual_merge, on='co_fat_cidadao_pec', how='left', indicator=True)\n",
        "linkage_A.head(1)"
      ],
      "execution_count": null,
      "outputs": [
        {
          "output_type": "execute_result",
          "data": {
            "text/plain": [
              "   co_fat_cidadao_pec co_dim_sexo_CP co_dim_identidade_genero_CP co_dim_tempo_nascimento  co_dim_sexo_CI  co_dim_unidade_saude_CI  co_dim_municipio_CI  co_dim_tempo  co_dim_identidade_genero_CI dt_nascimento_CI co_dim_tempo_CI     _merge\n",
              "0              694899                                                                                NaN                      NaN                  NaN           NaN                          NaN              NaN             NaT  left_only"
            ],
            "text/html": [
              "\n",
              "  <div id=\"df-840da7d3-a107-418e-aeea-285489daebc3\">\n",
              "    <div class=\"colab-df-container\">\n",
              "      <div>\n",
              "<style scoped>\n",
              "    .dataframe tbody tr th:only-of-type {\n",
              "        vertical-align: middle;\n",
              "    }\n",
              "\n",
              "    .dataframe tbody tr th {\n",
              "        vertical-align: top;\n",
              "    }\n",
              "\n",
              "    .dataframe thead th {\n",
              "        text-align: right;\n",
              "    }\n",
              "</style>\n",
              "<table border=\"1\" class=\"dataframe\">\n",
              "  <thead>\n",
              "    <tr style=\"text-align: right;\">\n",
              "      <th></th>\n",
              "      <th>co_fat_cidadao_pec</th>\n",
              "      <th>co_dim_sexo_CP</th>\n",
              "      <th>co_dim_identidade_genero_CP</th>\n",
              "      <th>co_dim_tempo_nascimento</th>\n",
              "      <th>co_dim_sexo_CI</th>\n",
              "      <th>co_dim_unidade_saude_CI</th>\n",
              "      <th>co_dim_municipio_CI</th>\n",
              "      <th>co_dim_tempo</th>\n",
              "      <th>co_dim_identidade_genero_CI</th>\n",
              "      <th>dt_nascimento_CI</th>\n",
              "      <th>co_dim_tempo_CI</th>\n",
              "      <th>_merge</th>\n",
              "    </tr>\n",
              "  </thead>\n",
              "  <tbody>\n",
              "    <tr>\n",
              "      <th>0</th>\n",
              "      <td>694899</td>\n",
              "      <td></td>\n",
              "      <td></td>\n",
              "      <td></td>\n",
              "      <td>NaN</td>\n",
              "      <td>NaN</td>\n",
              "      <td>NaN</td>\n",
              "      <td>NaN</td>\n",
              "      <td>NaN</td>\n",
              "      <td>NaN</td>\n",
              "      <td>NaT</td>\n",
              "      <td>left_only</td>\n",
              "    </tr>\n",
              "  </tbody>\n",
              "</table>\n",
              "</div>\n",
              "      <button class=\"colab-df-convert\" onclick=\"convertToInteractive('df-840da7d3-a107-418e-aeea-285489daebc3')\"\n",
              "              title=\"Convert this dataframe to an interactive table.\"\n",
              "              style=\"display:none;\">\n",
              "        \n",
              "  <svg xmlns=\"http://www.w3.org/2000/svg\" height=\"24px\"viewBox=\"0 0 24 24\"\n",
              "       width=\"24px\">\n",
              "    <path d=\"M0 0h24v24H0V0z\" fill=\"none\"/>\n",
              "    <path d=\"M18.56 5.44l.94 2.06.94-2.06 2.06-.94-2.06-.94-.94-2.06-.94 2.06-2.06.94zm-11 1L8.5 8.5l.94-2.06 2.06-.94-2.06-.94L8.5 2.5l-.94 2.06-2.06.94zm10 10l.94 2.06.94-2.06 2.06-.94-2.06-.94-.94-2.06-.94 2.06-2.06.94z\"/><path d=\"M17.41 7.96l-1.37-1.37c-.4-.4-.92-.59-1.43-.59-.52 0-1.04.2-1.43.59L10.3 9.45l-7.72 7.72c-.78.78-.78 2.05 0 2.83L4 21.41c.39.39.9.59 1.41.59.51 0 1.02-.2 1.41-.59l7.78-7.78 2.81-2.81c.8-.78.8-2.07 0-2.86zM5.41 20L4 18.59l7.72-7.72 1.47 1.35L5.41 20z\"/>\n",
              "  </svg>\n",
              "      </button>\n",
              "      \n",
              "  <style>\n",
              "    .colab-df-container {\n",
              "      display:flex;\n",
              "      flex-wrap:wrap;\n",
              "      gap: 12px;\n",
              "    }\n",
              "\n",
              "    .colab-df-convert {\n",
              "      background-color: #E8F0FE;\n",
              "      border: none;\n",
              "      border-radius: 50%;\n",
              "      cursor: pointer;\n",
              "      display: none;\n",
              "      fill: #1967D2;\n",
              "      height: 32px;\n",
              "      padding: 0 0 0 0;\n",
              "      width: 32px;\n",
              "    }\n",
              "\n",
              "    .colab-df-convert:hover {\n",
              "      background-color: #E2EBFA;\n",
              "      box-shadow: 0px 1px 2px rgba(60, 64, 67, 0.3), 0px 1px 3px 1px rgba(60, 64, 67, 0.15);\n",
              "      fill: #174EA6;\n",
              "    }\n",
              "\n",
              "    [theme=dark] .colab-df-convert {\n",
              "      background-color: #3B4455;\n",
              "      fill: #D2E3FC;\n",
              "    }\n",
              "\n",
              "    [theme=dark] .colab-df-convert:hover {\n",
              "      background-color: #434B5C;\n",
              "      box-shadow: 0px 1px 3px 1px rgba(0, 0, 0, 0.15);\n",
              "      filter: drop-shadow(0px 1px 2px rgba(0, 0, 0, 0.3));\n",
              "      fill: #FFFFFF;\n",
              "    }\n",
              "  </style>\n",
              "\n",
              "      <script>\n",
              "        const buttonEl =\n",
              "          document.querySelector('#df-840da7d3-a107-418e-aeea-285489daebc3 button.colab-df-convert');\n",
              "        buttonEl.style.display =\n",
              "          google.colab.kernel.accessAllowed ? 'block' : 'none';\n",
              "\n",
              "        async function convertToInteractive(key) {\n",
              "          const element = document.querySelector('#df-840da7d3-a107-418e-aeea-285489daebc3');\n",
              "          const dataTable =\n",
              "            await google.colab.kernel.invokeFunction('convertToInteractive',\n",
              "                                                     [key], {});\n",
              "          if (!dataTable) return;\n",
              "\n",
              "          const docLinkHtml = 'Like what you see? Visit the ' +\n",
              "            '<a target=\"_blank\" href=https://colab.research.google.com/notebooks/data_table.ipynb>data table notebook</a>'\n",
              "            + ' to learn more about interactive tables.';\n",
              "          element.innerHTML = '';\n",
              "          dataTable['output_type'] = 'display_data';\n",
              "          await google.colab.output.renderOutput(dataTable, element);\n",
              "          const docLink = document.createElement('div');\n",
              "          docLink.innerHTML = docLinkHtml;\n",
              "          element.appendChild(docLink);\n",
              "        }\n",
              "      </script>\n",
              "    </div>\n",
              "  </div>\n",
              "  "
            ]
          },
          "metadata": {},
          "execution_count": 67
        }
      ]
    },
    {
      "cell_type": "code",
      "metadata": {
        "colab": {
          "base_uri": "https://localhost:8080/"
        },
        "id": "3H5x7n40_q3p",
        "outputId": "4d2033f5-909f-4632-c207-480b051cf477"
      },
      "source": [
        "linkage_A['_merge'].value_counts()"
      ],
      "execution_count": null,
      "outputs": [
        {
          "output_type": "execute_result",
          "data": {
            "text/plain": [
              "both          82634\n",
              "left_only     52924\n",
              "right_only        0\n",
              "Name: _merge, dtype: int64"
            ]
          },
          "metadata": {},
          "execution_count": 68
        }
      ]
    },
    {
      "cell_type": "code",
      "metadata": {
        "id": "AwxfYnvTk6a8"
      },
      "source": [
        "linkage_A = linkage_A.rename (columns={'_merge': '_mergeA'})"
      ],
      "execution_count": null,
      "outputs": []
    },
    {
      "cell_type": "code",
      "metadata": {
        "colab": {
          "base_uri": "https://localhost:8080/"
        },
        "id": "btKK9WHpHb0a",
        "outputId": "9ca7620b-4df4-4a5c-b414-8653bab9a375"
      },
      "source": [
        "linkage_A.shape"
      ],
      "execution_count": null,
      "outputs": [
        {
          "output_type": "execute_result",
          "data": {
            "text/plain": [
              "(135558, 12)"
            ]
          },
          "metadata": {},
          "execution_count": 70
        }
      ]
    },
    {
      "cell_type": "code",
      "metadata": {
        "colab": {
          "base_uri": "https://localhost:8080/"
        },
        "id": "3z5o1DFTfXuS",
        "outputId": "7c70076f-2ff4-490f-a27f-47af824e5b2a"
      },
      "source": [
        "len(linkage_A['co_fat_cidadao_pec'].unique().tolist())"
      ],
      "execution_count": null,
      "outputs": [
        {
          "output_type": "execute_result",
          "data": {
            "text/plain": [
              "135558"
            ]
          },
          "metadata": {},
          "execution_count": 71
        }
      ]
    },
    {
      "cell_type": "markdown",
      "metadata": {
        "id": "PiV_s49fNauJ"
      },
      "source": [
        "## Linkage B = Linkage A VS cidadao_territorio"
      ]
    },
    {
      "cell_type": "code",
      "metadata": {
        "colab": {
          "base_uri": "https://localhost:8080/"
        },
        "id": "X-dFL9vNNYLq",
        "outputId": "7c7eb40a-b032-414a-8ceb-6b14b74311f3"
      },
      "source": [
        "linkage_B = linkage_A.merge(cidadao_territorio_merge, on='co_fat_cidadao_pec', how='left', indicator=True)\n",
        "linkage_B.head(1)"
      ],
      "execution_count": null,
      "outputs": [
        {
          "output_type": "execute_result",
          "data": {
            "text/plain": [
              "   co_fat_cidadao_pec co_dim_sexo_CP co_dim_identidade_genero_CP co_dim_tempo_nascimento  co_dim_sexo_CI  co_dim_unidade_saude_CI  co_dim_municipio_CI  co_dim_tempo  co_dim_identidade_genero_CI dt_nascimento_CI co_dim_tempo_CI    _mergeA  co_seq_fat_cidadao_territorio  co_seq_fat_familia_territorio     _merge\n",
              "0              694899                                                                                NaN                      NaN                  NaN           NaN                          NaN              NaN             NaT  left_only                            NaN                            NaN  left_only"
            ],
            "text/html": [
              "\n",
              "  <div id=\"df-f32cbcd1-8565-451a-9951-411c9dc7e52b\">\n",
              "    <div class=\"colab-df-container\">\n",
              "      <div>\n",
              "<style scoped>\n",
              "    .dataframe tbody tr th:only-of-type {\n",
              "        vertical-align: middle;\n",
              "    }\n",
              "\n",
              "    .dataframe tbody tr th {\n",
              "        vertical-align: top;\n",
              "    }\n",
              "\n",
              "    .dataframe thead th {\n",
              "        text-align: right;\n",
              "    }\n",
              "</style>\n",
              "<table border=\"1\" class=\"dataframe\">\n",
              "  <thead>\n",
              "    <tr style=\"text-align: right;\">\n",
              "      <th></th>\n",
              "      <th>co_fat_cidadao_pec</th>\n",
              "      <th>co_dim_sexo_CP</th>\n",
              "      <th>co_dim_identidade_genero_CP</th>\n",
              "      <th>co_dim_tempo_nascimento</th>\n",
              "      <th>co_dim_sexo_CI</th>\n",
              "      <th>co_dim_unidade_saude_CI</th>\n",
              "      <th>co_dim_municipio_CI</th>\n",
              "      <th>co_dim_tempo</th>\n",
              "      <th>co_dim_identidade_genero_CI</th>\n",
              "      <th>dt_nascimento_CI</th>\n",
              "      <th>co_dim_tempo_CI</th>\n",
              "      <th>_mergeA</th>\n",
              "      <th>co_seq_fat_cidadao_territorio</th>\n",
              "      <th>co_seq_fat_familia_territorio</th>\n",
              "      <th>_merge</th>\n",
              "    </tr>\n",
              "  </thead>\n",
              "  <tbody>\n",
              "    <tr>\n",
              "      <th>0</th>\n",
              "      <td>694899</td>\n",
              "      <td></td>\n",
              "      <td></td>\n",
              "      <td></td>\n",
              "      <td>NaN</td>\n",
              "      <td>NaN</td>\n",
              "      <td>NaN</td>\n",
              "      <td>NaN</td>\n",
              "      <td>NaN</td>\n",
              "      <td>NaN</td>\n",
              "      <td>NaT</td>\n",
              "      <td>left_only</td>\n",
              "      <td>NaN</td>\n",
              "      <td>NaN</td>\n",
              "      <td>left_only</td>\n",
              "    </tr>\n",
              "  </tbody>\n",
              "</table>\n",
              "</div>\n",
              "      <button class=\"colab-df-convert\" onclick=\"convertToInteractive('df-f32cbcd1-8565-451a-9951-411c9dc7e52b')\"\n",
              "              title=\"Convert this dataframe to an interactive table.\"\n",
              "              style=\"display:none;\">\n",
              "        \n",
              "  <svg xmlns=\"http://www.w3.org/2000/svg\" height=\"24px\"viewBox=\"0 0 24 24\"\n",
              "       width=\"24px\">\n",
              "    <path d=\"M0 0h24v24H0V0z\" fill=\"none\"/>\n",
              "    <path d=\"M18.56 5.44l.94 2.06.94-2.06 2.06-.94-2.06-.94-.94-2.06-.94 2.06-2.06.94zm-11 1L8.5 8.5l.94-2.06 2.06-.94-2.06-.94L8.5 2.5l-.94 2.06-2.06.94zm10 10l.94 2.06.94-2.06 2.06-.94-2.06-.94-.94-2.06-.94 2.06-2.06.94z\"/><path d=\"M17.41 7.96l-1.37-1.37c-.4-.4-.92-.59-1.43-.59-.52 0-1.04.2-1.43.59L10.3 9.45l-7.72 7.72c-.78.78-.78 2.05 0 2.83L4 21.41c.39.39.9.59 1.41.59.51 0 1.02-.2 1.41-.59l7.78-7.78 2.81-2.81c.8-.78.8-2.07 0-2.86zM5.41 20L4 18.59l7.72-7.72 1.47 1.35L5.41 20z\"/>\n",
              "  </svg>\n",
              "      </button>\n",
              "      \n",
              "  <style>\n",
              "    .colab-df-container {\n",
              "      display:flex;\n",
              "      flex-wrap:wrap;\n",
              "      gap: 12px;\n",
              "    }\n",
              "\n",
              "    .colab-df-convert {\n",
              "      background-color: #E8F0FE;\n",
              "      border: none;\n",
              "      border-radius: 50%;\n",
              "      cursor: pointer;\n",
              "      display: none;\n",
              "      fill: #1967D2;\n",
              "      height: 32px;\n",
              "      padding: 0 0 0 0;\n",
              "      width: 32px;\n",
              "    }\n",
              "\n",
              "    .colab-df-convert:hover {\n",
              "      background-color: #E2EBFA;\n",
              "      box-shadow: 0px 1px 2px rgba(60, 64, 67, 0.3), 0px 1px 3px 1px rgba(60, 64, 67, 0.15);\n",
              "      fill: #174EA6;\n",
              "    }\n",
              "\n",
              "    [theme=dark] .colab-df-convert {\n",
              "      background-color: #3B4455;\n",
              "      fill: #D2E3FC;\n",
              "    }\n",
              "\n",
              "    [theme=dark] .colab-df-convert:hover {\n",
              "      background-color: #434B5C;\n",
              "      box-shadow: 0px 1px 3px 1px rgba(0, 0, 0, 0.15);\n",
              "      filter: drop-shadow(0px 1px 2px rgba(0, 0, 0, 0.3));\n",
              "      fill: #FFFFFF;\n",
              "    }\n",
              "  </style>\n",
              "\n",
              "      <script>\n",
              "        const buttonEl =\n",
              "          document.querySelector('#df-f32cbcd1-8565-451a-9951-411c9dc7e52b button.colab-df-convert');\n",
              "        buttonEl.style.display =\n",
              "          google.colab.kernel.accessAllowed ? 'block' : 'none';\n",
              "\n",
              "        async function convertToInteractive(key) {\n",
              "          const element = document.querySelector('#df-f32cbcd1-8565-451a-9951-411c9dc7e52b');\n",
              "          const dataTable =\n",
              "            await google.colab.kernel.invokeFunction('convertToInteractive',\n",
              "                                                     [key], {});\n",
              "          if (!dataTable) return;\n",
              "\n",
              "          const docLinkHtml = 'Like what you see? Visit the ' +\n",
              "            '<a target=\"_blank\" href=https://colab.research.google.com/notebooks/data_table.ipynb>data table notebook</a>'\n",
              "            + ' to learn more about interactive tables.';\n",
              "          element.innerHTML = '';\n",
              "          dataTable['output_type'] = 'display_data';\n",
              "          await google.colab.output.renderOutput(dataTable, element);\n",
              "          const docLink = document.createElement('div');\n",
              "          docLink.innerHTML = docLinkHtml;\n",
              "          element.appendChild(docLink);\n",
              "        }\n",
              "      </script>\n",
              "    </div>\n",
              "  </div>\n",
              "  "
            ]
          },
          "metadata": {},
          "execution_count": 72
        }
      ]
    },
    {
      "cell_type": "code",
      "metadata": {
        "id": "qqkvUZC9U3se"
      },
      "source": [
        "linkage_B = linkage_B.rename (columns={'_merge': '_mergeB'})"
      ],
      "execution_count": null,
      "outputs": []
    },
    {
      "cell_type": "code",
      "metadata": {
        "id": "udASxdJTm6A6"
      },
      "source": [
        "linkage_B = linkage_B.rename (columns={'co_seq_fat_familia_territorio': 'co_fat_familia_territorio'})"
      ],
      "execution_count": null,
      "outputs": []
    },
    {
      "cell_type": "code",
      "metadata": {
        "colab": {
          "base_uri": "https://localhost:8080/"
        },
        "id": "UWAUEDLh_q3x",
        "outputId": "df530652-9835-41f2-ea71-89c9ac9e6a66"
      },
      "source": [
        "len(linkage_B['co_fat_familia_territorio'].unique().tolist())"
      ],
      "execution_count": null,
      "outputs": [
        {
          "output_type": "execute_result",
          "data": {
            "text/plain": [
              "23222"
            ]
          },
          "metadata": {},
          "execution_count": 75
        }
      ]
    },
    {
      "cell_type": "code",
      "metadata": {
        "colab": {
          "base_uri": "https://localhost:8080/"
        },
        "id": "tLs6nEd9l8F2",
        "outputId": "bfa89e4c-a139-4a19-d0ca-523d4691c1cc"
      },
      "source": [
        "len(familia_territorio_SELECTED['co_fat_familia_territorio'].unique().tolist())"
      ],
      "execution_count": null,
      "outputs": [
        {
          "output_type": "execute_result",
          "data": {
            "text/plain": [
              "30455"
            ]
          },
          "metadata": {},
          "execution_count": 76
        }
      ]
    },
    {
      "cell_type": "code",
      "metadata": {
        "colab": {
          "base_uri": "https://localhost:8080/"
        },
        "id": "VYJk4RspA2C6",
        "outputId": "39d98d0b-861b-44f4-ced5-49eb3b4c2cd6"
      },
      "source": [
        "linkage_B.shape"
      ],
      "execution_count": null,
      "outputs": [
        {
          "output_type": "execute_result",
          "data": {
            "text/plain": [
              "(135558, 15)"
            ]
          },
          "metadata": {},
          "execution_count": 77
        }
      ]
    },
    {
      "cell_type": "code",
      "source": [
        "linkage_B.head(5)"
      ],
      "metadata": {
        "colab": {
          "base_uri": "https://localhost:8080/"
        },
        "id": "RLLcpCdDwjYw",
        "outputId": "c9f1b494-82e1-444d-88c2-cca912a1c30e"
      },
      "execution_count": null,
      "outputs": [
        {
          "output_type": "execute_result",
          "data": {
            "text/plain": [
              "   co_fat_cidadao_pec co_dim_sexo_CP co_dim_identidade_genero_CP co_dim_tempo_nascimento  co_dim_sexo_CI  co_dim_unidade_saude_CI  co_dim_municipio_CI  co_dim_tempo  co_dim_identidade_genero_CI dt_nascimento_CI co_dim_tempo_CI    _mergeA  co_seq_fat_cidadao_territorio  co_fat_familia_territorio    _mergeB\n",
              "0              694899                                                                                NaN                      NaN                  NaN           NaN                          NaN              NaN             NaT  left_only                            NaN                        NaN  left_only\n",
              "1              694900                                                                                NaN                      NaN                  NaN           NaN                          NaN              NaN             NaT  left_only                            NaN                        NaN  left_only\n",
              "2              694901                                                                                NaN                      NaN                  NaN           NaN                          NaN              NaN             NaT  left_only                            NaN                        NaN  left_only\n",
              "3              749364            2.0                         5.0              19920321.0             2.0                    498.0               9196.0    20180919.0                          5.0       1992-03-21      2018-09-19       both                      1034258.0                        NaN       both\n",
              "4              694902                                                                                NaN                      NaN                  NaN           NaN                          NaN              NaN             NaT  left_only                            NaN                        NaN  left_only"
            ],
            "text/html": [
              "\n",
              "  <div id=\"df-2b5e9faf-df04-45a9-bd62-d81672d362e0\">\n",
              "    <div class=\"colab-df-container\">\n",
              "      <div>\n",
              "<style scoped>\n",
              "    .dataframe tbody tr th:only-of-type {\n",
              "        vertical-align: middle;\n",
              "    }\n",
              "\n",
              "    .dataframe tbody tr th {\n",
              "        vertical-align: top;\n",
              "    }\n",
              "\n",
              "    .dataframe thead th {\n",
              "        text-align: right;\n",
              "    }\n",
              "</style>\n",
              "<table border=\"1\" class=\"dataframe\">\n",
              "  <thead>\n",
              "    <tr style=\"text-align: right;\">\n",
              "      <th></th>\n",
              "      <th>co_fat_cidadao_pec</th>\n",
              "      <th>co_dim_sexo_CP</th>\n",
              "      <th>co_dim_identidade_genero_CP</th>\n",
              "      <th>co_dim_tempo_nascimento</th>\n",
              "      <th>co_dim_sexo_CI</th>\n",
              "      <th>co_dim_unidade_saude_CI</th>\n",
              "      <th>co_dim_municipio_CI</th>\n",
              "      <th>co_dim_tempo</th>\n",
              "      <th>co_dim_identidade_genero_CI</th>\n",
              "      <th>dt_nascimento_CI</th>\n",
              "      <th>co_dim_tempo_CI</th>\n",
              "      <th>_mergeA</th>\n",
              "      <th>co_seq_fat_cidadao_territorio</th>\n",
              "      <th>co_fat_familia_territorio</th>\n",
              "      <th>_mergeB</th>\n",
              "    </tr>\n",
              "  </thead>\n",
              "  <tbody>\n",
              "    <tr>\n",
              "      <th>0</th>\n",
              "      <td>694899</td>\n",
              "      <td></td>\n",
              "      <td></td>\n",
              "      <td></td>\n",
              "      <td>NaN</td>\n",
              "      <td>NaN</td>\n",
              "      <td>NaN</td>\n",
              "      <td>NaN</td>\n",
              "      <td>NaN</td>\n",
              "      <td>NaN</td>\n",
              "      <td>NaT</td>\n",
              "      <td>left_only</td>\n",
              "      <td>NaN</td>\n",
              "      <td>NaN</td>\n",
              "      <td>left_only</td>\n",
              "    </tr>\n",
              "    <tr>\n",
              "      <th>1</th>\n",
              "      <td>694900</td>\n",
              "      <td></td>\n",
              "      <td></td>\n",
              "      <td></td>\n",
              "      <td>NaN</td>\n",
              "      <td>NaN</td>\n",
              "      <td>NaN</td>\n",
              "      <td>NaN</td>\n",
              "      <td>NaN</td>\n",
              "      <td>NaN</td>\n",
              "      <td>NaT</td>\n",
              "      <td>left_only</td>\n",
              "      <td>NaN</td>\n",
              "      <td>NaN</td>\n",
              "      <td>left_only</td>\n",
              "    </tr>\n",
              "    <tr>\n",
              "      <th>2</th>\n",
              "      <td>694901</td>\n",
              "      <td></td>\n",
              "      <td></td>\n",
              "      <td></td>\n",
              "      <td>NaN</td>\n",
              "      <td>NaN</td>\n",
              "      <td>NaN</td>\n",
              "      <td>NaN</td>\n",
              "      <td>NaN</td>\n",
              "      <td>NaN</td>\n",
              "      <td>NaT</td>\n",
              "      <td>left_only</td>\n",
              "      <td>NaN</td>\n",
              "      <td>NaN</td>\n",
              "      <td>left_only</td>\n",
              "    </tr>\n",
              "    <tr>\n",
              "      <th>3</th>\n",
              "      <td>749364</td>\n",
              "      <td>2.0</td>\n",
              "      <td>5.0</td>\n",
              "      <td>19920321.0</td>\n",
              "      <td>2.0</td>\n",
              "      <td>498.0</td>\n",
              "      <td>9196.0</td>\n",
              "      <td>20180919.0</td>\n",
              "      <td>5.0</td>\n",
              "      <td>1992-03-21</td>\n",
              "      <td>2018-09-19</td>\n",
              "      <td>both</td>\n",
              "      <td>1034258.0</td>\n",
              "      <td>NaN</td>\n",
              "      <td>both</td>\n",
              "    </tr>\n",
              "    <tr>\n",
              "      <th>4</th>\n",
              "      <td>694902</td>\n",
              "      <td></td>\n",
              "      <td></td>\n",
              "      <td></td>\n",
              "      <td>NaN</td>\n",
              "      <td>NaN</td>\n",
              "      <td>NaN</td>\n",
              "      <td>NaN</td>\n",
              "      <td>NaN</td>\n",
              "      <td>NaN</td>\n",
              "      <td>NaT</td>\n",
              "      <td>left_only</td>\n",
              "      <td>NaN</td>\n",
              "      <td>NaN</td>\n",
              "      <td>left_only</td>\n",
              "    </tr>\n",
              "  </tbody>\n",
              "</table>\n",
              "</div>\n",
              "      <button class=\"colab-df-convert\" onclick=\"convertToInteractive('df-2b5e9faf-df04-45a9-bd62-d81672d362e0')\"\n",
              "              title=\"Convert this dataframe to an interactive table.\"\n",
              "              style=\"display:none;\">\n",
              "        \n",
              "  <svg xmlns=\"http://www.w3.org/2000/svg\" height=\"24px\"viewBox=\"0 0 24 24\"\n",
              "       width=\"24px\">\n",
              "    <path d=\"M0 0h24v24H0V0z\" fill=\"none\"/>\n",
              "    <path d=\"M18.56 5.44l.94 2.06.94-2.06 2.06-.94-2.06-.94-.94-2.06-.94 2.06-2.06.94zm-11 1L8.5 8.5l.94-2.06 2.06-.94-2.06-.94L8.5 2.5l-.94 2.06-2.06.94zm10 10l.94 2.06.94-2.06 2.06-.94-2.06-.94-.94-2.06-.94 2.06-2.06.94z\"/><path d=\"M17.41 7.96l-1.37-1.37c-.4-.4-.92-.59-1.43-.59-.52 0-1.04.2-1.43.59L10.3 9.45l-7.72 7.72c-.78.78-.78 2.05 0 2.83L4 21.41c.39.39.9.59 1.41.59.51 0 1.02-.2 1.41-.59l7.78-7.78 2.81-2.81c.8-.78.8-2.07 0-2.86zM5.41 20L4 18.59l7.72-7.72 1.47 1.35L5.41 20z\"/>\n",
              "  </svg>\n",
              "      </button>\n",
              "      \n",
              "  <style>\n",
              "    .colab-df-container {\n",
              "      display:flex;\n",
              "      flex-wrap:wrap;\n",
              "      gap: 12px;\n",
              "    }\n",
              "\n",
              "    .colab-df-convert {\n",
              "      background-color: #E8F0FE;\n",
              "      border: none;\n",
              "      border-radius: 50%;\n",
              "      cursor: pointer;\n",
              "      display: none;\n",
              "      fill: #1967D2;\n",
              "      height: 32px;\n",
              "      padding: 0 0 0 0;\n",
              "      width: 32px;\n",
              "    }\n",
              "\n",
              "    .colab-df-convert:hover {\n",
              "      background-color: #E2EBFA;\n",
              "      box-shadow: 0px 1px 2px rgba(60, 64, 67, 0.3), 0px 1px 3px 1px rgba(60, 64, 67, 0.15);\n",
              "      fill: #174EA6;\n",
              "    }\n",
              "\n",
              "    [theme=dark] .colab-df-convert {\n",
              "      background-color: #3B4455;\n",
              "      fill: #D2E3FC;\n",
              "    }\n",
              "\n",
              "    [theme=dark] .colab-df-convert:hover {\n",
              "      background-color: #434B5C;\n",
              "      box-shadow: 0px 1px 3px 1px rgba(0, 0, 0, 0.15);\n",
              "      filter: drop-shadow(0px 1px 2px rgba(0, 0, 0, 0.3));\n",
              "      fill: #FFFFFF;\n",
              "    }\n",
              "  </style>\n",
              "\n",
              "      <script>\n",
              "        const buttonEl =\n",
              "          document.querySelector('#df-2b5e9faf-df04-45a9-bd62-d81672d362e0 button.colab-df-convert');\n",
              "        buttonEl.style.display =\n",
              "          google.colab.kernel.accessAllowed ? 'block' : 'none';\n",
              "\n",
              "        async function convertToInteractive(key) {\n",
              "          const element = document.querySelector('#df-2b5e9faf-df04-45a9-bd62-d81672d362e0');\n",
              "          const dataTable =\n",
              "            await google.colab.kernel.invokeFunction('convertToInteractive',\n",
              "                                                     [key], {});\n",
              "          if (!dataTable) return;\n",
              "\n",
              "          const docLinkHtml = 'Like what you see? Visit the ' +\n",
              "            '<a target=\"_blank\" href=https://colab.research.google.com/notebooks/data_table.ipynb>data table notebook</a>'\n",
              "            + ' to learn more about interactive tables.';\n",
              "          element.innerHTML = '';\n",
              "          dataTable['output_type'] = 'display_data';\n",
              "          await google.colab.output.renderOutput(dataTable, element);\n",
              "          const docLink = document.createElement('div');\n",
              "          docLink.innerHTML = docLinkHtml;\n",
              "          element.appendChild(docLink);\n",
              "        }\n",
              "      </script>\n",
              "    </div>\n",
              "  </div>\n",
              "  "
            ]
          },
          "metadata": {},
          "execution_count": 78
        }
      ]
    },
    {
      "cell_type": "markdown",
      "metadata": {
        "id": "TUUmMtihPcy2"
      },
      "source": [
        "##Linkage C = Linkage B VS familia_territorio"
      ]
    },
    {
      "cell_type": "code",
      "metadata": {
        "id": "WuAYTcGW_q3z",
        "colab": {
          "base_uri": "https://localhost:8080/"
        },
        "outputId": "06f7bcc3-e04a-4804-c8d6-7e984753dcd6"
      },
      "source": [
        "linkage_C = linkage_B.merge(familia_territorio_SELECTED, on='co_fat_familia_territorio', how='left', indicator=True)\n",
        "linkage_C.shape"
      ],
      "execution_count": null,
      "outputs": [
        {
          "output_type": "execute_result",
          "data": {
            "text/plain": [
              "(135558, 18)"
            ]
          },
          "metadata": {},
          "execution_count": 79
        }
      ]
    },
    {
      "cell_type": "code",
      "metadata": {
        "id": "KMizVxoCU8rt"
      },
      "source": [
        "linkage_C = linkage_C.rename (columns={'_merge': '_mergeC'})"
      ],
      "execution_count": null,
      "outputs": []
    },
    {
      "cell_type": "code",
      "metadata": {
        "id": "nlcwrZtS_q30",
        "colab": {
          "base_uri": "https://localhost:8080/"
        },
        "outputId": "6b8e3de1-338a-4af2-aaf9-e365091f0704"
      },
      "source": [
        "len(linkage_C['co_fat_cad_domiciliar'].unique().tolist())"
      ],
      "execution_count": null,
      "outputs": [
        {
          "output_type": "execute_result",
          "data": {
            "text/plain": [
              "22187"
            ]
          },
          "metadata": {},
          "execution_count": 81
        }
      ]
    },
    {
      "cell_type": "code",
      "metadata": {
        "colab": {
          "base_uri": "https://localhost:8080/"
        },
        "id": "_7FgZUI6KbfO",
        "outputId": "889ba6ed-d53a-472c-da90-a7d8ded7f8e2"
      },
      "source": [
        "linkage_C.head(5)"
      ],
      "execution_count": null,
      "outputs": [
        {
          "output_type": "execute_result",
          "data": {
            "text/plain": [
              "   co_fat_cidadao_pec co_dim_sexo_CP co_dim_identidade_genero_CP co_dim_tempo_nascimento  co_dim_sexo_CI  co_dim_unidade_saude_CI  co_dim_municipio_CI  co_dim_tempo  co_dim_identidade_genero_CI dt_nascimento_CI co_dim_tempo_CI    _mergeA  co_seq_fat_cidadao_territorio  co_fat_familia_territorio    _mergeB  co_fat_cidadao_pec_FT  co_fat_cad_domiciliar    _mergeC\n",
              "0              694899                                                                                NaN                      NaN                  NaN           NaN                          NaN              NaN             NaT  left_only                            NaN                        NaN  left_only                    NaN                    NaN  left_only\n",
              "1              694900                                                                                NaN                      NaN                  NaN           NaN                          NaN              NaN             NaT  left_only                            NaN                        NaN  left_only                    NaN                    NaN  left_only\n",
              "2              694901                                                                                NaN                      NaN                  NaN           NaN                          NaN              NaN             NaT  left_only                            NaN                        NaN  left_only                    NaN                    NaN  left_only\n",
              "3              749364            2.0                         5.0              19920321.0             2.0                    498.0               9196.0    20180919.0                          5.0       1992-03-21      2018-09-19       both                      1034258.0                        NaN       both                    NaN                    NaN  left_only\n",
              "4              694902                                                                                NaN                      NaN                  NaN           NaN                          NaN              NaN             NaT  left_only                            NaN                        NaN  left_only                    NaN                    NaN  left_only"
            ],
            "text/html": [
              "\n",
              "  <div id=\"df-41340fcb-41ff-482f-9896-3dd591c9b41c\">\n",
              "    <div class=\"colab-df-container\">\n",
              "      <div>\n",
              "<style scoped>\n",
              "    .dataframe tbody tr th:only-of-type {\n",
              "        vertical-align: middle;\n",
              "    }\n",
              "\n",
              "    .dataframe tbody tr th {\n",
              "        vertical-align: top;\n",
              "    }\n",
              "\n",
              "    .dataframe thead th {\n",
              "        text-align: right;\n",
              "    }\n",
              "</style>\n",
              "<table border=\"1\" class=\"dataframe\">\n",
              "  <thead>\n",
              "    <tr style=\"text-align: right;\">\n",
              "      <th></th>\n",
              "      <th>co_fat_cidadao_pec</th>\n",
              "      <th>co_dim_sexo_CP</th>\n",
              "      <th>co_dim_identidade_genero_CP</th>\n",
              "      <th>co_dim_tempo_nascimento</th>\n",
              "      <th>co_dim_sexo_CI</th>\n",
              "      <th>co_dim_unidade_saude_CI</th>\n",
              "      <th>co_dim_municipio_CI</th>\n",
              "      <th>co_dim_tempo</th>\n",
              "      <th>co_dim_identidade_genero_CI</th>\n",
              "      <th>dt_nascimento_CI</th>\n",
              "      <th>co_dim_tempo_CI</th>\n",
              "      <th>_mergeA</th>\n",
              "      <th>co_seq_fat_cidadao_territorio</th>\n",
              "      <th>co_fat_familia_territorio</th>\n",
              "      <th>_mergeB</th>\n",
              "      <th>co_fat_cidadao_pec_FT</th>\n",
              "      <th>co_fat_cad_domiciliar</th>\n",
              "      <th>_mergeC</th>\n",
              "    </tr>\n",
              "  </thead>\n",
              "  <tbody>\n",
              "    <tr>\n",
              "      <th>0</th>\n",
              "      <td>694899</td>\n",
              "      <td></td>\n",
              "      <td></td>\n",
              "      <td></td>\n",
              "      <td>NaN</td>\n",
              "      <td>NaN</td>\n",
              "      <td>NaN</td>\n",
              "      <td>NaN</td>\n",
              "      <td>NaN</td>\n",
              "      <td>NaN</td>\n",
              "      <td>NaT</td>\n",
              "      <td>left_only</td>\n",
              "      <td>NaN</td>\n",
              "      <td>NaN</td>\n",
              "      <td>left_only</td>\n",
              "      <td>NaN</td>\n",
              "      <td>NaN</td>\n",
              "      <td>left_only</td>\n",
              "    </tr>\n",
              "    <tr>\n",
              "      <th>1</th>\n",
              "      <td>694900</td>\n",
              "      <td></td>\n",
              "      <td></td>\n",
              "      <td></td>\n",
              "      <td>NaN</td>\n",
              "      <td>NaN</td>\n",
              "      <td>NaN</td>\n",
              "      <td>NaN</td>\n",
              "      <td>NaN</td>\n",
              "      <td>NaN</td>\n",
              "      <td>NaT</td>\n",
              "      <td>left_only</td>\n",
              "      <td>NaN</td>\n",
              "      <td>NaN</td>\n",
              "      <td>left_only</td>\n",
              "      <td>NaN</td>\n",
              "      <td>NaN</td>\n",
              "      <td>left_only</td>\n",
              "    </tr>\n",
              "    <tr>\n",
              "      <th>2</th>\n",
              "      <td>694901</td>\n",
              "      <td></td>\n",
              "      <td></td>\n",
              "      <td></td>\n",
              "      <td>NaN</td>\n",
              "      <td>NaN</td>\n",
              "      <td>NaN</td>\n",
              "      <td>NaN</td>\n",
              "      <td>NaN</td>\n",
              "      <td>NaN</td>\n",
              "      <td>NaT</td>\n",
              "      <td>left_only</td>\n",
              "      <td>NaN</td>\n",
              "      <td>NaN</td>\n",
              "      <td>left_only</td>\n",
              "      <td>NaN</td>\n",
              "      <td>NaN</td>\n",
              "      <td>left_only</td>\n",
              "    </tr>\n",
              "    <tr>\n",
              "      <th>3</th>\n",
              "      <td>749364</td>\n",
              "      <td>2.0</td>\n",
              "      <td>5.0</td>\n",
              "      <td>19920321.0</td>\n",
              "      <td>2.0</td>\n",
              "      <td>498.0</td>\n",
              "      <td>9196.0</td>\n",
              "      <td>20180919.0</td>\n",
              "      <td>5.0</td>\n",
              "      <td>1992-03-21</td>\n",
              "      <td>2018-09-19</td>\n",
              "      <td>both</td>\n",
              "      <td>1034258.0</td>\n",
              "      <td>NaN</td>\n",
              "      <td>both</td>\n",
              "      <td>NaN</td>\n",
              "      <td>NaN</td>\n",
              "      <td>left_only</td>\n",
              "    </tr>\n",
              "    <tr>\n",
              "      <th>4</th>\n",
              "      <td>694902</td>\n",
              "      <td></td>\n",
              "      <td></td>\n",
              "      <td></td>\n",
              "      <td>NaN</td>\n",
              "      <td>NaN</td>\n",
              "      <td>NaN</td>\n",
              "      <td>NaN</td>\n",
              "      <td>NaN</td>\n",
              "      <td>NaN</td>\n",
              "      <td>NaT</td>\n",
              "      <td>left_only</td>\n",
              "      <td>NaN</td>\n",
              "      <td>NaN</td>\n",
              "      <td>left_only</td>\n",
              "      <td>NaN</td>\n",
              "      <td>NaN</td>\n",
              "      <td>left_only</td>\n",
              "    </tr>\n",
              "  </tbody>\n",
              "</table>\n",
              "</div>\n",
              "      <button class=\"colab-df-convert\" onclick=\"convertToInteractive('df-41340fcb-41ff-482f-9896-3dd591c9b41c')\"\n",
              "              title=\"Convert this dataframe to an interactive table.\"\n",
              "              style=\"display:none;\">\n",
              "        \n",
              "  <svg xmlns=\"http://www.w3.org/2000/svg\" height=\"24px\"viewBox=\"0 0 24 24\"\n",
              "       width=\"24px\">\n",
              "    <path d=\"M0 0h24v24H0V0z\" fill=\"none\"/>\n",
              "    <path d=\"M18.56 5.44l.94 2.06.94-2.06 2.06-.94-2.06-.94-.94-2.06-.94 2.06-2.06.94zm-11 1L8.5 8.5l.94-2.06 2.06-.94-2.06-.94L8.5 2.5l-.94 2.06-2.06.94zm10 10l.94 2.06.94-2.06 2.06-.94-2.06-.94-.94-2.06-.94 2.06-2.06.94z\"/><path d=\"M17.41 7.96l-1.37-1.37c-.4-.4-.92-.59-1.43-.59-.52 0-1.04.2-1.43.59L10.3 9.45l-7.72 7.72c-.78.78-.78 2.05 0 2.83L4 21.41c.39.39.9.59 1.41.59.51 0 1.02-.2 1.41-.59l7.78-7.78 2.81-2.81c.8-.78.8-2.07 0-2.86zM5.41 20L4 18.59l7.72-7.72 1.47 1.35L5.41 20z\"/>\n",
              "  </svg>\n",
              "      </button>\n",
              "      \n",
              "  <style>\n",
              "    .colab-df-container {\n",
              "      display:flex;\n",
              "      flex-wrap:wrap;\n",
              "      gap: 12px;\n",
              "    }\n",
              "\n",
              "    .colab-df-convert {\n",
              "      background-color: #E8F0FE;\n",
              "      border: none;\n",
              "      border-radius: 50%;\n",
              "      cursor: pointer;\n",
              "      display: none;\n",
              "      fill: #1967D2;\n",
              "      height: 32px;\n",
              "      padding: 0 0 0 0;\n",
              "      width: 32px;\n",
              "    }\n",
              "\n",
              "    .colab-df-convert:hover {\n",
              "      background-color: #E2EBFA;\n",
              "      box-shadow: 0px 1px 2px rgba(60, 64, 67, 0.3), 0px 1px 3px 1px rgba(60, 64, 67, 0.15);\n",
              "      fill: #174EA6;\n",
              "    }\n",
              "\n",
              "    [theme=dark] .colab-df-convert {\n",
              "      background-color: #3B4455;\n",
              "      fill: #D2E3FC;\n",
              "    }\n",
              "\n",
              "    [theme=dark] .colab-df-convert:hover {\n",
              "      background-color: #434B5C;\n",
              "      box-shadow: 0px 1px 3px 1px rgba(0, 0, 0, 0.15);\n",
              "      filter: drop-shadow(0px 1px 2px rgba(0, 0, 0, 0.3));\n",
              "      fill: #FFFFFF;\n",
              "    }\n",
              "  </style>\n",
              "\n",
              "      <script>\n",
              "        const buttonEl =\n",
              "          document.querySelector('#df-41340fcb-41ff-482f-9896-3dd591c9b41c button.colab-df-convert');\n",
              "        buttonEl.style.display =\n",
              "          google.colab.kernel.accessAllowed ? 'block' : 'none';\n",
              "\n",
              "        async function convertToInteractive(key) {\n",
              "          const element = document.querySelector('#df-41340fcb-41ff-482f-9896-3dd591c9b41c');\n",
              "          const dataTable =\n",
              "            await google.colab.kernel.invokeFunction('convertToInteractive',\n",
              "                                                     [key], {});\n",
              "          if (!dataTable) return;\n",
              "\n",
              "          const docLinkHtml = 'Like what you see? Visit the ' +\n",
              "            '<a target=\"_blank\" href=https://colab.research.google.com/notebooks/data_table.ipynb>data table notebook</a>'\n",
              "            + ' to learn more about interactive tables.';\n",
              "          element.innerHTML = '';\n",
              "          dataTable['output_type'] = 'display_data';\n",
              "          await google.colab.output.renderOutput(dataTable, element);\n",
              "          const docLink = document.createElement('div');\n",
              "          docLink.innerHTML = docLinkHtml;\n",
              "          element.appendChild(docLink);\n",
              "        }\n",
              "      </script>\n",
              "    </div>\n",
              "  </div>\n",
              "  "
            ]
          },
          "metadata": {},
          "execution_count": 82
        }
      ]
    },
    {
      "cell_type": "markdown",
      "metadata": {
        "id": "CXAWwvvCP0uj"
      },
      "source": [
        "##Linkage D = Linkage C VS cad_domiciliar"
      ]
    },
    {
      "cell_type": "code",
      "metadata": {
        "id": "SSvE5cD7_q37",
        "colab": {
          "base_uri": "https://localhost:8080/"
        },
        "outputId": "84d9f4fa-fffa-486e-a338-d962ada3048f"
      },
      "source": [
        "linkage_D = linkage_C.merge(cad_domiciliar_merge, on='co_fat_cad_domiciliar', how='left', indicator=True)\n",
        "linkage_D.shape"
      ],
      "execution_count": null,
      "outputs": [
        {
          "output_type": "execute_result",
          "data": {
            "text/plain": [
              "(135558, 22)"
            ]
          },
          "metadata": {},
          "execution_count": 83
        }
      ]
    },
    {
      "cell_type": "code",
      "metadata": {
        "id": "OX6KkeR6_q38",
        "colab": {
          "base_uri": "https://localhost:8080/"
        },
        "outputId": "afdaa630-0a79-4834-e039-cd722fe67ef1"
      },
      "source": [
        "linkage_D.head(2)"
      ],
      "execution_count": null,
      "outputs": [
        {
          "output_type": "execute_result",
          "data": {
            "text/plain": [
              "   co_fat_cidadao_pec co_dim_sexo_CP co_dim_identidade_genero_CP co_dim_tempo_nascimento  co_dim_sexo_CI  co_dim_unidade_saude_CI  co_dim_municipio_CI  co_dim_tempo  co_dim_identidade_genero_CI dt_nascimento_CI co_dim_tempo_CI    _mergeA  co_seq_fat_cidadao_territorio  co_fat_familia_territorio    _mergeB  co_fat_cidadao_pec_FT  co_fat_cad_domiciliar    _mergeC  co_dim_tipo_localizacao  co_dim_municipio_CD co_dim_tempo_CD     _merge\n",
              "0              694899                                                                                NaN                      NaN                  NaN           NaN                          NaN              NaN             NaT  left_only                            NaN                        NaN  left_only                    NaN                    NaN  left_only                      NaN                  NaN             NaT  left_only\n",
              "1              694900                                                                                NaN                      NaN                  NaN           NaN                          NaN              NaN             NaT  left_only                            NaN                        NaN  left_only                    NaN                    NaN  left_only                      NaN                  NaN             NaT  left_only"
            ],
            "text/html": [
              "\n",
              "  <div id=\"df-f5fe425d-6ccc-4fe7-bd1d-64488a918679\">\n",
              "    <div class=\"colab-df-container\">\n",
              "      <div>\n",
              "<style scoped>\n",
              "    .dataframe tbody tr th:only-of-type {\n",
              "        vertical-align: middle;\n",
              "    }\n",
              "\n",
              "    .dataframe tbody tr th {\n",
              "        vertical-align: top;\n",
              "    }\n",
              "\n",
              "    .dataframe thead th {\n",
              "        text-align: right;\n",
              "    }\n",
              "</style>\n",
              "<table border=\"1\" class=\"dataframe\">\n",
              "  <thead>\n",
              "    <tr style=\"text-align: right;\">\n",
              "      <th></th>\n",
              "      <th>co_fat_cidadao_pec</th>\n",
              "      <th>co_dim_sexo_CP</th>\n",
              "      <th>co_dim_identidade_genero_CP</th>\n",
              "      <th>co_dim_tempo_nascimento</th>\n",
              "      <th>co_dim_sexo_CI</th>\n",
              "      <th>co_dim_unidade_saude_CI</th>\n",
              "      <th>co_dim_municipio_CI</th>\n",
              "      <th>co_dim_tempo</th>\n",
              "      <th>co_dim_identidade_genero_CI</th>\n",
              "      <th>dt_nascimento_CI</th>\n",
              "      <th>co_dim_tempo_CI</th>\n",
              "      <th>_mergeA</th>\n",
              "      <th>co_seq_fat_cidadao_territorio</th>\n",
              "      <th>co_fat_familia_territorio</th>\n",
              "      <th>_mergeB</th>\n",
              "      <th>co_fat_cidadao_pec_FT</th>\n",
              "      <th>co_fat_cad_domiciliar</th>\n",
              "      <th>_mergeC</th>\n",
              "      <th>co_dim_tipo_localizacao</th>\n",
              "      <th>co_dim_municipio_CD</th>\n",
              "      <th>co_dim_tempo_CD</th>\n",
              "      <th>_merge</th>\n",
              "    </tr>\n",
              "  </thead>\n",
              "  <tbody>\n",
              "    <tr>\n",
              "      <th>0</th>\n",
              "      <td>694899</td>\n",
              "      <td></td>\n",
              "      <td></td>\n",
              "      <td></td>\n",
              "      <td>NaN</td>\n",
              "      <td>NaN</td>\n",
              "      <td>NaN</td>\n",
              "      <td>NaN</td>\n",
              "      <td>NaN</td>\n",
              "      <td>NaN</td>\n",
              "      <td>NaT</td>\n",
              "      <td>left_only</td>\n",
              "      <td>NaN</td>\n",
              "      <td>NaN</td>\n",
              "      <td>left_only</td>\n",
              "      <td>NaN</td>\n",
              "      <td>NaN</td>\n",
              "      <td>left_only</td>\n",
              "      <td>NaN</td>\n",
              "      <td>NaN</td>\n",
              "      <td>NaT</td>\n",
              "      <td>left_only</td>\n",
              "    </tr>\n",
              "    <tr>\n",
              "      <th>1</th>\n",
              "      <td>694900</td>\n",
              "      <td></td>\n",
              "      <td></td>\n",
              "      <td></td>\n",
              "      <td>NaN</td>\n",
              "      <td>NaN</td>\n",
              "      <td>NaN</td>\n",
              "      <td>NaN</td>\n",
              "      <td>NaN</td>\n",
              "      <td>NaN</td>\n",
              "      <td>NaT</td>\n",
              "      <td>left_only</td>\n",
              "      <td>NaN</td>\n",
              "      <td>NaN</td>\n",
              "      <td>left_only</td>\n",
              "      <td>NaN</td>\n",
              "      <td>NaN</td>\n",
              "      <td>left_only</td>\n",
              "      <td>NaN</td>\n",
              "      <td>NaN</td>\n",
              "      <td>NaT</td>\n",
              "      <td>left_only</td>\n",
              "    </tr>\n",
              "  </tbody>\n",
              "</table>\n",
              "</div>\n",
              "      <button class=\"colab-df-convert\" onclick=\"convertToInteractive('df-f5fe425d-6ccc-4fe7-bd1d-64488a918679')\"\n",
              "              title=\"Convert this dataframe to an interactive table.\"\n",
              "              style=\"display:none;\">\n",
              "        \n",
              "  <svg xmlns=\"http://www.w3.org/2000/svg\" height=\"24px\"viewBox=\"0 0 24 24\"\n",
              "       width=\"24px\">\n",
              "    <path d=\"M0 0h24v24H0V0z\" fill=\"none\"/>\n",
              "    <path d=\"M18.56 5.44l.94 2.06.94-2.06 2.06-.94-2.06-.94-.94-2.06-.94 2.06-2.06.94zm-11 1L8.5 8.5l.94-2.06 2.06-.94-2.06-.94L8.5 2.5l-.94 2.06-2.06.94zm10 10l.94 2.06.94-2.06 2.06-.94-2.06-.94-.94-2.06-.94 2.06-2.06.94z\"/><path d=\"M17.41 7.96l-1.37-1.37c-.4-.4-.92-.59-1.43-.59-.52 0-1.04.2-1.43.59L10.3 9.45l-7.72 7.72c-.78.78-.78 2.05 0 2.83L4 21.41c.39.39.9.59 1.41.59.51 0 1.02-.2 1.41-.59l7.78-7.78 2.81-2.81c.8-.78.8-2.07 0-2.86zM5.41 20L4 18.59l7.72-7.72 1.47 1.35L5.41 20z\"/>\n",
              "  </svg>\n",
              "      </button>\n",
              "      \n",
              "  <style>\n",
              "    .colab-df-container {\n",
              "      display:flex;\n",
              "      flex-wrap:wrap;\n",
              "      gap: 12px;\n",
              "    }\n",
              "\n",
              "    .colab-df-convert {\n",
              "      background-color: #E8F0FE;\n",
              "      border: none;\n",
              "      border-radius: 50%;\n",
              "      cursor: pointer;\n",
              "      display: none;\n",
              "      fill: #1967D2;\n",
              "      height: 32px;\n",
              "      padding: 0 0 0 0;\n",
              "      width: 32px;\n",
              "    }\n",
              "\n",
              "    .colab-df-convert:hover {\n",
              "      background-color: #E2EBFA;\n",
              "      box-shadow: 0px 1px 2px rgba(60, 64, 67, 0.3), 0px 1px 3px 1px rgba(60, 64, 67, 0.15);\n",
              "      fill: #174EA6;\n",
              "    }\n",
              "\n",
              "    [theme=dark] .colab-df-convert {\n",
              "      background-color: #3B4455;\n",
              "      fill: #D2E3FC;\n",
              "    }\n",
              "\n",
              "    [theme=dark] .colab-df-convert:hover {\n",
              "      background-color: #434B5C;\n",
              "      box-shadow: 0px 1px 3px 1px rgba(0, 0, 0, 0.15);\n",
              "      filter: drop-shadow(0px 1px 2px rgba(0, 0, 0, 0.3));\n",
              "      fill: #FFFFFF;\n",
              "    }\n",
              "  </style>\n",
              "\n",
              "      <script>\n",
              "        const buttonEl =\n",
              "          document.querySelector('#df-f5fe425d-6ccc-4fe7-bd1d-64488a918679 button.colab-df-convert');\n",
              "        buttonEl.style.display =\n",
              "          google.colab.kernel.accessAllowed ? 'block' : 'none';\n",
              "\n",
              "        async function convertToInteractive(key) {\n",
              "          const element = document.querySelector('#df-f5fe425d-6ccc-4fe7-bd1d-64488a918679');\n",
              "          const dataTable =\n",
              "            await google.colab.kernel.invokeFunction('convertToInteractive',\n",
              "                                                     [key], {});\n",
              "          if (!dataTable) return;\n",
              "\n",
              "          const docLinkHtml = 'Like what you see? Visit the ' +\n",
              "            '<a target=\"_blank\" href=https://colab.research.google.com/notebooks/data_table.ipynb>data table notebook</a>'\n",
              "            + ' to learn more about interactive tables.';\n",
              "          element.innerHTML = '';\n",
              "          dataTable['output_type'] = 'display_data';\n",
              "          await google.colab.output.renderOutput(dataTable, element);\n",
              "          const docLink = document.createElement('div');\n",
              "          docLink.innerHTML = docLinkHtml;\n",
              "          element.appendChild(docLink);\n",
              "        }\n",
              "      </script>\n",
              "    </div>\n",
              "  </div>\n",
              "  "
            ]
          },
          "metadata": {},
          "execution_count": 84
        }
      ]
    },
    {
      "cell_type": "markdown",
      "metadata": {
        "id": "6EQQ5hWHQArY"
      },
      "source": [
        "###Renomeando Linkage Final"
      ]
    },
    {
      "cell_type": "code",
      "metadata": {
        "id": "3gscSlUn_q4B"
      },
      "source": [
        "Cadastro_Mestre_Pessoas = linkage_D"
      ],
      "execution_count": null,
      "outputs": []
    },
    {
      "cell_type": "code",
      "metadata": {
        "colab": {
          "base_uri": "https://localhost:8080/"
        },
        "id": "Lc_hwn6SO0Um",
        "outputId": "5bdb5666-d81d-4b87-e1e1-67c05b7d5a23"
      },
      "source": [
        "Cadastro_Mestre_Pessoas.head(2)"
      ],
      "execution_count": null,
      "outputs": [
        {
          "output_type": "execute_result",
          "data": {
            "text/plain": [
              "   co_fat_cidadao_pec co_dim_sexo_CP co_dim_identidade_genero_CP co_dim_tempo_nascimento  co_dim_sexo_CI  co_dim_unidade_saude_CI  co_dim_municipio_CI  co_dim_tempo  co_dim_identidade_genero_CI dt_nascimento_CI co_dim_tempo_CI    _mergeA  co_seq_fat_cidadao_territorio  co_fat_familia_territorio    _mergeB  co_fat_cidadao_pec_FT  co_fat_cad_domiciliar    _mergeC  co_dim_tipo_localizacao  co_dim_municipio_CD co_dim_tempo_CD     _merge\n",
              "0              694899                                                                                NaN                      NaN                  NaN           NaN                          NaN              NaN             NaT  left_only                            NaN                        NaN  left_only                    NaN                    NaN  left_only                      NaN                  NaN             NaT  left_only\n",
              "1              694900                                                                                NaN                      NaN                  NaN           NaN                          NaN              NaN             NaT  left_only                            NaN                        NaN  left_only                    NaN                    NaN  left_only                      NaN                  NaN             NaT  left_only"
            ],
            "text/html": [
              "\n",
              "  <div id=\"df-e80ce69c-c89c-45cf-8400-3b1fd34d328e\">\n",
              "    <div class=\"colab-df-container\">\n",
              "      <div>\n",
              "<style scoped>\n",
              "    .dataframe tbody tr th:only-of-type {\n",
              "        vertical-align: middle;\n",
              "    }\n",
              "\n",
              "    .dataframe tbody tr th {\n",
              "        vertical-align: top;\n",
              "    }\n",
              "\n",
              "    .dataframe thead th {\n",
              "        text-align: right;\n",
              "    }\n",
              "</style>\n",
              "<table border=\"1\" class=\"dataframe\">\n",
              "  <thead>\n",
              "    <tr style=\"text-align: right;\">\n",
              "      <th></th>\n",
              "      <th>co_fat_cidadao_pec</th>\n",
              "      <th>co_dim_sexo_CP</th>\n",
              "      <th>co_dim_identidade_genero_CP</th>\n",
              "      <th>co_dim_tempo_nascimento</th>\n",
              "      <th>co_dim_sexo_CI</th>\n",
              "      <th>co_dim_unidade_saude_CI</th>\n",
              "      <th>co_dim_municipio_CI</th>\n",
              "      <th>co_dim_tempo</th>\n",
              "      <th>co_dim_identidade_genero_CI</th>\n",
              "      <th>dt_nascimento_CI</th>\n",
              "      <th>co_dim_tempo_CI</th>\n",
              "      <th>_mergeA</th>\n",
              "      <th>co_seq_fat_cidadao_territorio</th>\n",
              "      <th>co_fat_familia_territorio</th>\n",
              "      <th>_mergeB</th>\n",
              "      <th>co_fat_cidadao_pec_FT</th>\n",
              "      <th>co_fat_cad_domiciliar</th>\n",
              "      <th>_mergeC</th>\n",
              "      <th>co_dim_tipo_localizacao</th>\n",
              "      <th>co_dim_municipio_CD</th>\n",
              "      <th>co_dim_tempo_CD</th>\n",
              "      <th>_merge</th>\n",
              "    </tr>\n",
              "  </thead>\n",
              "  <tbody>\n",
              "    <tr>\n",
              "      <th>0</th>\n",
              "      <td>694899</td>\n",
              "      <td></td>\n",
              "      <td></td>\n",
              "      <td></td>\n",
              "      <td>NaN</td>\n",
              "      <td>NaN</td>\n",
              "      <td>NaN</td>\n",
              "      <td>NaN</td>\n",
              "      <td>NaN</td>\n",
              "      <td>NaN</td>\n",
              "      <td>NaT</td>\n",
              "      <td>left_only</td>\n",
              "      <td>NaN</td>\n",
              "      <td>NaN</td>\n",
              "      <td>left_only</td>\n",
              "      <td>NaN</td>\n",
              "      <td>NaN</td>\n",
              "      <td>left_only</td>\n",
              "      <td>NaN</td>\n",
              "      <td>NaN</td>\n",
              "      <td>NaT</td>\n",
              "      <td>left_only</td>\n",
              "    </tr>\n",
              "    <tr>\n",
              "      <th>1</th>\n",
              "      <td>694900</td>\n",
              "      <td></td>\n",
              "      <td></td>\n",
              "      <td></td>\n",
              "      <td>NaN</td>\n",
              "      <td>NaN</td>\n",
              "      <td>NaN</td>\n",
              "      <td>NaN</td>\n",
              "      <td>NaN</td>\n",
              "      <td>NaN</td>\n",
              "      <td>NaT</td>\n",
              "      <td>left_only</td>\n",
              "      <td>NaN</td>\n",
              "      <td>NaN</td>\n",
              "      <td>left_only</td>\n",
              "      <td>NaN</td>\n",
              "      <td>NaN</td>\n",
              "      <td>left_only</td>\n",
              "      <td>NaN</td>\n",
              "      <td>NaN</td>\n",
              "      <td>NaT</td>\n",
              "      <td>left_only</td>\n",
              "    </tr>\n",
              "  </tbody>\n",
              "</table>\n",
              "</div>\n",
              "      <button class=\"colab-df-convert\" onclick=\"convertToInteractive('df-e80ce69c-c89c-45cf-8400-3b1fd34d328e')\"\n",
              "              title=\"Convert this dataframe to an interactive table.\"\n",
              "              style=\"display:none;\">\n",
              "        \n",
              "  <svg xmlns=\"http://www.w3.org/2000/svg\" height=\"24px\"viewBox=\"0 0 24 24\"\n",
              "       width=\"24px\">\n",
              "    <path d=\"M0 0h24v24H0V0z\" fill=\"none\"/>\n",
              "    <path d=\"M18.56 5.44l.94 2.06.94-2.06 2.06-.94-2.06-.94-.94-2.06-.94 2.06-2.06.94zm-11 1L8.5 8.5l.94-2.06 2.06-.94-2.06-.94L8.5 2.5l-.94 2.06-2.06.94zm10 10l.94 2.06.94-2.06 2.06-.94-2.06-.94-.94-2.06-.94 2.06-2.06.94z\"/><path d=\"M17.41 7.96l-1.37-1.37c-.4-.4-.92-.59-1.43-.59-.52 0-1.04.2-1.43.59L10.3 9.45l-7.72 7.72c-.78.78-.78 2.05 0 2.83L4 21.41c.39.39.9.59 1.41.59.51 0 1.02-.2 1.41-.59l7.78-7.78 2.81-2.81c.8-.78.8-2.07 0-2.86zM5.41 20L4 18.59l7.72-7.72 1.47 1.35L5.41 20z\"/>\n",
              "  </svg>\n",
              "      </button>\n",
              "      \n",
              "  <style>\n",
              "    .colab-df-container {\n",
              "      display:flex;\n",
              "      flex-wrap:wrap;\n",
              "      gap: 12px;\n",
              "    }\n",
              "\n",
              "    .colab-df-convert {\n",
              "      background-color: #E8F0FE;\n",
              "      border: none;\n",
              "      border-radius: 50%;\n",
              "      cursor: pointer;\n",
              "      display: none;\n",
              "      fill: #1967D2;\n",
              "      height: 32px;\n",
              "      padding: 0 0 0 0;\n",
              "      width: 32px;\n",
              "    }\n",
              "\n",
              "    .colab-df-convert:hover {\n",
              "      background-color: #E2EBFA;\n",
              "      box-shadow: 0px 1px 2px rgba(60, 64, 67, 0.3), 0px 1px 3px 1px rgba(60, 64, 67, 0.15);\n",
              "      fill: #174EA6;\n",
              "    }\n",
              "\n",
              "    [theme=dark] .colab-df-convert {\n",
              "      background-color: #3B4455;\n",
              "      fill: #D2E3FC;\n",
              "    }\n",
              "\n",
              "    [theme=dark] .colab-df-convert:hover {\n",
              "      background-color: #434B5C;\n",
              "      box-shadow: 0px 1px 3px 1px rgba(0, 0, 0, 0.15);\n",
              "      filter: drop-shadow(0px 1px 2px rgba(0, 0, 0, 0.3));\n",
              "      fill: #FFFFFF;\n",
              "    }\n",
              "  </style>\n",
              "\n",
              "      <script>\n",
              "        const buttonEl =\n",
              "          document.querySelector('#df-e80ce69c-c89c-45cf-8400-3b1fd34d328e button.colab-df-convert');\n",
              "        buttonEl.style.display =\n",
              "          google.colab.kernel.accessAllowed ? 'block' : 'none';\n",
              "\n",
              "        async function convertToInteractive(key) {\n",
              "          const element = document.querySelector('#df-e80ce69c-c89c-45cf-8400-3b1fd34d328e');\n",
              "          const dataTable =\n",
              "            await google.colab.kernel.invokeFunction('convertToInteractive',\n",
              "                                                     [key], {});\n",
              "          if (!dataTable) return;\n",
              "\n",
              "          const docLinkHtml = 'Like what you see? Visit the ' +\n",
              "            '<a target=\"_blank\" href=https://colab.research.google.com/notebooks/data_table.ipynb>data table notebook</a>'\n",
              "            + ' to learn more about interactive tables.';\n",
              "          element.innerHTML = '';\n",
              "          dataTable['output_type'] = 'display_data';\n",
              "          await google.colab.output.renderOutput(dataTable, element);\n",
              "          const docLink = document.createElement('div');\n",
              "          docLink.innerHTML = docLinkHtml;\n",
              "          element.appendChild(docLink);\n",
              "        }\n",
              "      </script>\n",
              "    </div>\n",
              "  </div>\n",
              "  "
            ]
          },
          "metadata": {},
          "execution_count": 86
        }
      ]
    },
    {
      "cell_type": "code",
      "metadata": {
        "colab": {
          "base_uri": "https://localhost:8080/"
        },
        "id": "H5yQB1yt6ljX",
        "outputId": "0e66e970-8504-4444-aa09-5c741398f5be"
      },
      "source": [
        "Cadastro_Mestre_Pessoas.shape"
      ],
      "execution_count": null,
      "outputs": [
        {
          "output_type": "execute_result",
          "data": {
            "text/plain": [
              "(135558, 22)"
            ]
          },
          "metadata": {},
          "execution_count": 87
        }
      ]
    },
    {
      "cell_type": "code",
      "source": [
        "Cadastro_Mestre_Pessoas.dtypes"
      ],
      "metadata": {
        "colab": {
          "base_uri": "https://localhost:8080/"
        },
        "id": "6uW-PeZRmr4Y",
        "outputId": "61485500-28b4-45c1-f762-bbee9bc1460a"
      },
      "execution_count": null,
      "outputs": [
        {
          "output_type": "execute_result",
          "data": {
            "text/plain": [
              "co_fat_cidadao_pec                        int64\n",
              "co_dim_sexo_CP                           object\n",
              "co_dim_identidade_genero_CP              object\n",
              "co_dim_tempo_nascimento                  object\n",
              "co_dim_sexo_CI                          float64\n",
              "co_dim_unidade_saude_CI                 float64\n",
              "co_dim_municipio_CI                     float64\n",
              "co_dim_tempo                            float64\n",
              "co_dim_identidade_genero_CI             float64\n",
              "dt_nascimento_CI                         object\n",
              "co_dim_tempo_CI                  datetime64[ns]\n",
              "_mergeA                                category\n",
              "co_seq_fat_cidadao_territorio           float64\n",
              "co_fat_familia_territorio               float64\n",
              "_mergeB                                category\n",
              "co_fat_cidadao_pec_FT                   float64\n",
              "co_fat_cad_domiciliar                   float64\n",
              "_mergeC                                category\n",
              "co_dim_tipo_localizacao                 float64\n",
              "co_dim_municipio_CD                     float64\n",
              "co_dim_tempo_CD                  datetime64[ns]\n",
              "_merge                                 category\n",
              "dtype: object"
            ]
          },
          "metadata": {},
          "execution_count": 88
        }
      ]
    },
    {
      "cell_type": "markdown",
      "metadata": {
        "id": "dQgrA2C3LPcq"
      },
      "source": [
        "## Juntar Colunas Duplicadas"
      ]
    },
    {
      "cell_type": "markdown",
      "metadata": {
        "id": "x_xkXTXu1hqp"
      },
      "source": [
        "###**Identidade de gênero**"
      ]
    },
    {
      "cell_type": "code",
      "metadata": {
        "colab": {
          "base_uri": "https://localhost:8080/"
        },
        "id": "m2Sg5T8QGbDx",
        "outputId": "0e3168aa-cc95-48e3-ebcd-f2ee43eb16a8"
      },
      "source": [
        "Cadastro_Mestre_Pessoas['co_dim_identidade_genero_CI'] = Cadastro_Mestre_Pessoas['co_dim_identidade_genero_CI'].astype(str)\n",
        "Cadastro_Mestre_Pessoas['co_dim_identidade_genero_CI'].value_counts()"
      ],
      "execution_count": null,
      "outputs": [
        {
          "output_type": "execute_result",
          "data": {
            "text/plain": [
              "5.0    82158\n",
              "nan    52924\n",
              "4.0      415\n",
              "1.0       56\n",
              "2.0        5\n",
              "Name: co_dim_identidade_genero_CI, dtype: int64"
            ]
          },
          "metadata": {},
          "execution_count": 89
        }
      ]
    },
    {
      "cell_type": "code",
      "metadata": {
        "colab": {
          "base_uri": "https://localhost:8080/"
        },
        "id": "y0hVcVZSLl12",
        "outputId": "48bb61df-5ac1-4fd2-8000-99952729b4c3"
      },
      "source": [
        "Cadastro_Mestre_Pessoas['co_dim_identidade_genero_CP'].value_counts()"
      ],
      "execution_count": null,
      "outputs": [
        {
          "output_type": "execute_result",
          "data": {
            "text/plain": [
              "5.0    87045\n",
              "       48062\n",
              "4.0      389\n",
              "1.0       57\n",
              "2.0        5\n",
              "Name: co_dim_identidade_genero_CP, dtype: int64"
            ]
          },
          "metadata": {},
          "execution_count": 90
        }
      ]
    },
    {
      "cell_type": "code",
      "metadata": {
        "id": "DcpHeBwaHXmh"
      },
      "source": [
        "Cadastro_Mestre_Pessoas_MERGE = Cadastro_Mestre_Pessoas.assign(**{\n",
        "    'CO_DIM_IDENTIDADE_GENERO': Cadastro_Mestre_Pessoas['co_dim_identidade_genero_CI'].mask(\n",
        "        lambda x: x == 'nan', Cadastro_Mestre_Pessoas['co_dim_identidade_genero_CP'])})"
      ],
      "execution_count": null,
      "outputs": []
    },
    {
      "cell_type": "code",
      "metadata": {
        "id": "h5w6yZzqzk1M",
        "colab": {
          "base_uri": "https://localhost:8080/"
        },
        "outputId": "3813987c-7211-410a-a557-416c64399c84"
      },
      "source": [
        "Cadastro_Mestre_Pessoas_MERGE['CO_DIM_IDENTIDADE_GENERO']=pd.to_numeric(Cadastro_Mestre_Pessoas_MERGE['CO_DIM_IDENTIDADE_GENERO'])\n",
        "Cadastro_Mestre_Pessoas_MERGE['CO_DIM_IDENTIDADE_GENERO']=Cadastro_Mestre_Pessoas_MERGE['CO_DIM_IDENTIDADE_GENERO'].astype(str)\n",
        "Cadastro_Mestre_Pessoas_MERGE['CO_DIM_IDENTIDADE_GENERO'].value_counts()"
      ],
      "execution_count": null,
      "outputs": [
        {
          "output_type": "execute_result",
          "data": {
            "text/plain": [
              "5.0    88574\n",
              "nan    46507\n",
              "4.0      416\n",
              "1.0       56\n",
              "2.0        5\n",
              "Name: CO_DIM_IDENTIDADE_GENERO, dtype: int64"
            ]
          },
          "metadata": {},
          "execution_count": 92
        }
      ]
    },
    {
      "cell_type": "markdown",
      "metadata": {
        "id": "EpAqtMuU1p20"
      },
      "source": [
        "###**Sexo**"
      ]
    },
    {
      "cell_type": "code",
      "metadata": {
        "id": "sQ3oRNV-H06G",
        "colab": {
          "base_uri": "https://localhost:8080/"
        },
        "outputId": "d389931a-46f5-4212-ff1b-777ea24357ce"
      },
      "source": [
        "Cadastro_Mestre_Pessoas_MERGE['co_dim_sexo_CI'] = Cadastro_Mestre_Pessoas_MERGE['co_dim_sexo_CI'].astype(str)\n",
        "Cadastro_Mestre_Pessoas_MERGE['co_dim_sexo_CI'].value_counts()"
      ],
      "execution_count": null,
      "outputs": [
        {
          "output_type": "execute_result",
          "data": {
            "text/plain": [
              "nan    52924\n",
              "2.0    42779\n",
              "1.0    39855\n",
              "Name: co_dim_sexo_CI, dtype: int64"
            ]
          },
          "metadata": {},
          "execution_count": 93
        }
      ]
    },
    {
      "cell_type": "code",
      "metadata": {
        "colab": {
          "base_uri": "https://localhost:8080/"
        },
        "id": "QYizf8MsMMRm",
        "outputId": "df397e6a-f494-4b49-a08a-435ecc79eca4"
      },
      "source": [
        "Cadastro_Mestre_Pessoas_MERGE['co_dim_sexo_CP'].value_counts()"
      ],
      "execution_count": null,
      "outputs": [
        {
          "output_type": "execute_result",
          "data": {
            "text/plain": [
              "       48062\n",
              "2.0    45488\n",
              "1.0    42008\n",
              "Name: co_dim_sexo_CP, dtype: int64"
            ]
          },
          "metadata": {},
          "execution_count": 94
        }
      ]
    },
    {
      "cell_type": "code",
      "metadata": {
        "id": "P4KMRdZRIBVy"
      },
      "source": [
        "Cadastro_Mestre_Pessoas_MERGE = Cadastro_Mestre_Pessoas_MERGE.assign(**{\n",
        "    'CO_DIM_SEXO': Cadastro_Mestre_Pessoas_MERGE['co_dim_sexo_CI'].mask(\n",
        "        lambda x: x == 'nan', Cadastro_Mestre_Pessoas_MERGE['co_dim_sexo_CP'])})"
      ],
      "execution_count": null,
      "outputs": []
    },
    {
      "cell_type": "code",
      "metadata": {
        "id": "TzwySfX31E_J",
        "colab": {
          "base_uri": "https://localhost:8080/"
        },
        "outputId": "47f28f7a-8c80-4697-dba3-473dea4b1243"
      },
      "source": [
        "Cadastro_Mestre_Pessoas_MERGE['CO_DIM_SEXO']=pd.to_numeric(Cadastro_Mestre_Pessoas_MERGE['CO_DIM_SEXO'])\n",
        "Cadastro_Mestre_Pessoas_MERGE['CO_DIM_SEXO']=Cadastro_Mestre_Pessoas_MERGE['CO_DIM_SEXO'].astype(str)\n",
        "Cadastro_Mestre_Pessoas_MERGE['CO_DIM_SEXO'].value_counts()"
      ],
      "execution_count": null,
      "outputs": [
        {
          "output_type": "execute_result",
          "data": {
            "text/plain": [
              "nan    46507\n",
              "2.0    46387\n",
              "1.0    42664\n",
              "Name: CO_DIM_SEXO, dtype: int64"
            ]
          },
          "metadata": {},
          "execution_count": 96
        }
      ]
    },
    {
      "cell_type": "code",
      "source": [
        "Cadastro_Mestre_Pessoas_MERGE = Cadastro_Mestre_Pessoas_MERGE.drop(['co_dim_sexo_CP'], axis = 1)\n",
        "Cadastro_Mestre_Pessoas_MERGE.shape"
      ],
      "metadata": {
        "colab": {
          "base_uri": "https://localhost:8080/"
        },
        "id": "dmVWDSmI69Tf",
        "outputId": "3ca31a02-b0b1-46b5-a31d-f5da4433a420"
      },
      "execution_count": null,
      "outputs": [
        {
          "output_type": "execute_result",
          "data": {
            "text/plain": [
              "(135558, 23)"
            ]
          },
          "metadata": {},
          "execution_count": 97
        }
      ]
    },
    {
      "cell_type": "markdown",
      "metadata": {
        "id": "JgCsxfgg13xR"
      },
      "source": [
        "###**Cidadão PEC**\n",
        "\n",
        "\n",
        "> Apenas fazemos o drop da coluna duplicada que surge a partir do linkage com o Família Território. A variável co_fat_cidadao_pec utilizada como chave no início do linkage será sempre completa.\n",
        "\n"
      ]
    },
    {
      "cell_type": "code",
      "metadata": {
        "id": "HnCkmlh957dk"
      },
      "source": [
        "Cadastro_Mestre_Pessoas_MERGE = Cadastro_Mestre_Pessoas_MERGE.drop(columns=['co_fat_cidadao_pec_FT'])"
      ],
      "execution_count": null,
      "outputs": []
    },
    {
      "cell_type": "markdown",
      "metadata": {
        "id": "VrdwNqHO4si2"
      },
      "source": [
        "###**CNS**\n",
        "\n",
        "\n",
        "> Se por acaso utilizarmos como chave, temos que retirar os zeros.\n",
        "\n"
      ]
    },
    {
      "cell_type": "code",
      "metadata": {
        "id": "RE5FbxBYUwWQ"
      },
      "source": [
        "#Cadastro_Mestre_Pessoas_MERGE['nu_cns_CI'] = Cadastro_Mestre_Pessoas_MERGE['nu_cns_CI'].astype('Int64')\n",
        "#Cadastro_Mestre_Pessoas_MERGE['nu_cns_CI'].value_counts()"
      ],
      "execution_count": null,
      "outputs": []
    },
    {
      "cell_type": "code",
      "metadata": {
        "id": "dQpWx9jJOAZK"
      },
      "source": [
        "#Cadastro_Mestre_Pessoas_MERGE['nu_cns_CP'].value_counts()"
      ],
      "execution_count": null,
      "outputs": []
    },
    {
      "cell_type": "code",
      "metadata": {
        "id": "mKsrJViYDr-i",
        "colab": {
          "base_uri": "https://localhost:8080/",
          "height": 53
        },
        "outputId": "59233194-94de-466d-f46e-c8eb81431781"
      },
      "source": [
        "# merge same column of two dataframe in only 1\n",
        "'''\n",
        "Cadastro_Mestre_Pessoas_MERGE = Cadastro_Mestre_Pessoas_MERGE.assign(**{\n",
        "    'NU_CNS': Cadastro_Mestre_Pessoas_MERGE['nu_cns_CP'].mask(\n",
        "        lambda x: x == '', Cadastro_Mestre_Pessoas_MERGE['nu_cns_CI'])})\n",
        "'''"
      ],
      "execution_count": null,
      "outputs": [
        {
          "output_type": "execute_result",
          "data": {
            "text/plain": [
              "\"\\nCadastro_Mestre_Pessoas_MERGE = Cadastro_Mestre_Pessoas_MERGE.assign(**{\\n    'NU_CNS': Cadastro_Mestre_Pessoas_MERGE['nu_cns_CP'].mask(\\n        lambda x: x == '', Cadastro_Mestre_Pessoas_MERGE['nu_cns_CI'])})\\n\""
            ],
            "application/vnd.google.colaboratory.intrinsic+json": {
              "type": "string"
            }
          },
          "metadata": {},
          "execution_count": 101
        }
      ]
    },
    {
      "cell_type": "code",
      "metadata": {
        "id": "en9UE4ZXD39t"
      },
      "source": [
        "#Cadastro_Mestre_Pessoas_MERGE['NU_CNS'].value_counts()"
      ],
      "execution_count": null,
      "outputs": []
    },
    {
      "cell_type": "markdown",
      "metadata": {
        "id": "BlHJQUn473Ro"
      },
      "source": [
        "###**CPF**\n",
        "\n",
        "\n",
        "> O mesmo acontece aqui, se for usar como chave, tiramos os zeros.\n"
      ]
    },
    {
      "cell_type": "code",
      "metadata": {
        "colab": {
          "base_uri": "https://localhost:8080/",
          "height": 53
        },
        "id": "17lltuSvKDYQ",
        "outputId": "099d2187-b654-4016-e424-e0eaa78ec211"
      },
      "source": [
        "'''\n",
        "Cadastro_Mestre_Pessoas_MERGE['nu_cpf_cidadao_CI'] = Cadastro_Mestre_Pessoas_MERGE['nu_cpf_cidadao_CI'].astype('Int64').astype('str')\n",
        "Cadastro_Mestre_Pessoas_MERGE['nu_cpf_cidadao_CI'] = Cadastro_Mestre_Pessoas_MERGE['nu_cpf_cidadao_CI'].apply(lambda x: x.zfill(11))\n",
        "Cadastro_Mestre_Pessoas_MERGE['nu_cpf_cidadao_CI'].value_counts()\n",
        "'''"
      ],
      "execution_count": null,
      "outputs": [
        {
          "output_type": "execute_result",
          "data": {
            "text/plain": [
              "\"\\nCadastro_Mestre_Pessoas_MERGE['nu_cpf_cidadao_CI'] = Cadastro_Mestre_Pessoas_MERGE['nu_cpf_cidadao_CI'].astype('Int64').astype('str')\\nCadastro_Mestre_Pessoas_MERGE['nu_cpf_cidadao_CI'] = Cadastro_Mestre_Pessoas_MERGE['nu_cpf_cidadao_CI'].apply(lambda x: x.zfill(11))\\nCadastro_Mestre_Pessoas_MERGE['nu_cpf_cidadao_CI'].value_counts()\\n\""
            ],
            "application/vnd.google.colaboratory.intrinsic+json": {
              "type": "string"
            }
          },
          "metadata": {},
          "execution_count": 103
        }
      ]
    },
    {
      "cell_type": "code",
      "metadata": {
        "id": "LLb9DYedOBGo"
      },
      "source": [
        "#Cadastro_Mestre_Pessoas_MERGE['nu_cpf_cidadao_CP'].value_counts()"
      ],
      "execution_count": null,
      "outputs": []
    },
    {
      "cell_type": "code",
      "metadata": {
        "id": "DlvhY3EWPTGX",
        "colab": {
          "base_uri": "https://localhost:8080/",
          "height": 53
        },
        "outputId": "05b9a400-cdc3-46d8-db2a-7db9e191247a"
      },
      "source": [
        "# merge same column of two dataframe in only 1\n",
        "'''\n",
        "Cadastro_Mestre_Pessoas_MERGE = Cadastro_Mestre_Pessoas_MERGE.assign(**{\n",
        "    'NU_CPF': Cadastro_Mestre_Pessoas_MERGE['nu_cpf_cidadao_CP'].mask(\n",
        "        lambda x: x == '', Cadastro_Mestre_Pessoas_MERGE['nu_cpf_cidadao_CI'])})\n",
        "'''"
      ],
      "execution_count": null,
      "outputs": [
        {
          "output_type": "execute_result",
          "data": {
            "text/plain": [
              "\"\\nCadastro_Mestre_Pessoas_MERGE = Cadastro_Mestre_Pessoas_MERGE.assign(**{\\n    'NU_CPF': Cadastro_Mestre_Pessoas_MERGE['nu_cpf_cidadao_CP'].mask(\\n        lambda x: x == '', Cadastro_Mestre_Pessoas_MERGE['nu_cpf_cidadao_CI'])})\\n\""
            ],
            "application/vnd.google.colaboratory.intrinsic+json": {
              "type": "string"
            }
          },
          "metadata": {},
          "execution_count": 105
        }
      ]
    },
    {
      "cell_type": "code",
      "metadata": {
        "id": "88072GL2PdRx"
      },
      "source": [
        "#Cadastro_Mestre_Pessoas_MERGE['NU_CPF'].value_counts()"
      ],
      "execution_count": null,
      "outputs": []
    },
    {
      "cell_type": "markdown",
      "metadata": {
        "id": "GUtUpVL28kKL"
      },
      "source": [
        "###**Data de nascimento**\n",
        "\n",
        "\n",
        "> Aqui ainda temos 17 casos onde temos a data preenchida em \"co_dim_tempo_nascimento\" mas que na coluna final agrupada continuamos com missing, logo o código [475] não está funcionando corretamente. Acho que tem a ver com o 'NaN' que não temos nas colunas. O total de missing dessa coluna deve ser 13380, mas está com 13397.\n",
        "\n",
        "\n",
        "\n",
        "\n",
        "\n",
        "\n",
        "\n"
      ]
    },
    {
      "cell_type": "code",
      "metadata": {
        "id": "OwuP2rEcGv2u",
        "colab": {
          "base_uri": "https://localhost:8080/"
        },
        "outputId": "d7de0428-6c16-4f72-a541-0bec2c1c0874"
      },
      "source": [
        "Cadastro_Mestre_Pessoas_MERGE['co_dim_tempo_nascimento'] = pd.to_datetime(Cadastro_Mestre_Pessoas_MERGE['co_dim_tempo_nascimento'].astype(str), format='%Y-%m-%d',errors='coerce')\n",
        "Cadastro_Mestre_Pessoas_MERGE['co_dim_tempo_nascimento'].isnull().sum()"
      ],
      "execution_count": null,
      "outputs": [
        {
          "output_type": "execute_result",
          "data": {
            "text/plain": [
              "135558"
            ]
          },
          "metadata": {},
          "execution_count": 107
        }
      ]
    },
    {
      "cell_type": "code",
      "metadata": {
        "colab": {
          "base_uri": "https://localhost:8080/"
        },
        "id": "KFGsFZo8NUmY",
        "outputId": "d93269e7-2a15-414b-b108-71f2ae3358fa"
      },
      "source": [
        "Cadastro_Mestre_Pessoas_MERGE['co_dim_tempo_nascimento'].value_counts()"
      ],
      "execution_count": null,
      "outputs": [
        {
          "output_type": "execute_result",
          "data": {
            "text/plain": [
              "Series([], Name: co_dim_tempo_nascimento, dtype: int64)"
            ]
          },
          "metadata": {},
          "execution_count": 108
        }
      ]
    },
    {
      "cell_type": "code",
      "metadata": {
        "id": "7e33F-SLNbXc"
      },
      "source": [
        "Cadastro_Mestre_Pessoas_MERGE['dt_nascimento_CI'] = pd.to_datetime(Cadastro_Mestre_Pessoas_MERGE['dt_nascimento_CI'].astype(str), format='%Y-%m-%d',errors='coerce')\n",
        "Cadastro_Mestre_Pessoas_MERGE['dt_nascimento_CI'].fillna(pd.NaT, inplace=True)"
      ],
      "execution_count": null,
      "outputs": []
    },
    {
      "cell_type": "code",
      "metadata": {
        "colab": {
          "base_uri": "https://localhost:8080/"
        },
        "id": "fbXfwav0NbLT",
        "outputId": "f867f4bd-9fdf-4c1d-fcdd-b765155e2b1d"
      },
      "source": [
        "Cadastro_Mestre_Pessoas_MERGE['dt_nascimento_CI'].value_counts()"
      ],
      "execution_count": null,
      "outputs": [
        {
          "output_type": "execute_result",
          "data": {
            "text/plain": [
              "1974-06-10    23\n",
              "1982-06-08    14\n",
              "1975-06-28    14\n",
              "1983-05-03    13\n",
              "1962-02-07    13\n",
              "              ..\n",
              "1977-12-04     1\n",
              "1960-02-14     1\n",
              "1997-01-15     1\n",
              "1966-08-06     1\n",
              "1936-11-25     1\n",
              "Name: dt_nascimento_CI, Length: 27920, dtype: int64"
            ]
          },
          "metadata": {},
          "execution_count": 110
        }
      ]
    },
    {
      "cell_type": "code",
      "metadata": {
        "colab": {
          "base_uri": "https://localhost:8080/"
        },
        "id": "zWgfskpILWvK",
        "outputId": "2adcd606-322f-493a-97cc-417781475e3e"
      },
      "source": [
        "Cadastro_Mestre_Pessoas_MERGE['dt_nascimento_CI'].isnull().sum()"
      ],
      "execution_count": null,
      "outputs": [
        {
          "output_type": "execute_result",
          "data": {
            "text/plain": [
              "52925"
            ]
          },
          "metadata": {},
          "execution_count": 111
        }
      ]
    },
    {
      "cell_type": "code",
      "metadata": {
        "id": "fjGSwQtNSN5V"
      },
      "source": [
        "# merge same column of two dataframe in only 1\n",
        "Cadastro_Mestre_Pessoas_MERGE = Cadastro_Mestre_Pessoas_MERGE.assign(**{\n",
        "    'DT_NASCIMENTO': Cadastro_Mestre_Pessoas_MERGE['dt_nascimento_CI'].mask(\n",
        "        lambda x: x == 'NaT', Cadastro_Mestre_Pessoas_MERGE['co_dim_tempo_nascimento'])})"
      ],
      "execution_count": null,
      "outputs": []
    },
    {
      "cell_type": "code",
      "metadata": {
        "colab": {
          "base_uri": "https://localhost:8080/"
        },
        "id": "li2s-YnUSZKW",
        "outputId": "d109ac7e-d75e-415b-a37c-955b8cb2e524"
      },
      "source": [
        "Cadastro_Mestre_Pessoas_MERGE['DT_NASCIMENTO'].isnull().sum()"
      ],
      "execution_count": null,
      "outputs": [
        {
          "output_type": "execute_result",
          "data": {
            "text/plain": [
              "52925"
            ]
          },
          "metadata": {},
          "execution_count": 113
        }
      ]
    },
    {
      "cell_type": "code",
      "metadata": {
        "colab": {
          "base_uri": "https://localhost:8080/"
        },
        "id": "8onryPHgSbxK",
        "outputId": "1b45a2c4-0ade-4d34-d097-e8deae10ad80"
      },
      "source": [
        "Cadastro_Mestre_Pessoas_MERGE['DT_NASCIMENTO'].value_counts()"
      ],
      "execution_count": null,
      "outputs": [
        {
          "output_type": "execute_result",
          "data": {
            "text/plain": [
              "1974-06-10    23\n",
              "1982-06-08    14\n",
              "1975-06-28    14\n",
              "1983-05-03    13\n",
              "1962-02-07    13\n",
              "              ..\n",
              "1977-12-04     1\n",
              "1960-02-14     1\n",
              "1997-01-15     1\n",
              "1966-08-06     1\n",
              "1936-11-25     1\n",
              "Name: DT_NASCIMENTO, Length: 27920, dtype: int64"
            ]
          },
          "metadata": {},
          "execution_count": 114
        }
      ]
    },
    {
      "cell_type": "code",
      "metadata": {
        "id": "O29uJYauSwm_"
      },
      "source": [
        "#Cadastro_Mestre_Pessoas_MERGE = Cadastro_Mestre_Pessoas_MERGE.drop(columns=['co_dim_identidade_genero_CI','co_dim_identidade_genero_CP','co_dim_sexo_CI','co_dim_sexo_CP','co_fat_cidadao_pec','co_fat_cidadao_pec_FT',\n",
        "                                                                            #'nu_cns_CP','nu_cns_CI','nu_cpf_cidadao_CP','nu_cpf_cidadao_CI','dt_nascimento_CI','co_dim_tempo_nascimento'])"
      ],
      "execution_count": null,
      "outputs": []
    },
    {
      "cell_type": "code",
      "metadata": {
        "colab": {
          "base_uri": "https://localhost:8080/"
        },
        "id": "FdISCUjgSbhP",
        "outputId": "d33d74d1-e9a2-4887-e250-dd825a1c84f2"
      },
      "source": [
        "Cadastro_Mestre_Pessoas_MERGE.shape"
      ],
      "execution_count": null,
      "outputs": [
        {
          "output_type": "execute_result",
          "data": {
            "text/plain": [
              "(135558, 23)"
            ]
          },
          "metadata": {},
          "execution_count": 116
        }
      ]
    },
    {
      "cell_type": "code",
      "metadata": {
        "colab": {
          "base_uri": "https://localhost:8080/",
          "height": 333
        },
        "id": "vbjcauafSeE-",
        "outputId": "79bd55d6-3a59-4ee3-a469-656c6bd12a24"
      },
      "source": [
        "Cadastro_Mestre_Pessoas_MERGE.head(7)"
      ],
      "execution_count": null,
      "outputs": [
        {
          "output_type": "execute_result",
          "data": {
            "text/plain": [
              "   co_fat_cidadao_pec co_dim_identidade_genero_CP co_dim_tempo_nascimento co_dim_sexo_CI  co_dim_unidade_saude_CI  co_dim_municipio_CI  co_dim_tempo co_dim_identidade_genero_CI dt_nascimento_CI co_dim_tempo_CI    _mergeA  co_seq_fat_cidadao_territorio  co_fat_familia_territorio    _mergeB  co_fat_cad_domiciliar    _mergeC  co_dim_tipo_localizacao  co_dim_municipio_CD co_dim_tempo_CD     _merge CO_DIM_IDENTIDADE_GENERO CO_DIM_SEXO DT_NASCIMENTO\n",
              "0              694899                                                 NaT            nan                      NaN                  NaN           NaN                         nan              NaT             NaT  left_only                            NaN                        NaN  left_only                    NaN  left_only                      NaN                  NaN             NaT  left_only                      nan         nan           NaT\n",
              "1              694900                                                 NaT            nan                      NaN                  NaN           NaN                         nan              NaT             NaT  left_only                            NaN                        NaN  left_only                    NaN  left_only                      NaN                  NaN             NaT  left_only                      nan         nan           NaT\n",
              "2              694901                                                 NaT            nan                      NaN                  NaN           NaN                         nan              NaT             NaT  left_only                            NaN                        NaN  left_only                    NaN  left_only                      NaN                  NaN             NaT  left_only                      nan         nan           NaT\n",
              "3              749364                         5.0                     NaT            2.0                    498.0               9196.0    20180919.0                         5.0       1992-03-21      2018-09-19       both                      1034258.0                        NaN       both                    NaN  left_only                      NaN                  NaN             NaT  left_only                      5.0         2.0    1992-03-21\n",
              "4              694902                                                 NaT            nan                      NaN                  NaN           NaN                         nan              NaT             NaT  left_only                            NaN                        NaN  left_only                    NaN  left_only                      NaN                  NaN             NaT  left_only                      nan         nan           NaT\n",
              "5              718541                         5.0                     NaT            1.0                    505.0               9196.0    20160805.0                         5.0       2013-02-28      2016-08-05       both                      2321681.0                   821474.0       both               408748.0       both                      2.0               9196.0      2017-05-25       both                      5.0         1.0    2013-02-28\n",
              "6              813648                         5.0                     NaT            nan                      NaN                  NaN           NaN                         nan              NaT             NaT  left_only                            NaN                        NaN  left_only                    NaN  left_only                      NaN                  NaN             NaT  left_only                      5.0         2.0           NaT"
            ],
            "text/html": [
              "\n",
              "  <div id=\"df-66ea1dcd-03e9-4386-a9c0-d1881756bb37\">\n",
              "    <div class=\"colab-df-container\">\n",
              "      <div>\n",
              "<style scoped>\n",
              "    .dataframe tbody tr th:only-of-type {\n",
              "        vertical-align: middle;\n",
              "    }\n",
              "\n",
              "    .dataframe tbody tr th {\n",
              "        vertical-align: top;\n",
              "    }\n",
              "\n",
              "    .dataframe thead th {\n",
              "        text-align: right;\n",
              "    }\n",
              "</style>\n",
              "<table border=\"1\" class=\"dataframe\">\n",
              "  <thead>\n",
              "    <tr style=\"text-align: right;\">\n",
              "      <th></th>\n",
              "      <th>co_fat_cidadao_pec</th>\n",
              "      <th>co_dim_identidade_genero_CP</th>\n",
              "      <th>co_dim_tempo_nascimento</th>\n",
              "      <th>co_dim_sexo_CI</th>\n",
              "      <th>co_dim_unidade_saude_CI</th>\n",
              "      <th>co_dim_municipio_CI</th>\n",
              "      <th>co_dim_tempo</th>\n",
              "      <th>co_dim_identidade_genero_CI</th>\n",
              "      <th>dt_nascimento_CI</th>\n",
              "      <th>co_dim_tempo_CI</th>\n",
              "      <th>_mergeA</th>\n",
              "      <th>co_seq_fat_cidadao_territorio</th>\n",
              "      <th>co_fat_familia_territorio</th>\n",
              "      <th>_mergeB</th>\n",
              "      <th>co_fat_cad_domiciliar</th>\n",
              "      <th>_mergeC</th>\n",
              "      <th>co_dim_tipo_localizacao</th>\n",
              "      <th>co_dim_municipio_CD</th>\n",
              "      <th>co_dim_tempo_CD</th>\n",
              "      <th>_merge</th>\n",
              "      <th>CO_DIM_IDENTIDADE_GENERO</th>\n",
              "      <th>CO_DIM_SEXO</th>\n",
              "      <th>DT_NASCIMENTO</th>\n",
              "    </tr>\n",
              "  </thead>\n",
              "  <tbody>\n",
              "    <tr>\n",
              "      <th>0</th>\n",
              "      <td>694899</td>\n",
              "      <td></td>\n",
              "      <td>NaT</td>\n",
              "      <td>nan</td>\n",
              "      <td>NaN</td>\n",
              "      <td>NaN</td>\n",
              "      <td>NaN</td>\n",
              "      <td>nan</td>\n",
              "      <td>NaT</td>\n",
              "      <td>NaT</td>\n",
              "      <td>left_only</td>\n",
              "      <td>NaN</td>\n",
              "      <td>NaN</td>\n",
              "      <td>left_only</td>\n",
              "      <td>NaN</td>\n",
              "      <td>left_only</td>\n",
              "      <td>NaN</td>\n",
              "      <td>NaN</td>\n",
              "      <td>NaT</td>\n",
              "      <td>left_only</td>\n",
              "      <td>nan</td>\n",
              "      <td>nan</td>\n",
              "      <td>NaT</td>\n",
              "    </tr>\n",
              "    <tr>\n",
              "      <th>1</th>\n",
              "      <td>694900</td>\n",
              "      <td></td>\n",
              "      <td>NaT</td>\n",
              "      <td>nan</td>\n",
              "      <td>NaN</td>\n",
              "      <td>NaN</td>\n",
              "      <td>NaN</td>\n",
              "      <td>nan</td>\n",
              "      <td>NaT</td>\n",
              "      <td>NaT</td>\n",
              "      <td>left_only</td>\n",
              "      <td>NaN</td>\n",
              "      <td>NaN</td>\n",
              "      <td>left_only</td>\n",
              "      <td>NaN</td>\n",
              "      <td>left_only</td>\n",
              "      <td>NaN</td>\n",
              "      <td>NaN</td>\n",
              "      <td>NaT</td>\n",
              "      <td>left_only</td>\n",
              "      <td>nan</td>\n",
              "      <td>nan</td>\n",
              "      <td>NaT</td>\n",
              "    </tr>\n",
              "    <tr>\n",
              "      <th>2</th>\n",
              "      <td>694901</td>\n",
              "      <td></td>\n",
              "      <td>NaT</td>\n",
              "      <td>nan</td>\n",
              "      <td>NaN</td>\n",
              "      <td>NaN</td>\n",
              "      <td>NaN</td>\n",
              "      <td>nan</td>\n",
              "      <td>NaT</td>\n",
              "      <td>NaT</td>\n",
              "      <td>left_only</td>\n",
              "      <td>NaN</td>\n",
              "      <td>NaN</td>\n",
              "      <td>left_only</td>\n",
              "      <td>NaN</td>\n",
              "      <td>left_only</td>\n",
              "      <td>NaN</td>\n",
              "      <td>NaN</td>\n",
              "      <td>NaT</td>\n",
              "      <td>left_only</td>\n",
              "      <td>nan</td>\n",
              "      <td>nan</td>\n",
              "      <td>NaT</td>\n",
              "    </tr>\n",
              "    <tr>\n",
              "      <th>3</th>\n",
              "      <td>749364</td>\n",
              "      <td>5.0</td>\n",
              "      <td>NaT</td>\n",
              "      <td>2.0</td>\n",
              "      <td>498.0</td>\n",
              "      <td>9196.0</td>\n",
              "      <td>20180919.0</td>\n",
              "      <td>5.0</td>\n",
              "      <td>1992-03-21</td>\n",
              "      <td>2018-09-19</td>\n",
              "      <td>both</td>\n",
              "      <td>1034258.0</td>\n",
              "      <td>NaN</td>\n",
              "      <td>both</td>\n",
              "      <td>NaN</td>\n",
              "      <td>left_only</td>\n",
              "      <td>NaN</td>\n",
              "      <td>NaN</td>\n",
              "      <td>NaT</td>\n",
              "      <td>left_only</td>\n",
              "      <td>5.0</td>\n",
              "      <td>2.0</td>\n",
              "      <td>1992-03-21</td>\n",
              "    </tr>\n",
              "    <tr>\n",
              "      <th>4</th>\n",
              "      <td>694902</td>\n",
              "      <td></td>\n",
              "      <td>NaT</td>\n",
              "      <td>nan</td>\n",
              "      <td>NaN</td>\n",
              "      <td>NaN</td>\n",
              "      <td>NaN</td>\n",
              "      <td>nan</td>\n",
              "      <td>NaT</td>\n",
              "      <td>NaT</td>\n",
              "      <td>left_only</td>\n",
              "      <td>NaN</td>\n",
              "      <td>NaN</td>\n",
              "      <td>left_only</td>\n",
              "      <td>NaN</td>\n",
              "      <td>left_only</td>\n",
              "      <td>NaN</td>\n",
              "      <td>NaN</td>\n",
              "      <td>NaT</td>\n",
              "      <td>left_only</td>\n",
              "      <td>nan</td>\n",
              "      <td>nan</td>\n",
              "      <td>NaT</td>\n",
              "    </tr>\n",
              "    <tr>\n",
              "      <th>5</th>\n",
              "      <td>718541</td>\n",
              "      <td>5.0</td>\n",
              "      <td>NaT</td>\n",
              "      <td>1.0</td>\n",
              "      <td>505.0</td>\n",
              "      <td>9196.0</td>\n",
              "      <td>20160805.0</td>\n",
              "      <td>5.0</td>\n",
              "      <td>2013-02-28</td>\n",
              "      <td>2016-08-05</td>\n",
              "      <td>both</td>\n",
              "      <td>2321681.0</td>\n",
              "      <td>821474.0</td>\n",
              "      <td>both</td>\n",
              "      <td>408748.0</td>\n",
              "      <td>both</td>\n",
              "      <td>2.0</td>\n",
              "      <td>9196.0</td>\n",
              "      <td>2017-05-25</td>\n",
              "      <td>both</td>\n",
              "      <td>5.0</td>\n",
              "      <td>1.0</td>\n",
              "      <td>2013-02-28</td>\n",
              "    </tr>\n",
              "    <tr>\n",
              "      <th>6</th>\n",
              "      <td>813648</td>\n",
              "      <td>5.0</td>\n",
              "      <td>NaT</td>\n",
              "      <td>nan</td>\n",
              "      <td>NaN</td>\n",
              "      <td>NaN</td>\n",
              "      <td>NaN</td>\n",
              "      <td>nan</td>\n",
              "      <td>NaT</td>\n",
              "      <td>NaT</td>\n",
              "      <td>left_only</td>\n",
              "      <td>NaN</td>\n",
              "      <td>NaN</td>\n",
              "      <td>left_only</td>\n",
              "      <td>NaN</td>\n",
              "      <td>left_only</td>\n",
              "      <td>NaN</td>\n",
              "      <td>NaN</td>\n",
              "      <td>NaT</td>\n",
              "      <td>left_only</td>\n",
              "      <td>5.0</td>\n",
              "      <td>2.0</td>\n",
              "      <td>NaT</td>\n",
              "    </tr>\n",
              "  </tbody>\n",
              "</table>\n",
              "</div>\n",
              "      <button class=\"colab-df-convert\" onclick=\"convertToInteractive('df-66ea1dcd-03e9-4386-a9c0-d1881756bb37')\"\n",
              "              title=\"Convert this dataframe to an interactive table.\"\n",
              "              style=\"display:none;\">\n",
              "        \n",
              "  <svg xmlns=\"http://www.w3.org/2000/svg\" height=\"24px\"viewBox=\"0 0 24 24\"\n",
              "       width=\"24px\">\n",
              "    <path d=\"M0 0h24v24H0V0z\" fill=\"none\"/>\n",
              "    <path d=\"M18.56 5.44l.94 2.06.94-2.06 2.06-.94-2.06-.94-.94-2.06-.94 2.06-2.06.94zm-11 1L8.5 8.5l.94-2.06 2.06-.94-2.06-.94L8.5 2.5l-.94 2.06-2.06.94zm10 10l.94 2.06.94-2.06 2.06-.94-2.06-.94-.94-2.06-.94 2.06-2.06.94z\"/><path d=\"M17.41 7.96l-1.37-1.37c-.4-.4-.92-.59-1.43-.59-.52 0-1.04.2-1.43.59L10.3 9.45l-7.72 7.72c-.78.78-.78 2.05 0 2.83L4 21.41c.39.39.9.59 1.41.59.51 0 1.02-.2 1.41-.59l7.78-7.78 2.81-2.81c.8-.78.8-2.07 0-2.86zM5.41 20L4 18.59l7.72-7.72 1.47 1.35L5.41 20z\"/>\n",
              "  </svg>\n",
              "      </button>\n",
              "      \n",
              "  <style>\n",
              "    .colab-df-container {\n",
              "      display:flex;\n",
              "      flex-wrap:wrap;\n",
              "      gap: 12px;\n",
              "    }\n",
              "\n",
              "    .colab-df-convert {\n",
              "      background-color: #E8F0FE;\n",
              "      border: none;\n",
              "      border-radius: 50%;\n",
              "      cursor: pointer;\n",
              "      display: none;\n",
              "      fill: #1967D2;\n",
              "      height: 32px;\n",
              "      padding: 0 0 0 0;\n",
              "      width: 32px;\n",
              "    }\n",
              "\n",
              "    .colab-df-convert:hover {\n",
              "      background-color: #E2EBFA;\n",
              "      box-shadow: 0px 1px 2px rgba(60, 64, 67, 0.3), 0px 1px 3px 1px rgba(60, 64, 67, 0.15);\n",
              "      fill: #174EA6;\n",
              "    }\n",
              "\n",
              "    [theme=dark] .colab-df-convert {\n",
              "      background-color: #3B4455;\n",
              "      fill: #D2E3FC;\n",
              "    }\n",
              "\n",
              "    [theme=dark] .colab-df-convert:hover {\n",
              "      background-color: #434B5C;\n",
              "      box-shadow: 0px 1px 3px 1px rgba(0, 0, 0, 0.15);\n",
              "      filter: drop-shadow(0px 1px 2px rgba(0, 0, 0, 0.3));\n",
              "      fill: #FFFFFF;\n",
              "    }\n",
              "  </style>\n",
              "\n",
              "      <script>\n",
              "        const buttonEl =\n",
              "          document.querySelector('#df-66ea1dcd-03e9-4386-a9c0-d1881756bb37 button.colab-df-convert');\n",
              "        buttonEl.style.display =\n",
              "          google.colab.kernel.accessAllowed ? 'block' : 'none';\n",
              "\n",
              "        async function convertToInteractive(key) {\n",
              "          const element = document.querySelector('#df-66ea1dcd-03e9-4386-a9c0-d1881756bb37');\n",
              "          const dataTable =\n",
              "            await google.colab.kernel.invokeFunction('convertToInteractive',\n",
              "                                                     [key], {});\n",
              "          if (!dataTable) return;\n",
              "\n",
              "          const docLinkHtml = 'Like what you see? Visit the ' +\n",
              "            '<a target=\"_blank\" href=https://colab.research.google.com/notebooks/data_table.ipynb>data table notebook</a>'\n",
              "            + ' to learn more about interactive tables.';\n",
              "          element.innerHTML = '';\n",
              "          dataTable['output_type'] = 'display_data';\n",
              "          await google.colab.output.renderOutput(dataTable, element);\n",
              "          const docLink = document.createElement('div');\n",
              "          docLink.innerHTML = docLinkHtml;\n",
              "          element.appendChild(docLink);\n",
              "        }\n",
              "      </script>\n",
              "    </div>\n",
              "  </div>\n",
              "  "
            ]
          },
          "metadata": {},
          "execution_count": 117
        }
      ]
    },
    {
      "cell_type": "markdown",
      "metadata": {
        "id": "7tqUcJT2RHBG"
      },
      "source": [
        "# Exportando para Excel"
      ]
    },
    {
      "cell_type": "code",
      "metadata": {
        "id": "sbk1vCjg_q4F"
      },
      "source": [
        "#Cadastro_Mestre_Pessoas_MERGE.to_excel('/content/gdrive/Shareddrives/eSUS_Colab/IRECÊ/PAINEL_IRECE/OUTPUT/IRECE_CADASTRO_MESTRE_PESSOAS.xlsx')"
      ],
      "execution_count": null,
      "outputs": []
    },
    {
      "cell_type": "code",
      "source": [
        "Cadastro_Mestre_Pessoas_MERGE.to_excel('/content/gdrive/Shareddrives/eSUS_Colab/PAINEL_OURO_PRETO/OUTPUT/OURO_PRETO_CADASTRO_MESTRE_PESSOAS_PRODUCAO.xlsx')"
      ],
      "metadata": {
        "id": "lA3z8DYgCUIC"
      },
      "execution_count": null,
      "outputs": []
    },
    {
      "cell_type": "code",
      "source": [
        "#DATA_IRECE = pd.read_excel('/content/gdrive/Shareddrives/eSUS_Colab/IRECÊ/PAINEL_IRECE/OUTPUT/IRECE_CADASTRO_MESTRE_PESSOAS.xlsx')"
      ],
      "metadata": {
        "id": "AGa63NOC_vP8"
      },
      "execution_count": null,
      "outputs": []
    }
  ]
}